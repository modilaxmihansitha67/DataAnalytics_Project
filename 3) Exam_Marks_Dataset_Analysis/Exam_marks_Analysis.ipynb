{
 "cells": [
  {
   "cell_type": "markdown",
   "id": "7785b4a1-96f9-4f79-ac6e-4e48ecb1c166",
   "metadata": {},
   "source": [
    "#  M.LAXMI HANSITHA\n",
    "# 2211CS010330\n",
    "# GROUP-4\n",
    "# ANALYSIS ON EXAM MARKS ANALYSIS"
   ]
  },
  {
   "cell_type": "markdown",
   "id": "caef7e39-4571-4206-aaff-1870c22bb48b",
   "metadata": {},
   "source": [
    "# Description of the dataset\n",
    "\n",
    "The MIDMARKS dataset contains the midterm exam scores of students from the Alpha section in Semester 2, Mid 1. \n",
    "It includes 718 entries, but some records contain missing values.\n",
    "\n",
    "Dataset Overview:\n",
    "Each row represents a student's performance in multiple subjects.\n",
    "The columns include serial number (S.NO), section name, and marks in six subjects:\n",
    "DV (Discrete Mathematics/Varied Subject)\n",
    "PP (Programming Principles)\n",
    "BEEE (Basic Electrical & Electronics Engineering)\n",
    "FL (Foreign Language)\n",
    "FIMS (Fundamentals of Information Management Systems)"
   ]
  },
  {
   "cell_type": "markdown",
   "id": "1a4d3a49-6caf-450d-80aa-4f0e88e17411",
   "metadata": {},
   "source": [
    "# Overview :\n",
    "The MIDMARKS dataset contains midterm exam scores of students from the Alpha section in Semester 2, Mid 1. It includes 718 entries, but some records have missing values.\n",
    "\n",
    "Each student’s performance is recorded across six subjects: DV (Discrete Mathematics/Varied Subject), M-II (Mathematics-II), PP (Programming Principles), BEEE (Basic Electrical & Electronics Engineering), FL (Foreign Language), and FIMS (Fundamentals of Information Management Systems). The dataset also includes a section identifier to classify students.\n",
    "\n",
    "By analyzing this dataset, we can determine average scores, top performers, struggling students, and subject-wise trends. This information can help in identifying weak areas and improving academic performance."
   ]
  },
  {
   "cell_type": "code",
   "execution_count": 29,
   "id": "5fba0147-998d-4e7d-ade3-fbd4187fd945",
   "metadata": {},
   "outputs": [
    {
     "data": {
      "text/html": [
       "<div>\n",
       "<style scoped>\n",
       "    .dataframe tbody tr th:only-of-type {\n",
       "        vertical-align: middle;\n",
       "    }\n",
       "\n",
       "    .dataframe tbody tr th {\n",
       "        vertical-align: top;\n",
       "    }\n",
       "\n",
       "    .dataframe thead th {\n",
       "        text-align: right;\n",
       "    }\n",
       "</style>\n",
       "<table border=\"1\" class=\"dataframe\">\n",
       "  <thead>\n",
       "    <tr style=\"text-align: right;\">\n",
       "      <th></th>\n",
       "      <th>S.NO</th>\n",
       "      <th>SECTION</th>\n",
       "      <th>DV</th>\n",
       "      <th>M-II</th>\n",
       "      <th>PP</th>\n",
       "      <th>BEEE</th>\n",
       "      <th>FL</th>\n",
       "      <th>FIMS</th>\n",
       "    </tr>\n",
       "  </thead>\n",
       "  <tbody>\n",
       "    <tr>\n",
       "      <th>0</th>\n",
       "      <td>1.0</td>\n",
       "      <td>ALPHA</td>\n",
       "      <td>12</td>\n",
       "      <td>0</td>\n",
       "      <td>17</td>\n",
       "      <td>9</td>\n",
       "      <td>19</td>\n",
       "      <td>15</td>\n",
       "    </tr>\n",
       "    <tr>\n",
       "      <th>1</th>\n",
       "      <td>2.0</td>\n",
       "      <td>ALPHA</td>\n",
       "      <td>19</td>\n",
       "      <td>12</td>\n",
       "      <td>16</td>\n",
       "      <td>16</td>\n",
       "      <td>18</td>\n",
       "      <td>3</td>\n",
       "    </tr>\n",
       "    <tr>\n",
       "      <th>2</th>\n",
       "      <td>3.0</td>\n",
       "      <td>ALPHA</td>\n",
       "      <td>18</td>\n",
       "      <td>14</td>\n",
       "      <td>18</td>\n",
       "      <td>18</td>\n",
       "      <td>18</td>\n",
       "      <td>16</td>\n",
       "    </tr>\n",
       "    <tr>\n",
       "      <th>3</th>\n",
       "      <td>4.0</td>\n",
       "      <td>ALPHA</td>\n",
       "      <td>15</td>\n",
       "      <td>9</td>\n",
       "      <td>19</td>\n",
       "      <td>17</td>\n",
       "      <td>19</td>\n",
       "      <td>15</td>\n",
       "    </tr>\n",
       "    <tr>\n",
       "      <th>4</th>\n",
       "      <td>5.0</td>\n",
       "      <td>ALPHA</td>\n",
       "      <td>18</td>\n",
       "      <td>17</td>\n",
       "      <td>19</td>\n",
       "      <td>19</td>\n",
       "      <td>20</td>\n",
       "      <td>18</td>\n",
       "    </tr>\n",
       "    <tr>\n",
       "      <th>...</th>\n",
       "      <td>...</td>\n",
       "      <td>...</td>\n",
       "      <td>...</td>\n",
       "      <td>...</td>\n",
       "      <td>...</td>\n",
       "      <td>...</td>\n",
       "      <td>...</td>\n",
       "      <td>...</td>\n",
       "    </tr>\n",
       "    <tr>\n",
       "      <th>713</th>\n",
       "      <td>NaN</td>\n",
       "      <td>ZETA</td>\n",
       "      <td>19</td>\n",
       "      <td>8</td>\n",
       "      <td>8</td>\n",
       "      <td>19</td>\n",
       "      <td>17</td>\n",
       "      <td>18</td>\n",
       "    </tr>\n",
       "    <tr>\n",
       "      <th>714</th>\n",
       "      <td>NaN</td>\n",
       "      <td>ZETA</td>\n",
       "      <td>12</td>\n",
       "      <td>1</td>\n",
       "      <td>7</td>\n",
       "      <td>10</td>\n",
       "      <td>20</td>\n",
       "      <td>8</td>\n",
       "    </tr>\n",
       "    <tr>\n",
       "      <th>715</th>\n",
       "      <td>NaN</td>\n",
       "      <td>ZETA</td>\n",
       "      <td>17</td>\n",
       "      <td>6</td>\n",
       "      <td>14</td>\n",
       "      <td>14</td>\n",
       "      <td>17</td>\n",
       "      <td>18</td>\n",
       "    </tr>\n",
       "    <tr>\n",
       "      <th>716</th>\n",
       "      <td>NaN</td>\n",
       "      <td>ZETA</td>\n",
       "      <td>12</td>\n",
       "      <td>1</td>\n",
       "      <td>6</td>\n",
       "      <td>7</td>\n",
       "      <td>15</td>\n",
       "      <td>12</td>\n",
       "    </tr>\n",
       "    <tr>\n",
       "      <th>717</th>\n",
       "      <td>NaN</td>\n",
       "      <td>ZETA</td>\n",
       "      <td>19</td>\n",
       "      <td>14</td>\n",
       "      <td>17</td>\n",
       "      <td>16</td>\n",
       "      <td>20</td>\n",
       "      <td>19</td>\n",
       "    </tr>\n",
       "  </tbody>\n",
       "</table>\n",
       "<p>718 rows × 8 columns</p>\n",
       "</div>"
      ],
      "text/plain": [
       "     S.NO SECTION  DV M-II  PP BEEE  FL FIMS\n",
       "0     1.0   ALPHA  12    0  17    9  19   15\n",
       "1     2.0   ALPHA  19   12  16   16  18    3\n",
       "2     3.0   ALPHA  18   14  18   18  18   16\n",
       "3     4.0   ALPHA  15    9  19   17  19   15\n",
       "4     5.0   ALPHA  18   17  19   19  20   18\n",
       "..    ...     ...  ..  ...  ..  ...  ..  ...\n",
       "713   NaN    ZETA  19    8   8   19  17   18\n",
       "714   NaN    ZETA  12    1   7   10  20    8\n",
       "715   NaN    ZETA  17    6  14   14  17   18\n",
       "716   NaN    ZETA  12    1   6    7  15   12\n",
       "717   NaN    ZETA  19   14  17   16  20   19\n",
       "\n",
       "[718 rows x 8 columns]"
      ]
     },
     "execution_count": 29,
     "metadata": {},
     "output_type": "execute_result"
    }
   ],
   "source": [
    "import pandas as pd\n",
    "import matplotlib.pyplot as plt\n",
    "a = pd.read_excel(r\"C:\\Users\\modil\\Downloads\\DA\\MIDMARKS.xlsx\")\n",
    "a"
   ]
  },
  {
   "cell_type": "code",
   "execution_count": 31,
   "id": "766e686c-1abc-429d-af9f-ff8fa6a1bdd4",
   "metadata": {},
   "outputs": [
    {
     "name": "stdout",
     "output_type": "stream",
     "text": [
      "<class 'pandas.core.frame.DataFrame'>\n",
      "RangeIndex: 718 entries, 0 to 717\n",
      "Data columns (total 8 columns):\n",
      " #   Column   Non-Null Count  Dtype  \n",
      "---  ------   --------------  -----  \n",
      " 0   S.NO     601 non-null    float64\n",
      " 1   SECTION  691 non-null    object \n",
      " 2   DV       716 non-null    object \n",
      " 3   M-II     716 non-null    object \n",
      " 4   PP       716 non-null    object \n",
      " 5   BEEE     716 non-null    object \n",
      " 6   FL       715 non-null    object \n",
      " 7   FIMS     716 non-null    object \n",
      "dtypes: float64(1), object(7)\n",
      "memory usage: 45.0+ KB\n"
     ]
    }
   ],
   "source": [
    "a.info()"
   ]
  },
  {
   "cell_type": "code",
   "execution_count": 33,
   "id": "b5068844-f83e-4a6e-ad42-077520a716fb",
   "metadata": {},
   "outputs": [
    {
     "data": {
      "text/html": [
       "<div>\n",
       "<style scoped>\n",
       "    .dataframe tbody tr th:only-of-type {\n",
       "        vertical-align: middle;\n",
       "    }\n",
       "\n",
       "    .dataframe tbody tr th {\n",
       "        vertical-align: top;\n",
       "    }\n",
       "\n",
       "    .dataframe thead th {\n",
       "        text-align: right;\n",
       "    }\n",
       "</style>\n",
       "<table border=\"1\" class=\"dataframe\">\n",
       "  <thead>\n",
       "    <tr style=\"text-align: right;\">\n",
       "      <th></th>\n",
       "      <th>S.NO</th>\n",
       "      <th>SECTION</th>\n",
       "      <th>DV</th>\n",
       "      <th>M-II</th>\n",
       "      <th>PP</th>\n",
       "      <th>BEEE</th>\n",
       "      <th>FL</th>\n",
       "      <th>FIMS</th>\n",
       "    </tr>\n",
       "  </thead>\n",
       "  <tbody>\n",
       "    <tr>\n",
       "      <th>0</th>\n",
       "      <td>1.0</td>\n",
       "      <td>ALPHA</td>\n",
       "      <td>12</td>\n",
       "      <td>0</td>\n",
       "      <td>17</td>\n",
       "      <td>9</td>\n",
       "      <td>19</td>\n",
       "      <td>15</td>\n",
       "    </tr>\n",
       "    <tr>\n",
       "      <th>1</th>\n",
       "      <td>2.0</td>\n",
       "      <td>ALPHA</td>\n",
       "      <td>19</td>\n",
       "      <td>12</td>\n",
       "      <td>16</td>\n",
       "      <td>16</td>\n",
       "      <td>18</td>\n",
       "      <td>3</td>\n",
       "    </tr>\n",
       "    <tr>\n",
       "      <th>2</th>\n",
       "      <td>3.0</td>\n",
       "      <td>ALPHA</td>\n",
       "      <td>18</td>\n",
       "      <td>14</td>\n",
       "      <td>18</td>\n",
       "      <td>18</td>\n",
       "      <td>18</td>\n",
       "      <td>16</td>\n",
       "    </tr>\n",
       "    <tr>\n",
       "      <th>3</th>\n",
       "      <td>4.0</td>\n",
       "      <td>ALPHA</td>\n",
       "      <td>15</td>\n",
       "      <td>9</td>\n",
       "      <td>19</td>\n",
       "      <td>17</td>\n",
       "      <td>19</td>\n",
       "      <td>15</td>\n",
       "    </tr>\n",
       "    <tr>\n",
       "      <th>4</th>\n",
       "      <td>5.0</td>\n",
       "      <td>ALPHA</td>\n",
       "      <td>18</td>\n",
       "      <td>17</td>\n",
       "      <td>19</td>\n",
       "      <td>19</td>\n",
       "      <td>20</td>\n",
       "      <td>18</td>\n",
       "    </tr>\n",
       "    <tr>\n",
       "      <th>...</th>\n",
       "      <td>...</td>\n",
       "      <td>...</td>\n",
       "      <td>...</td>\n",
       "      <td>...</td>\n",
       "      <td>...</td>\n",
       "      <td>...</td>\n",
       "      <td>...</td>\n",
       "      <td>...</td>\n",
       "    </tr>\n",
       "    <tr>\n",
       "      <th>713</th>\n",
       "      <td>NaN</td>\n",
       "      <td>ZETA</td>\n",
       "      <td>19</td>\n",
       "      <td>8</td>\n",
       "      <td>8</td>\n",
       "      <td>19</td>\n",
       "      <td>17</td>\n",
       "      <td>18</td>\n",
       "    </tr>\n",
       "    <tr>\n",
       "      <th>714</th>\n",
       "      <td>NaN</td>\n",
       "      <td>ZETA</td>\n",
       "      <td>12</td>\n",
       "      <td>1</td>\n",
       "      <td>7</td>\n",
       "      <td>10</td>\n",
       "      <td>20</td>\n",
       "      <td>8</td>\n",
       "    </tr>\n",
       "    <tr>\n",
       "      <th>715</th>\n",
       "      <td>NaN</td>\n",
       "      <td>ZETA</td>\n",
       "      <td>17</td>\n",
       "      <td>6</td>\n",
       "      <td>14</td>\n",
       "      <td>14</td>\n",
       "      <td>17</td>\n",
       "      <td>18</td>\n",
       "    </tr>\n",
       "    <tr>\n",
       "      <th>716</th>\n",
       "      <td>NaN</td>\n",
       "      <td>ZETA</td>\n",
       "      <td>12</td>\n",
       "      <td>1</td>\n",
       "      <td>6</td>\n",
       "      <td>7</td>\n",
       "      <td>15</td>\n",
       "      <td>12</td>\n",
       "    </tr>\n",
       "    <tr>\n",
       "      <th>717</th>\n",
       "      <td>NaN</td>\n",
       "      <td>ZETA</td>\n",
       "      <td>19</td>\n",
       "      <td>14</td>\n",
       "      <td>17</td>\n",
       "      <td>16</td>\n",
       "      <td>20</td>\n",
       "      <td>19</td>\n",
       "    </tr>\n",
       "  </tbody>\n",
       "</table>\n",
       "<p>718 rows × 8 columns</p>\n",
       "</div>"
      ],
      "text/plain": [
       "     S.NO SECTION  DV M-II  PP BEEE  FL FIMS\n",
       "0     1.0   ALPHA  12    0  17    9  19   15\n",
       "1     2.0   ALPHA  19   12  16   16  18    3\n",
       "2     3.0   ALPHA  18   14  18   18  18   16\n",
       "3     4.0   ALPHA  15    9  19   17  19   15\n",
       "4     5.0   ALPHA  18   17  19   19  20   18\n",
       "..    ...     ...  ..  ...  ..  ...  ..  ...\n",
       "713   NaN    ZETA  19    8   8   19  17   18\n",
       "714   NaN    ZETA  12    1   7   10  20    8\n",
       "715   NaN    ZETA  17    6  14   14  17   18\n",
       "716   NaN    ZETA  12    1   6    7  15   12\n",
       "717   NaN    ZETA  19   14  17   16  20   19\n",
       "\n",
       "[718 rows x 8 columns]"
      ]
     },
     "execution_count": 33,
     "metadata": {},
     "output_type": "execute_result"
    }
   ],
   "source": [
    "a['SECTION'] = a['SECTION'].fillna('SIGMA') \n",
    "a['SECTION'] = a['SECTION'].replace('', 'SIGMA')\n",
    "a"
   ]
  },
  {
   "cell_type": "code",
   "execution_count": 35,
   "id": "91fb149a-10b6-4aa7-a8c5-c11897d65faf",
   "metadata": {},
   "outputs": [
    {
     "data": {
      "text/html": [
       "<div>\n",
       "<style scoped>\n",
       "    .dataframe tbody tr th:only-of-type {\n",
       "        vertical-align: middle;\n",
       "    }\n",
       "\n",
       "    .dataframe tbody tr th {\n",
       "        vertical-align: top;\n",
       "    }\n",
       "\n",
       "    .dataframe thead th {\n",
       "        text-align: right;\n",
       "    }\n",
       "</style>\n",
       "<table border=\"1\" class=\"dataframe\">\n",
       "  <thead>\n",
       "    <tr style=\"text-align: right;\">\n",
       "      <th></th>\n",
       "      <th>S.NO</th>\n",
       "      <th>SECTION</th>\n",
       "      <th>DV</th>\n",
       "      <th>M-II</th>\n",
       "      <th>PP</th>\n",
       "      <th>BEEE</th>\n",
       "      <th>FL</th>\n",
       "      <th>FIMS</th>\n",
       "    </tr>\n",
       "  </thead>\n",
       "  <tbody>\n",
       "    <tr>\n",
       "      <th>0</th>\n",
       "      <td>1</td>\n",
       "      <td>ALPHA</td>\n",
       "      <td>12</td>\n",
       "      <td>0</td>\n",
       "      <td>17</td>\n",
       "      <td>9</td>\n",
       "      <td>19</td>\n",
       "      <td>15</td>\n",
       "    </tr>\n",
       "    <tr>\n",
       "      <th>1</th>\n",
       "      <td>2</td>\n",
       "      <td>ALPHA</td>\n",
       "      <td>19</td>\n",
       "      <td>12</td>\n",
       "      <td>16</td>\n",
       "      <td>16</td>\n",
       "      <td>18</td>\n",
       "      <td>3</td>\n",
       "    </tr>\n",
       "    <tr>\n",
       "      <th>2</th>\n",
       "      <td>3</td>\n",
       "      <td>ALPHA</td>\n",
       "      <td>18</td>\n",
       "      <td>14</td>\n",
       "      <td>18</td>\n",
       "      <td>18</td>\n",
       "      <td>18</td>\n",
       "      <td>16</td>\n",
       "    </tr>\n",
       "    <tr>\n",
       "      <th>3</th>\n",
       "      <td>4</td>\n",
       "      <td>ALPHA</td>\n",
       "      <td>15</td>\n",
       "      <td>9</td>\n",
       "      <td>19</td>\n",
       "      <td>17</td>\n",
       "      <td>19</td>\n",
       "      <td>15</td>\n",
       "    </tr>\n",
       "    <tr>\n",
       "      <th>4</th>\n",
       "      <td>5</td>\n",
       "      <td>ALPHA</td>\n",
       "      <td>18</td>\n",
       "      <td>17</td>\n",
       "      <td>19</td>\n",
       "      <td>19</td>\n",
       "      <td>20</td>\n",
       "      <td>18</td>\n",
       "    </tr>\n",
       "    <tr>\n",
       "      <th>...</th>\n",
       "      <td>...</td>\n",
       "      <td>...</td>\n",
       "      <td>...</td>\n",
       "      <td>...</td>\n",
       "      <td>...</td>\n",
       "      <td>...</td>\n",
       "      <td>...</td>\n",
       "      <td>...</td>\n",
       "    </tr>\n",
       "    <tr>\n",
       "      <th>713</th>\n",
       "      <td>714</td>\n",
       "      <td>ZETA</td>\n",
       "      <td>19</td>\n",
       "      <td>8</td>\n",
       "      <td>8</td>\n",
       "      <td>19</td>\n",
       "      <td>17</td>\n",
       "      <td>18</td>\n",
       "    </tr>\n",
       "    <tr>\n",
       "      <th>714</th>\n",
       "      <td>715</td>\n",
       "      <td>ZETA</td>\n",
       "      <td>12</td>\n",
       "      <td>1</td>\n",
       "      <td>7</td>\n",
       "      <td>10</td>\n",
       "      <td>20</td>\n",
       "      <td>8</td>\n",
       "    </tr>\n",
       "    <tr>\n",
       "      <th>715</th>\n",
       "      <td>716</td>\n",
       "      <td>ZETA</td>\n",
       "      <td>17</td>\n",
       "      <td>6</td>\n",
       "      <td>14</td>\n",
       "      <td>14</td>\n",
       "      <td>17</td>\n",
       "      <td>18</td>\n",
       "    </tr>\n",
       "    <tr>\n",
       "      <th>716</th>\n",
       "      <td>717</td>\n",
       "      <td>ZETA</td>\n",
       "      <td>12</td>\n",
       "      <td>1</td>\n",
       "      <td>6</td>\n",
       "      <td>7</td>\n",
       "      <td>15</td>\n",
       "      <td>12</td>\n",
       "    </tr>\n",
       "    <tr>\n",
       "      <th>717</th>\n",
       "      <td>718</td>\n",
       "      <td>ZETA</td>\n",
       "      <td>19</td>\n",
       "      <td>14</td>\n",
       "      <td>17</td>\n",
       "      <td>16</td>\n",
       "      <td>20</td>\n",
       "      <td>19</td>\n",
       "    </tr>\n",
       "  </tbody>\n",
       "</table>\n",
       "<p>718 rows × 8 columns</p>\n",
       "</div>"
      ],
      "text/plain": [
       "     S.NO SECTION  DV M-II  PP BEEE  FL FIMS\n",
       "0       1   ALPHA  12    0  17    9  19   15\n",
       "1       2   ALPHA  19   12  16   16  18    3\n",
       "2       3   ALPHA  18   14  18   18  18   16\n",
       "3       4   ALPHA  15    9  19   17  19   15\n",
       "4       5   ALPHA  18   17  19   19  20   18\n",
       "..    ...     ...  ..  ...  ..  ...  ..  ...\n",
       "713   714    ZETA  19    8   8   19  17   18\n",
       "714   715    ZETA  12    1   7   10  20    8\n",
       "715   716    ZETA  17    6  14   14  17   18\n",
       "716   717    ZETA  12    1   6    7  15   12\n",
       "717   718    ZETA  19   14  17   16  20   19\n",
       "\n",
       "[718 rows x 8 columns]"
      ]
     },
     "execution_count": 35,
     "metadata": {},
     "output_type": "execute_result"
    }
   ],
   "source": [
    "a['S.NO'] = range(1, len(a) + 1)\n",
    "a"
   ]
  },
  {
   "cell_type": "code",
   "execution_count": 37,
   "id": "9fe84513-60f7-43d3-866c-1bbc5a886a06",
   "metadata": {},
   "outputs": [
    {
     "name": "stdout",
     "output_type": "stream",
     "text": [
      "<class 'pandas.core.frame.DataFrame'>\n",
      "RangeIndex: 718 entries, 0 to 717\n",
      "Data columns (total 8 columns):\n",
      " #   Column   Non-Null Count  Dtype \n",
      "---  ------   --------------  ----- \n",
      " 0   S.NO     718 non-null    int64 \n",
      " 1   SECTION  718 non-null    object\n",
      " 2   DV       716 non-null    object\n",
      " 3   M-II     716 non-null    object\n",
      " 4   PP       716 non-null    object\n",
      " 5   BEEE     716 non-null    object\n",
      " 6   FL       715 non-null    object\n",
      " 7   FIMS     716 non-null    object\n",
      "dtypes: int64(1), object(7)\n",
      "memory usage: 45.0+ KB\n"
     ]
    }
   ],
   "source": [
    "a.info()"
   ]
  },
  {
   "cell_type": "code",
   "execution_count": 39,
   "id": "5f8f2f15-eb27-4c59-a1b7-b98babaf1fdf",
   "metadata": {},
   "outputs": [],
   "source": [
    "a['FL'] = a['FL'].fillna(0) \n",
    "a=a.dropna()"
   ]
  },
  {
   "cell_type": "code",
   "execution_count": 41,
   "id": "34765b70-2af7-4e24-b0c6-56e005d27bfc",
   "metadata": {},
   "outputs": [
    {
     "name": "stdout",
     "output_type": "stream",
     "text": [
      "<class 'pandas.core.frame.DataFrame'>\n",
      "Index: 716 entries, 0 to 717\n",
      "Data columns (total 8 columns):\n",
      " #   Column   Non-Null Count  Dtype \n",
      "---  ------   --------------  ----- \n",
      " 0   S.NO     716 non-null    int64 \n",
      " 1   SECTION  716 non-null    object\n",
      " 2   DV       716 non-null    object\n",
      " 3   M-II     716 non-null    object\n",
      " 4   PP       716 non-null    object\n",
      " 5   BEEE     716 non-null    object\n",
      " 6   FL       716 non-null    object\n",
      " 7   FIMS     716 non-null    object\n",
      "dtypes: int64(1), object(7)\n",
      "memory usage: 50.3+ KB\n"
     ]
    }
   ],
   "source": [
    "a.info()"
   ]
  },
  {
   "cell_type": "code",
   "execution_count": 43,
   "id": "47e5a22d-a242-413e-9e09-5f48ebb5e71f",
   "metadata": {},
   "outputs": [
    {
     "data": {
      "text/plain": [
       "(716, 8)"
      ]
     },
     "execution_count": 43,
     "metadata": {},
     "output_type": "execute_result"
    }
   ],
   "source": [
    "a.shape"
   ]
  },
  {
   "cell_type": "code",
   "execution_count": 45,
   "id": "baa6c0e5-b0d6-4615-ac4d-360fe505e626",
   "metadata": {},
   "outputs": [
    {
     "data": {
      "text/plain": [
       "(716, 8)"
      ]
     },
     "execution_count": 45,
     "metadata": {},
     "output_type": "execute_result"
    }
   ],
   "source": [
    "a.shape"
   ]
  },
  {
   "cell_type": "code",
   "execution_count": 47,
   "id": "3169556e-223a-4492-97cb-d35001a238db",
   "metadata": {},
   "outputs": [
    {
     "name": "stdout",
     "output_type": "stream",
     "text": [
      "<class 'pandas.core.frame.DataFrame'>\n",
      "Index: 716 entries, 0 to 717\n",
      "Data columns (total 8 columns):\n",
      " #   Column   Non-Null Count  Dtype \n",
      "---  ------   --------------  ----- \n",
      " 0   S.NO     716 non-null    int64 \n",
      " 1   SECTION  716 non-null    object\n",
      " 2   DV       716 non-null    object\n",
      " 3   M-II     716 non-null    object\n",
      " 4   PP       716 non-null    object\n",
      " 5   BEEE     716 non-null    object\n",
      " 6   FL       716 non-null    object\n",
      " 7   FIMS     716 non-null    object\n",
      "dtypes: int64(1), object(7)\n",
      "memory usage: 50.3+ KB\n"
     ]
    }
   ],
   "source": [
    "a.info()"
   ]
  },
  {
   "cell_type": "code",
   "execution_count": 49,
   "id": "f03f9a25-7555-4563-9af8-93affc66fe61",
   "metadata": {},
   "outputs": [
    {
     "data": {
      "image/png": "[encoded data removed]",
      "text/plain": [
       "<Figure size 640x480 with 1 Axes>"
      ]
     },
     "metadata": {},
     "output_type": "display_data"
    }
   ],
   "source": [
    "a.plot()\n",
    "plt.show()"
   ]
  },
  {
   "cell_type": "code",
   "execution_count": 51,
   "id": "3e0c9880-faaf-415d-b1d4-b8b464e6d7dc",
   "metadata": {},
   "outputs": [],
   "source": [
    " subject_columns = ['DV', 'M-II', 'PP', 'BEEE', 'FL', 'FIMS']"
   ]
  },
  {
   "cell_type": "code",
   "execution_count": 53,
   "id": "7979decd-0123-4358-a7fb-cfb636085f7c",
   "metadata": {},
   "outputs": [
    {
     "name": "stderr",
     "output_type": "stream",
     "text": [
      "C:\\Users\\modil\\AppData\\Local\\Temp\\ipykernel_19068\\4290544274.py:1: SettingWithCopyWarning: \n",
      "A value is trying to be set on a copy of a slice from a DataFrame.\n",
      "Try using .loc[row_indexer,col_indexer] = value instead\n",
      "\n",
      "See the caveats in the documentation: https://pandas.pydata.org/pandas-docs/stable/user_guide/indexing.html#returning-a-view-versus-a-copy\n",
      "  a[subject_columns] = a[subject_columns].apply(pd.to_numeric, errors='coerce')\n"
     ]
    }
   ],
   "source": [
    "a[subject_columns] = a[subject_columns].apply(pd.to_numeric, errors='coerce')"
   ]
  },
  {
   "cell_type": "code",
   "execution_count": 55,
   "id": "76738b96-7cf2-48a5-9a96-dc360fee2c35",
   "metadata": {},
   "outputs": [
    {
     "name": "stderr",
     "output_type": "stream",
     "text": [
      "C:\\Users\\modil\\AppData\\Local\\Temp\\ipykernel_19068\\192558215.py:1: SettingWithCopyWarning: \n",
      "A value is trying to be set on a copy of a slice from a DataFrame.\n",
      "Try using .loc[row_indexer,col_indexer] = value instead\n",
      "\n",
      "See the caveats in the documentation: https://pandas.pydata.org/pandas-docs/stable/user_guide/indexing.html#returning-a-view-versus-a-copy\n",
      "  a[subject_columns] = a[subject_columns].fillna(0)\n"
     ]
    }
   ],
   "source": [
    "a[subject_columns] = a[subject_columns].fillna(0)"
   ]
  },
  {
   "cell_type": "code",
   "execution_count": 57,
   "id": "f09561de-888b-4319-b567-ff4d1ceebcb6",
   "metadata": {},
   "outputs": [
    {
     "data": {
      "text/html": [
       "<div>\n",
       "<style scoped>\n",
       "    .dataframe tbody tr th:only-of-type {\n",
       "        vertical-align: middle;\n",
       "    }\n",
       "\n",
       "    .dataframe tbody tr th {\n",
       "        vertical-align: top;\n",
       "    }\n",
       "\n",
       "    .dataframe thead th {\n",
       "        text-align: right;\n",
       "    }\n",
       "</style>\n",
       "<table border=\"1\" class=\"dataframe\">\n",
       "  <thead>\n",
       "    <tr style=\"text-align: right;\">\n",
       "      <th></th>\n",
       "      <th>S.NO</th>\n",
       "      <th>SECTION</th>\n",
       "      <th>DV</th>\n",
       "      <th>M-II</th>\n",
       "      <th>PP</th>\n",
       "      <th>BEEE</th>\n",
       "      <th>FL</th>\n",
       "      <th>FIMS</th>\n",
       "    </tr>\n",
       "  </thead>\n",
       "  <tbody>\n",
       "    <tr>\n",
       "      <th>0</th>\n",
       "      <td>1</td>\n",
       "      <td>ALPHA</td>\n",
       "      <td>12.0</td>\n",
       "      <td>0.0</td>\n",
       "      <td>17.0</td>\n",
       "      <td>9.0</td>\n",
       "      <td>19.0</td>\n",
       "      <td>15.0</td>\n",
       "    </tr>\n",
       "    <tr>\n",
       "      <th>1</th>\n",
       "      <td>2</td>\n",
       "      <td>ALPHA</td>\n",
       "      <td>19.0</td>\n",
       "      <td>12.0</td>\n",
       "      <td>16.0</td>\n",
       "      <td>16.0</td>\n",
       "      <td>18.0</td>\n",
       "      <td>3.0</td>\n",
       "    </tr>\n",
       "    <tr>\n",
       "      <th>2</th>\n",
       "      <td>3</td>\n",
       "      <td>ALPHA</td>\n",
       "      <td>18.0</td>\n",
       "      <td>14.0</td>\n",
       "      <td>18.0</td>\n",
       "      <td>18.0</td>\n",
       "      <td>18.0</td>\n",
       "      <td>16.0</td>\n",
       "    </tr>\n",
       "    <tr>\n",
       "      <th>3</th>\n",
       "      <td>4</td>\n",
       "      <td>ALPHA</td>\n",
       "      <td>15.0</td>\n",
       "      <td>9.0</td>\n",
       "      <td>19.0</td>\n",
       "      <td>17.0</td>\n",
       "      <td>19.0</td>\n",
       "      <td>15.0</td>\n",
       "    </tr>\n",
       "    <tr>\n",
       "      <th>4</th>\n",
       "      <td>5</td>\n",
       "      <td>ALPHA</td>\n",
       "      <td>18.0</td>\n",
       "      <td>17.0</td>\n",
       "      <td>19.0</td>\n",
       "      <td>19.0</td>\n",
       "      <td>20.0</td>\n",
       "      <td>18.0</td>\n",
       "    </tr>\n",
       "    <tr>\n",
       "      <th>...</th>\n",
       "      <td>...</td>\n",
       "      <td>...</td>\n",
       "      <td>...</td>\n",
       "      <td>...</td>\n",
       "      <td>...</td>\n",
       "      <td>...</td>\n",
       "      <td>...</td>\n",
       "      <td>...</td>\n",
       "    </tr>\n",
       "    <tr>\n",
       "      <th>713</th>\n",
       "      <td>714</td>\n",
       "      <td>ZETA</td>\n",
       "      <td>19.0</td>\n",
       "      <td>8.0</td>\n",
       "      <td>8.0</td>\n",
       "      <td>19.0</td>\n",
       "      <td>17.0</td>\n",
       "      <td>18.0</td>\n",
       "    </tr>\n",
       "    <tr>\n",
       "      <th>714</th>\n",
       "      <td>715</td>\n",
       "      <td>ZETA</td>\n",
       "      <td>12.0</td>\n",
       "      <td>1.0</td>\n",
       "      <td>7.0</td>\n",
       "      <td>10.0</td>\n",
       "      <td>20.0</td>\n",
       "      <td>8.0</td>\n",
       "    </tr>\n",
       "    <tr>\n",
       "      <th>715</th>\n",
       "      <td>716</td>\n",
       "      <td>ZETA</td>\n",
       "      <td>17.0</td>\n",
       "      <td>6.0</td>\n",
       "      <td>14.0</td>\n",
       "      <td>14.0</td>\n",
       "      <td>17.0</td>\n",
       "      <td>18.0</td>\n",
       "    </tr>\n",
       "    <tr>\n",
       "      <th>716</th>\n",
       "      <td>717</td>\n",
       "      <td>ZETA</td>\n",
       "      <td>12.0</td>\n",
       "      <td>1.0</td>\n",
       "      <td>6.0</td>\n",
       "      <td>7.0</td>\n",
       "      <td>15.0</td>\n",
       "      <td>12.0</td>\n",
       "    </tr>\n",
       "    <tr>\n",
       "      <th>717</th>\n",
       "      <td>718</td>\n",
       "      <td>ZETA</td>\n",
       "      <td>19.0</td>\n",
       "      <td>14.0</td>\n",
       "      <td>17.0</td>\n",
       "      <td>16.0</td>\n",
       "      <td>20.0</td>\n",
       "      <td>19.0</td>\n",
       "    </tr>\n",
       "  </tbody>\n",
       "</table>\n",
       "<p>716 rows × 8 columns</p>\n",
       "</div>"
      ],
      "text/plain": [
       "     S.NO SECTION    DV  M-II    PP  BEEE    FL  FIMS\n",
       "0       1   ALPHA  12.0   0.0  17.0   9.0  19.0  15.0\n",
       "1       2   ALPHA  19.0  12.0  16.0  16.0  18.0   3.0\n",
       "2       3   ALPHA  18.0  14.0  18.0  18.0  18.0  16.0\n",
       "3       4   ALPHA  15.0   9.0  19.0  17.0  19.0  15.0\n",
       "4       5   ALPHA  18.0  17.0  19.0  19.0  20.0  18.0\n",
       "..    ...     ...   ...   ...   ...   ...   ...   ...\n",
       "713   714    ZETA  19.0   8.0   8.0  19.0  17.0  18.0\n",
       "714   715    ZETA  12.0   1.0   7.0  10.0  20.0   8.0\n",
       "715   716    ZETA  17.0   6.0  14.0  14.0  17.0  18.0\n",
       "716   717    ZETA  12.0   1.0   6.0   7.0  15.0  12.0\n",
       "717   718    ZETA  19.0  14.0  17.0  16.0  20.0  19.0\n",
       "\n",
       "[716 rows x 8 columns]"
      ]
     },
     "execution_count": 57,
     "metadata": {},
     "output_type": "execute_result"
    }
   ],
   "source": [
    "a"
   ]
  },
  {
   "cell_type": "code",
   "execution_count": 59,
   "id": "44f89689-fd52-407b-8105-498dbb7e3b6d",
   "metadata": {},
   "outputs": [
    {
     "name": "stderr",
     "output_type": "stream",
     "text": [
      "C:\\Users\\modil\\AppData\\Local\\Temp\\ipykernel_19068\\2208653875.py:1: SettingWithCopyWarning: \n",
      "A value is trying to be set on a copy of a slice from a DataFrame.\n",
      "Try using .loc[row_indexer,col_indexer] = value instead\n",
      "\n",
      "See the caveats in the documentation: https://pandas.pydata.org/pandas-docs/stable/user_guide/indexing.html#returning-a-view-versus-a-copy\n",
      "  a['TOTAL'] = a[subject_columns].sum(axis=1)\n"
     ]
    },
    {
     "data": {
      "text/html": [
       "<div>\n",
       "<style scoped>\n",
       "    .dataframe tbody tr th:only-of-type {\n",
       "        vertical-align: middle;\n",
       "    }\n",
       "\n",
       "    .dataframe tbody tr th {\n",
       "        vertical-align: top;\n",
       "    }\n",
       "\n",
       "    .dataframe thead th {\n",
       "        text-align: right;\n",
       "    }\n",
       "</style>\n",
       "<table border=\"1\" class=\"dataframe\">\n",
       "  <thead>\n",
       "    <tr style=\"text-align: right;\">\n",
       "      <th></th>\n",
       "      <th>S.NO</th>\n",
       "      <th>SECTION</th>\n",
       "      <th>DV</th>\n",
       "      <th>M-II</th>\n",
       "      <th>PP</th>\n",
       "      <th>BEEE</th>\n",
       "      <th>FL</th>\n",
       "      <th>FIMS</th>\n",
       "      <th>TOTAL</th>\n",
       "    </tr>\n",
       "  </thead>\n",
       "  <tbody>\n",
       "    <tr>\n",
       "      <th>0</th>\n",
       "      <td>1</td>\n",
       "      <td>ALPHA</td>\n",
       "      <td>12.0</td>\n",
       "      <td>0.0</td>\n",
       "      <td>17.0</td>\n",
       "      <td>9.0</td>\n",
       "      <td>19.0</td>\n",
       "      <td>15.0</td>\n",
       "      <td>72.0</td>\n",
       "    </tr>\n",
       "    <tr>\n",
       "      <th>1</th>\n",
       "      <td>2</td>\n",
       "      <td>ALPHA</td>\n",
       "      <td>19.0</td>\n",
       "      <td>12.0</td>\n",
       "      <td>16.0</td>\n",
       "      <td>16.0</td>\n",
       "      <td>18.0</td>\n",
       "      <td>3.0</td>\n",
       "      <td>84.0</td>\n",
       "    </tr>\n",
       "    <tr>\n",
       "      <th>2</th>\n",
       "      <td>3</td>\n",
       "      <td>ALPHA</td>\n",
       "      <td>18.0</td>\n",
       "      <td>14.0</td>\n",
       "      <td>18.0</td>\n",
       "      <td>18.0</td>\n",
       "      <td>18.0</td>\n",
       "      <td>16.0</td>\n",
       "      <td>102.0</td>\n",
       "    </tr>\n",
       "    <tr>\n",
       "      <th>3</th>\n",
       "      <td>4</td>\n",
       "      <td>ALPHA</td>\n",
       "      <td>15.0</td>\n",
       "      <td>9.0</td>\n",
       "      <td>19.0</td>\n",
       "      <td>17.0</td>\n",
       "      <td>19.0</td>\n",
       "      <td>15.0</td>\n",
       "      <td>94.0</td>\n",
       "    </tr>\n",
       "    <tr>\n",
       "      <th>4</th>\n",
       "      <td>5</td>\n",
       "      <td>ALPHA</td>\n",
       "      <td>18.0</td>\n",
       "      <td>17.0</td>\n",
       "      <td>19.0</td>\n",
       "      <td>19.0</td>\n",
       "      <td>20.0</td>\n",
       "      <td>18.0</td>\n",
       "      <td>111.0</td>\n",
       "    </tr>\n",
       "    <tr>\n",
       "      <th>...</th>\n",
       "      <td>...</td>\n",
       "      <td>...</td>\n",
       "      <td>...</td>\n",
       "      <td>...</td>\n",
       "      <td>...</td>\n",
       "      <td>...</td>\n",
       "      <td>...</td>\n",
       "      <td>...</td>\n",
       "      <td>...</td>\n",
       "    </tr>\n",
       "    <tr>\n",
       "      <th>713</th>\n",
       "      <td>714</td>\n",
       "      <td>ZETA</td>\n",
       "      <td>19.0</td>\n",
       "      <td>8.0</td>\n",
       "      <td>8.0</td>\n",
       "      <td>19.0</td>\n",
       "      <td>17.0</td>\n",
       "      <td>18.0</td>\n",
       "      <td>89.0</td>\n",
       "    </tr>\n",
       "    <tr>\n",
       "      <th>714</th>\n",
       "      <td>715</td>\n",
       "      <td>ZETA</td>\n",
       "      <td>12.0</td>\n",
       "      <td>1.0</td>\n",
       "      <td>7.0</td>\n",
       "      <td>10.0</td>\n",
       "      <td>20.0</td>\n",
       "      <td>8.0</td>\n",
       "      <td>58.0</td>\n",
       "    </tr>\n",
       "    <tr>\n",
       "      <th>715</th>\n",
       "      <td>716</td>\n",
       "      <td>ZETA</td>\n",
       "      <td>17.0</td>\n",
       "      <td>6.0</td>\n",
       "      <td>14.0</td>\n",
       "      <td>14.0</td>\n",
       "      <td>17.0</td>\n",
       "      <td>18.0</td>\n",
       "      <td>86.0</td>\n",
       "    </tr>\n",
       "    <tr>\n",
       "      <th>716</th>\n",
       "      <td>717</td>\n",
       "      <td>ZETA</td>\n",
       "      <td>12.0</td>\n",
       "      <td>1.0</td>\n",
       "      <td>6.0</td>\n",
       "      <td>7.0</td>\n",
       "      <td>15.0</td>\n",
       "      <td>12.0</td>\n",
       "      <td>53.0</td>\n",
       "    </tr>\n",
       "    <tr>\n",
       "      <th>717</th>\n",
       "      <td>718</td>\n",
       "      <td>ZETA</td>\n",
       "      <td>19.0</td>\n",
       "      <td>14.0</td>\n",
       "      <td>17.0</td>\n",
       "      <td>16.0</td>\n",
       "      <td>20.0</td>\n",
       "      <td>19.0</td>\n",
       "      <td>105.0</td>\n",
       "    </tr>\n",
       "  </tbody>\n",
       "</table>\n",
       "<p>716 rows × 9 columns</p>\n",
       "</div>"
      ],
      "text/plain": [
       "     S.NO SECTION    DV  M-II    PP  BEEE    FL  FIMS  TOTAL\n",
       "0       1   ALPHA  12.0   0.0  17.0   9.0  19.0  15.0   72.0\n",
       "1       2   ALPHA  19.0  12.0  16.0  16.0  18.0   3.0   84.0\n",
       "2       3   ALPHA  18.0  14.0  18.0  18.0  18.0  16.0  102.0\n",
       "3       4   ALPHA  15.0   9.0  19.0  17.0  19.0  15.0   94.0\n",
       "4       5   ALPHA  18.0  17.0  19.0  19.0  20.0  18.0  111.0\n",
       "..    ...     ...   ...   ...   ...   ...   ...   ...    ...\n",
       "713   714    ZETA  19.0   8.0   8.0  19.0  17.0  18.0   89.0\n",
       "714   715    ZETA  12.0   1.0   7.0  10.0  20.0   8.0   58.0\n",
       "715   716    ZETA  17.0   6.0  14.0  14.0  17.0  18.0   86.0\n",
       "716   717    ZETA  12.0   1.0   6.0   7.0  15.0  12.0   53.0\n",
       "717   718    ZETA  19.0  14.0  17.0  16.0  20.0  19.0  105.0\n",
       "\n",
       "[716 rows x 9 columns]"
      ]
     },
     "execution_count": 59,
     "metadata": {},
     "output_type": "execute_result"
    }
   ],
   "source": [
    "a['TOTAL'] = a[subject_columns].sum(axis=1)\n",
    "a"
   ]
  },
  {
   "cell_type": "code",
   "execution_count": 61,
   "id": "e64bc236-b580-480d-8c5c-b5f20845894f",
   "metadata": {},
   "outputs": [
    {
     "data": {
      "text/plain": [
       "DV\n",
       "False    629\n",
       "True      87\n",
       "Name: count, dtype: int64"
      ]
     },
     "execution_count": 61,
     "metadata": {},
     "output_type": "execute_result"
    }
   ],
   "source": [
    "fd=a['DV']<10\n",
    "fd.value_counts()"
   ]
  },
  {
   "cell_type": "code",
   "execution_count": 63,
   "id": "c3ab8d34-8533-4e52-8000-685f05bcb9b2",
   "metadata": {},
   "outputs": [
    {
     "data": {
      "text/plain": [
       "PP\n",
       "False    503\n",
       "True     213\n",
       "Name: count, dtype: int64"
      ]
     },
     "execution_count": 63,
     "metadata": {},
     "output_type": "execute_result"
    }
   ],
   "source": [
    "fd=a['PP']<10\n",
    "fd.value_counts()"
   ]
  },
  {
   "cell_type": "code",
   "execution_count": 65,
   "id": "39f1b9e7-cffe-44f4-927e-373eda5ae055",
   "metadata": {},
   "outputs": [
    {
     "data": {
      "text/plain": [
       "0      False\n",
       "1      False\n",
       "2      False\n",
       "3      False\n",
       "4      False\n",
       "       ...  \n",
       "713    False\n",
       "714    False\n",
       "715    False\n",
       "716    False\n",
       "717    False\n",
       "Name: TOTAL, Length: 716, dtype: bool"
      ]
     },
     "execution_count": 65,
     "metadata": {},
     "output_type": "execute_result"
    }
   ],
   "source": [
    "backlogs_count = a['TOTAL']<32\n",
    "backlogs_count"
   ]
  },
  {
   "cell_type": "code",
   "execution_count": 67,
   "id": "663d0dab-58ac-4b61-b536-780d54662386",
   "metadata": {},
   "outputs": [
    {
     "data": {
      "text/plain": [
       "TOTAL\n",
       "False    685\n",
       "True      31\n",
       "Name: count, dtype: int64"
      ]
     },
     "execution_count": 67,
     "metadata": {},
     "output_type": "execute_result"
    }
   ],
   "source": [
    "backlogs_count = a['TOTAL']<32\n",
    "backlogs_count.value_counts()"
   ]
  },
  {
   "cell_type": "code",
   "execution_count": 69,
   "id": "db6d97b4-37d3-4f6d-861c-c804d93c8786",
   "metadata": {},
   "outputs": [
    {
     "name": "stdout",
     "output_type": "stream",
     "text": [
      "SECTION\n",
      "ALPHA      1\n",
      "DELTA      1\n",
      "EPSILON    1\n",
      "GAMMA      2\n",
      "OMEGA      4\n",
      "SIGMA      2\n",
      "ZETA       4\n",
      "dtype: int64\n"
     ]
    },
    {
     "name": "stderr",
     "output_type": "stream",
     "text": [
      "C:\\Users\\modil\\AppData\\Local\\Temp\\ipykernel_19068\\3567799540.py:1: SettingWithCopyWarning: \n",
      "A value is trying to be set on a copy of a slice from a DataFrame.\n",
      "Try using .loc[row_indexer,col_indexer] = value instead\n",
      "\n",
      "See the caveats in the documentation: https://pandas.pydata.org/pandas-docs/stable/user_guide/indexing.html#returning-a-view-versus-a-copy\n",
      "  a[['DV', 'PP', 'BEEE', 'FL', 'FIMS', 'M-II']] = a[['DV', 'PP', 'BEEE', 'FL', 'FIMS', 'M-II']].apply(pd.to_numeric, errors='coerce')\n"
     ]
    }
   ],
   "source": [
    "a[['DV', 'PP', 'BEEE', 'FL', 'FIMS', 'M-II']] = a[['DV', 'PP', 'BEEE', 'FL', 'FIMS', 'M-II']].apply(pd.to_numeric, errors='coerce')\n",
    "students_less_than_11 = a[\n",
    "    (a['DV'] < 10) & \n",
    "    (a['PP'] < 10) & \n",
    "    (a['BEEE'] < 10) & \n",
    "    (a['FL'] < 10) & \n",
    "    (a['FIMS'] < 10) & \n",
    "    (a['M-II'] < 10)\n",
    "]\n",
    "section_wise_counts = students_less_than_11.groupby('SECTION').size()\n",
    "print(section_wise_counts)"
   ]
  },
  {
   "cell_type": "code",
   "execution_count": 71,
   "id": "8bf11e6c-9bd2-4e5c-b229-c7fcebf885bf",
   "metadata": {},
   "outputs": [
    {
     "name": "stderr",
     "output_type": "stream",
     "text": [
      "C:\\Users\\modil\\AppData\\Local\\Temp\\ipykernel_19068\\3890524494.py:1: SettingWithCopyWarning: \n",
      "A value is trying to be set on a copy of a slice from a DataFrame.\n",
      "Try using .loc[row_indexer,col_indexer] = value instead\n",
      "\n",
      "See the caveats in the documentation: https://pandas.pydata.org/pandas-docs/stable/user_guide/indexing.html#returning-a-view-versus-a-copy\n",
      "  a['Backlog_Count'] = (\n"
     ]
    },
    {
     "data": {
      "text/html": [
       "<div>\n",
       "<style scoped>\n",
       "    .dataframe tbody tr th:only-of-type {\n",
       "        vertical-align: middle;\n",
       "    }\n",
       "\n",
       "    .dataframe tbody tr th {\n",
       "        vertical-align: top;\n",
       "    }\n",
       "\n",
       "    .dataframe thead th {\n",
       "        text-align: right;\n",
       "    }\n",
       "</style>\n",
       "<table border=\"1\" class=\"dataframe\">\n",
       "  <thead>\n",
       "    <tr style=\"text-align: right;\">\n",
       "      <th></th>\n",
       "      <th>S.NO</th>\n",
       "      <th>SECTION</th>\n",
       "      <th>DV</th>\n",
       "      <th>M-II</th>\n",
       "      <th>PP</th>\n",
       "      <th>BEEE</th>\n",
       "      <th>FL</th>\n",
       "      <th>FIMS</th>\n",
       "      <th>TOTAL</th>\n",
       "      <th>Backlog_Count</th>\n",
       "    </tr>\n",
       "  </thead>\n",
       "  <tbody>\n",
       "    <tr>\n",
       "      <th>0</th>\n",
       "      <td>1</td>\n",
       "      <td>ALPHA</td>\n",
       "      <td>12.0</td>\n",
       "      <td>0.0</td>\n",
       "      <td>17.0</td>\n",
       "      <td>9.0</td>\n",
       "      <td>19.0</td>\n",
       "      <td>15.0</td>\n",
       "      <td>72.0</td>\n",
       "      <td>2</td>\n",
       "    </tr>\n",
       "    <tr>\n",
       "      <th>1</th>\n",
       "      <td>2</td>\n",
       "      <td>ALPHA</td>\n",
       "      <td>19.0</td>\n",
       "      <td>12.0</td>\n",
       "      <td>16.0</td>\n",
       "      <td>16.0</td>\n",
       "      <td>18.0</td>\n",
       "      <td>3.0</td>\n",
       "      <td>84.0</td>\n",
       "      <td>1</td>\n",
       "    </tr>\n",
       "    <tr>\n",
       "      <th>2</th>\n",
       "      <td>3</td>\n",
       "      <td>ALPHA</td>\n",
       "      <td>18.0</td>\n",
       "      <td>14.0</td>\n",
       "      <td>18.0</td>\n",
       "      <td>18.0</td>\n",
       "      <td>18.0</td>\n",
       "      <td>16.0</td>\n",
       "      <td>102.0</td>\n",
       "      <td>0</td>\n",
       "    </tr>\n",
       "    <tr>\n",
       "      <th>3</th>\n",
       "      <td>4</td>\n",
       "      <td>ALPHA</td>\n",
       "      <td>15.0</td>\n",
       "      <td>9.0</td>\n",
       "      <td>19.0</td>\n",
       "      <td>17.0</td>\n",
       "      <td>19.0</td>\n",
       "      <td>15.0</td>\n",
       "      <td>94.0</td>\n",
       "      <td>1</td>\n",
       "    </tr>\n",
       "    <tr>\n",
       "      <th>4</th>\n",
       "      <td>5</td>\n",
       "      <td>ALPHA</td>\n",
       "      <td>18.0</td>\n",
       "      <td>17.0</td>\n",
       "      <td>19.0</td>\n",
       "      <td>19.0</td>\n",
       "      <td>20.0</td>\n",
       "      <td>18.0</td>\n",
       "      <td>111.0</td>\n",
       "      <td>0</td>\n",
       "    </tr>\n",
       "    <tr>\n",
       "      <th>...</th>\n",
       "      <td>...</td>\n",
       "      <td>...</td>\n",
       "      <td>...</td>\n",
       "      <td>...</td>\n",
       "      <td>...</td>\n",
       "      <td>...</td>\n",
       "      <td>...</td>\n",
       "      <td>...</td>\n",
       "      <td>...</td>\n",
       "      <td>...</td>\n",
       "    </tr>\n",
       "    <tr>\n",
       "      <th>713</th>\n",
       "      <td>714</td>\n",
       "      <td>ZETA</td>\n",
       "      <td>19.0</td>\n",
       "      <td>8.0</td>\n",
       "      <td>8.0</td>\n",
       "      <td>19.0</td>\n",
       "      <td>17.0</td>\n",
       "      <td>18.0</td>\n",
       "      <td>89.0</td>\n",
       "      <td>2</td>\n",
       "    </tr>\n",
       "    <tr>\n",
       "      <th>714</th>\n",
       "      <td>715</td>\n",
       "      <td>ZETA</td>\n",
       "      <td>12.0</td>\n",
       "      <td>1.0</td>\n",
       "      <td>7.0</td>\n",
       "      <td>10.0</td>\n",
       "      <td>20.0</td>\n",
       "      <td>8.0</td>\n",
       "      <td>58.0</td>\n",
       "      <td>3</td>\n",
       "    </tr>\n",
       "    <tr>\n",
       "      <th>715</th>\n",
       "      <td>716</td>\n",
       "      <td>ZETA</td>\n",
       "      <td>17.0</td>\n",
       "      <td>6.0</td>\n",
       "      <td>14.0</td>\n",
       "      <td>14.0</td>\n",
       "      <td>17.0</td>\n",
       "      <td>18.0</td>\n",
       "      <td>86.0</td>\n",
       "      <td>1</td>\n",
       "    </tr>\n",
       "    <tr>\n",
       "      <th>716</th>\n",
       "      <td>717</td>\n",
       "      <td>ZETA</td>\n",
       "      <td>12.0</td>\n",
       "      <td>1.0</td>\n",
       "      <td>6.0</td>\n",
       "      <td>7.0</td>\n",
       "      <td>15.0</td>\n",
       "      <td>12.0</td>\n",
       "      <td>53.0</td>\n",
       "      <td>3</td>\n",
       "    </tr>\n",
       "    <tr>\n",
       "      <th>717</th>\n",
       "      <td>718</td>\n",
       "      <td>ZETA</td>\n",
       "      <td>19.0</td>\n",
       "      <td>14.0</td>\n",
       "      <td>17.0</td>\n",
       "      <td>16.0</td>\n",
       "      <td>20.0</td>\n",
       "      <td>19.0</td>\n",
       "      <td>105.0</td>\n",
       "      <td>0</td>\n",
       "    </tr>\n",
       "  </tbody>\n",
       "</table>\n",
       "<p>716 rows × 10 columns</p>\n",
       "</div>"
      ],
      "text/plain": [
       "     S.NO SECTION    DV  M-II    PP  BEEE    FL  FIMS  TOTAL  Backlog_Count\n",
       "0       1   ALPHA  12.0   0.0  17.0   9.0  19.0  15.0   72.0              2\n",
       "1       2   ALPHA  19.0  12.0  16.0  16.0  18.0   3.0   84.0              1\n",
       "2       3   ALPHA  18.0  14.0  18.0  18.0  18.0  16.0  102.0              0\n",
       "3       4   ALPHA  15.0   9.0  19.0  17.0  19.0  15.0   94.0              1\n",
       "4       5   ALPHA  18.0  17.0  19.0  19.0  20.0  18.0  111.0              0\n",
       "..    ...     ...   ...   ...   ...   ...   ...   ...    ...            ...\n",
       "713   714    ZETA  19.0   8.0   8.0  19.0  17.0  18.0   89.0              2\n",
       "714   715    ZETA  12.0   1.0   7.0  10.0  20.0   8.0   58.0              3\n",
       "715   716    ZETA  17.0   6.0  14.0  14.0  17.0  18.0   86.0              1\n",
       "716   717    ZETA  12.0   1.0   6.0   7.0  15.0  12.0   53.0              3\n",
       "717   718    ZETA  19.0  14.0  17.0  16.0  20.0  19.0  105.0              0\n",
       "\n",
       "[716 rows x 10 columns]"
      ]
     },
     "execution_count": 71,
     "metadata": {},
     "output_type": "execute_result"
    }
   ],
   "source": [
    "a['Backlog_Count'] = (\n",
    "    (a['DV'] < 10).astype(int) +\n",
    "    (a['M-II'] < 10).astype(int) +\n",
    "    (a['PP'] < 10).astype(int) +\n",
    "    (a['BEEE'] < 10).astype(int) +\n",
    "    (a['FL'] < 10).astype(int) +\n",
    "    (a['FIMS'] < 10).astype(int)\n",
    ")\n",
    "a"
   ]
  },
  {
   "cell_type": "code",
   "execution_count": 73,
   "id": "f6ab0479-394a-4686-839c-7bd918744300",
   "metadata": {},
   "outputs": [
    {
     "name": "stderr",
     "output_type": "stream",
     "text": [
      "C:\\Users\\modil\\AppData\\Local\\Temp\\ipykernel_19068\\1043708467.py:1: SettingWithCopyWarning: \n",
      "A value is trying to be set on a copy of a slice from a DataFrame.\n",
      "Try using .loc[row_indexer,col_indexer] = value instead\n",
      "\n",
      "See the caveats in the documentation: https://pandas.pydata.org/pandas-docs/stable/user_guide/indexing.html#returning-a-view-versus-a-copy\n",
      "  a[\"Percentage\"]=a.TOTAL/60 *100\n",
      "C:\\Users\\modil\\AppData\\Local\\Temp\\ipykernel_19068\\1043708467.py:2: SettingWithCopyWarning: \n",
      "A value is trying to be set on a copy of a slice from a DataFrame\n",
      "\n",
      "See the caveats in the documentation: https://pandas.pydata.org/pandas-docs/stable/user_guide/indexing.html#returning-a-view-versus-a-copy\n",
      "  a.fillna(0,inplace=True)\n"
     ]
    }
   ],
   "source": [
    "a[\"Percentage\"]=a.TOTAL/60 *100\n",
    "a.fillna(0,inplace=True)"
   ]
  },
  {
   "cell_type": "code",
   "execution_count": 75,
   "id": "577774e3-0c7f-40d5-b783-ef27f820a8df",
   "metadata": {},
   "outputs": [
    {
     "data": {
      "text/html": [
       "<div>\n",
       "<style scoped>\n",
       "    .dataframe tbody tr th:only-of-type {\n",
       "        vertical-align: middle;\n",
       "    }\n",
       "\n",
       "    .dataframe tbody tr th {\n",
       "        vertical-align: top;\n",
       "    }\n",
       "\n",
       "    .dataframe thead th {\n",
       "        text-align: right;\n",
       "    }\n",
       "</style>\n",
       "<table border=\"1\" class=\"dataframe\">\n",
       "  <thead>\n",
       "    <tr style=\"text-align: right;\">\n",
       "      <th></th>\n",
       "      <th>S.NO</th>\n",
       "      <th>SECTION</th>\n",
       "      <th>DV</th>\n",
       "      <th>M-II</th>\n",
       "      <th>PP</th>\n",
       "      <th>BEEE</th>\n",
       "      <th>FL</th>\n",
       "      <th>FIMS</th>\n",
       "      <th>TOTAL</th>\n",
       "      <th>Backlog_Count</th>\n",
       "      <th>Percentage</th>\n",
       "    </tr>\n",
       "  </thead>\n",
       "  <tbody>\n",
       "    <tr>\n",
       "      <th>0</th>\n",
       "      <td>1</td>\n",
       "      <td>ALPHA</td>\n",
       "      <td>12.0</td>\n",
       "      <td>0.0</td>\n",
       "      <td>17.0</td>\n",
       "      <td>9.0</td>\n",
       "      <td>19.0</td>\n",
       "      <td>15.0</td>\n",
       "      <td>72.0</td>\n",
       "      <td>2</td>\n",
       "      <td>120.000000</td>\n",
       "    </tr>\n",
       "    <tr>\n",
       "      <th>1</th>\n",
       "      <td>2</td>\n",
       "      <td>ALPHA</td>\n",
       "      <td>19.0</td>\n",
       "      <td>12.0</td>\n",
       "      <td>16.0</td>\n",
       "      <td>16.0</td>\n",
       "      <td>18.0</td>\n",
       "      <td>3.0</td>\n",
       "      <td>84.0</td>\n",
       "      <td>1</td>\n",
       "      <td>140.000000</td>\n",
       "    </tr>\n",
       "    <tr>\n",
       "      <th>2</th>\n",
       "      <td>3</td>\n",
       "      <td>ALPHA</td>\n",
       "      <td>18.0</td>\n",
       "      <td>14.0</td>\n",
       "      <td>18.0</td>\n",
       "      <td>18.0</td>\n",
       "      <td>18.0</td>\n",
       "      <td>16.0</td>\n",
       "      <td>102.0</td>\n",
       "      <td>0</td>\n",
       "      <td>170.000000</td>\n",
       "    </tr>\n",
       "    <tr>\n",
       "      <th>3</th>\n",
       "      <td>4</td>\n",
       "      <td>ALPHA</td>\n",
       "      <td>15.0</td>\n",
       "      <td>9.0</td>\n",
       "      <td>19.0</td>\n",
       "      <td>17.0</td>\n",
       "      <td>19.0</td>\n",
       "      <td>15.0</td>\n",
       "      <td>94.0</td>\n",
       "      <td>1</td>\n",
       "      <td>156.666667</td>\n",
       "    </tr>\n",
       "    <tr>\n",
       "      <th>4</th>\n",
       "      <td>5</td>\n",
       "      <td>ALPHA</td>\n",
       "      <td>18.0</td>\n",
       "      <td>17.0</td>\n",
       "      <td>19.0</td>\n",
       "      <td>19.0</td>\n",
       "      <td>20.0</td>\n",
       "      <td>18.0</td>\n",
       "      <td>111.0</td>\n",
       "      <td>0</td>\n",
       "      <td>185.000000</td>\n",
       "    </tr>\n",
       "    <tr>\n",
       "      <th>...</th>\n",
       "      <td>...</td>\n",
       "      <td>...</td>\n",
       "      <td>...</td>\n",
       "      <td>...</td>\n",
       "      <td>...</td>\n",
       "      <td>...</td>\n",
       "      <td>...</td>\n",
       "      <td>...</td>\n",
       "      <td>...</td>\n",
       "      <td>...</td>\n",
       "      <td>...</td>\n",
       "    </tr>\n",
       "    <tr>\n",
       "      <th>713</th>\n",
       "      <td>714</td>\n",
       "      <td>ZETA</td>\n",
       "      <td>19.0</td>\n",
       "      <td>8.0</td>\n",
       "      <td>8.0</td>\n",
       "      <td>19.0</td>\n",
       "      <td>17.0</td>\n",
       "      <td>18.0</td>\n",
       "      <td>89.0</td>\n",
       "      <td>2</td>\n",
       "      <td>148.333333</td>\n",
       "    </tr>\n",
       "    <tr>\n",
       "      <th>714</th>\n",
       "      <td>715</td>\n",
       "      <td>ZETA</td>\n",
       "      <td>12.0</td>\n",
       "      <td>1.0</td>\n",
       "      <td>7.0</td>\n",
       "      <td>10.0</td>\n",
       "      <td>20.0</td>\n",
       "      <td>8.0</td>\n",
       "      <td>58.0</td>\n",
       "      <td>3</td>\n",
       "      <td>96.666667</td>\n",
       "    </tr>\n",
       "    <tr>\n",
       "      <th>715</th>\n",
       "      <td>716</td>\n",
       "      <td>ZETA</td>\n",
       "      <td>17.0</td>\n",
       "      <td>6.0</td>\n",
       "      <td>14.0</td>\n",
       "      <td>14.0</td>\n",
       "      <td>17.0</td>\n",
       "      <td>18.0</td>\n",
       "      <td>86.0</td>\n",
       "      <td>1</td>\n",
       "      <td>143.333333</td>\n",
       "    </tr>\n",
       "    <tr>\n",
       "      <th>716</th>\n",
       "      <td>717</td>\n",
       "      <td>ZETA</td>\n",
       "      <td>12.0</td>\n",
       "      <td>1.0</td>\n",
       "      <td>6.0</td>\n",
       "      <td>7.0</td>\n",
       "      <td>15.0</td>\n",
       "      <td>12.0</td>\n",
       "      <td>53.0</td>\n",
       "      <td>3</td>\n",
       "      <td>88.333333</td>\n",
       "    </tr>\n",
       "    <tr>\n",
       "      <th>717</th>\n",
       "      <td>718</td>\n",
       "      <td>ZETA</td>\n",
       "      <td>19.0</td>\n",
       "      <td>14.0</td>\n",
       "      <td>17.0</td>\n",
       "      <td>16.0</td>\n",
       "      <td>20.0</td>\n",
       "      <td>19.0</td>\n",
       "      <td>105.0</td>\n",
       "      <td>0</td>\n",
       "      <td>175.000000</td>\n",
       "    </tr>\n",
       "  </tbody>\n",
       "</table>\n",
       "<p>716 rows × 11 columns</p>\n",
       "</div>"
      ],
      "text/plain": [
       "     S.NO SECTION    DV  M-II    PP  BEEE    FL  FIMS  TOTAL  Backlog_Count  \\\n",
       "0       1   ALPHA  12.0   0.0  17.0   9.0  19.0  15.0   72.0              2   \n",
       "1       2   ALPHA  19.0  12.0  16.0  16.0  18.0   3.0   84.0              1   \n",
       "2       3   ALPHA  18.0  14.0  18.0  18.0  18.0  16.0  102.0              0   \n",
       "3       4   ALPHA  15.0   9.0  19.0  17.0  19.0  15.0   94.0              1   \n",
       "4       5   ALPHA  18.0  17.0  19.0  19.0  20.0  18.0  111.0              0   \n",
       "..    ...     ...   ...   ...   ...   ...   ...   ...    ...            ...   \n",
       "713   714    ZETA  19.0   8.0   8.0  19.0  17.0  18.0   89.0              2   \n",
       "714   715    ZETA  12.0   1.0   7.0  10.0  20.0   8.0   58.0              3   \n",
       "715   716    ZETA  17.0   6.0  14.0  14.0  17.0  18.0   86.0              1   \n",
       "716   717    ZETA  12.0   1.0   6.0   7.0  15.0  12.0   53.0              3   \n",
       "717   718    ZETA  19.0  14.0  17.0  16.0  20.0  19.0  105.0              0   \n",
       "\n",
       "     Percentage  \n",
       "0    120.000000  \n",
       "1    140.000000  \n",
       "2    170.000000  \n",
       "3    156.666667  \n",
       "4    185.000000  \n",
       "..          ...  \n",
       "713  148.333333  \n",
       "714   96.666667  \n",
       "715  143.333333  \n",
       "716   88.333333  \n",
       "717  175.000000  \n",
       "\n",
       "[716 rows x 11 columns]"
      ]
     },
     "execution_count": 75,
     "metadata": {},
     "output_type": "execute_result"
    }
   ],
   "source": [
    "a"
   ]
  },
  {
   "cell_type": "code",
   "execution_count": 77,
   "id": "a37859f4-7c1c-48ec-8eef-7810637e1758",
   "metadata": {},
   "outputs": [
    {
     "name": "stderr",
     "output_type": "stream",
     "text": [
      "C:\\Users\\modil\\AppData\\Local\\Temp\\ipykernel_19068\\132212793.py:1: SettingWithCopyWarning: \n",
      "A value is trying to be set on a copy of a slice from a DataFrame.\n",
      "Try using .loc[row_indexer,col_indexer] = value instead\n",
      "\n",
      "See the caveats in the documentation: https://pandas.pydata.org/pandas-docs/stable/user_guide/indexing.html#returning-a-view-versus-a-copy\n",
      "  a[\"Grade\"]=None\n"
     ]
    }
   ],
   "source": [
    "a[\"Grade\"]=None"
   ]
  },
  {
   "cell_type": "code",
   "execution_count": 79,
   "id": "fd4a583c-8a72-40c9-8998-4423d9acf609",
   "metadata": {},
   "outputs": [
    {
     "data": {
      "text/html": [
       "<div>\n",
       "<style scoped>\n",
       "    .dataframe tbody tr th:only-of-type {\n",
       "        vertical-align: middle;\n",
       "    }\n",
       "\n",
       "    .dataframe tbody tr th {\n",
       "        vertical-align: top;\n",
       "    }\n",
       "\n",
       "    .dataframe thead th {\n",
       "        text-align: right;\n",
       "    }\n",
       "</style>\n",
       "<table border=\"1\" class=\"dataframe\">\n",
       "  <thead>\n",
       "    <tr style=\"text-align: right;\">\n",
       "      <th></th>\n",
       "      <th>S.NO</th>\n",
       "      <th>SECTION</th>\n",
       "      <th>DV</th>\n",
       "      <th>M-II</th>\n",
       "      <th>PP</th>\n",
       "      <th>BEEE</th>\n",
       "      <th>FL</th>\n",
       "      <th>FIMS</th>\n",
       "      <th>TOTAL</th>\n",
       "      <th>Backlog_Count</th>\n",
       "      <th>Percentage</th>\n",
       "      <th>Grade</th>\n",
       "    </tr>\n",
       "  </thead>\n",
       "  <tbody>\n",
       "    <tr>\n",
       "      <th>0</th>\n",
       "      <td>1</td>\n",
       "      <td>ALPHA</td>\n",
       "      <td>12.0</td>\n",
       "      <td>0.0</td>\n",
       "      <td>17.0</td>\n",
       "      <td>9.0</td>\n",
       "      <td>19.0</td>\n",
       "      <td>15.0</td>\n",
       "      <td>72.0</td>\n",
       "      <td>2</td>\n",
       "      <td>120.000000</td>\n",
       "      <td>None</td>\n",
       "    </tr>\n",
       "    <tr>\n",
       "      <th>1</th>\n",
       "      <td>2</td>\n",
       "      <td>ALPHA</td>\n",
       "      <td>19.0</td>\n",
       "      <td>12.0</td>\n",
       "      <td>16.0</td>\n",
       "      <td>16.0</td>\n",
       "      <td>18.0</td>\n",
       "      <td>3.0</td>\n",
       "      <td>84.0</td>\n",
       "      <td>1</td>\n",
       "      <td>140.000000</td>\n",
       "      <td>None</td>\n",
       "    </tr>\n",
       "    <tr>\n",
       "      <th>2</th>\n",
       "      <td>3</td>\n",
       "      <td>ALPHA</td>\n",
       "      <td>18.0</td>\n",
       "      <td>14.0</td>\n",
       "      <td>18.0</td>\n",
       "      <td>18.0</td>\n",
       "      <td>18.0</td>\n",
       "      <td>16.0</td>\n",
       "      <td>102.0</td>\n",
       "      <td>0</td>\n",
       "      <td>170.000000</td>\n",
       "      <td>None</td>\n",
       "    </tr>\n",
       "    <tr>\n",
       "      <th>3</th>\n",
       "      <td>4</td>\n",
       "      <td>ALPHA</td>\n",
       "      <td>15.0</td>\n",
       "      <td>9.0</td>\n",
       "      <td>19.0</td>\n",
       "      <td>17.0</td>\n",
       "      <td>19.0</td>\n",
       "      <td>15.0</td>\n",
       "      <td>94.0</td>\n",
       "      <td>1</td>\n",
       "      <td>156.666667</td>\n",
       "      <td>None</td>\n",
       "    </tr>\n",
       "    <tr>\n",
       "      <th>4</th>\n",
       "      <td>5</td>\n",
       "      <td>ALPHA</td>\n",
       "      <td>18.0</td>\n",
       "      <td>17.0</td>\n",
       "      <td>19.0</td>\n",
       "      <td>19.0</td>\n",
       "      <td>20.0</td>\n",
       "      <td>18.0</td>\n",
       "      <td>111.0</td>\n",
       "      <td>0</td>\n",
       "      <td>185.000000</td>\n",
       "      <td>None</td>\n",
       "    </tr>\n",
       "    <tr>\n",
       "      <th>...</th>\n",
       "      <td>...</td>\n",
       "      <td>...</td>\n",
       "      <td>...</td>\n",
       "      <td>...</td>\n",
       "      <td>...</td>\n",
       "      <td>...</td>\n",
       "      <td>...</td>\n",
       "      <td>...</td>\n",
       "      <td>...</td>\n",
       "      <td>...</td>\n",
       "      <td>...</td>\n",
       "      <td>...</td>\n",
       "    </tr>\n",
       "    <tr>\n",
       "      <th>713</th>\n",
       "      <td>714</td>\n",
       "      <td>ZETA</td>\n",
       "      <td>19.0</td>\n",
       "      <td>8.0</td>\n",
       "      <td>8.0</td>\n",
       "      <td>19.0</td>\n",
       "      <td>17.0</td>\n",
       "      <td>18.0</td>\n",
       "      <td>89.0</td>\n",
       "      <td>2</td>\n",
       "      <td>148.333333</td>\n",
       "      <td>None</td>\n",
       "    </tr>\n",
       "    <tr>\n",
       "      <th>714</th>\n",
       "      <td>715</td>\n",
       "      <td>ZETA</td>\n",
       "      <td>12.0</td>\n",
       "      <td>1.0</td>\n",
       "      <td>7.0</td>\n",
       "      <td>10.0</td>\n",
       "      <td>20.0</td>\n",
       "      <td>8.0</td>\n",
       "      <td>58.0</td>\n",
       "      <td>3</td>\n",
       "      <td>96.666667</td>\n",
       "      <td>None</td>\n",
       "    </tr>\n",
       "    <tr>\n",
       "      <th>715</th>\n",
       "      <td>716</td>\n",
       "      <td>ZETA</td>\n",
       "      <td>17.0</td>\n",
       "      <td>6.0</td>\n",
       "      <td>14.0</td>\n",
       "      <td>14.0</td>\n",
       "      <td>17.0</td>\n",
       "      <td>18.0</td>\n",
       "      <td>86.0</td>\n",
       "      <td>1</td>\n",
       "      <td>143.333333</td>\n",
       "      <td>None</td>\n",
       "    </tr>\n",
       "    <tr>\n",
       "      <th>716</th>\n",
       "      <td>717</td>\n",
       "      <td>ZETA</td>\n",
       "      <td>12.0</td>\n",
       "      <td>1.0</td>\n",
       "      <td>6.0</td>\n",
       "      <td>7.0</td>\n",
       "      <td>15.0</td>\n",
       "      <td>12.0</td>\n",
       "      <td>53.0</td>\n",
       "      <td>3</td>\n",
       "      <td>88.333333</td>\n",
       "      <td>None</td>\n",
       "    </tr>\n",
       "    <tr>\n",
       "      <th>717</th>\n",
       "      <td>718</td>\n",
       "      <td>ZETA</td>\n",
       "      <td>19.0</td>\n",
       "      <td>14.0</td>\n",
       "      <td>17.0</td>\n",
       "      <td>16.0</td>\n",
       "      <td>20.0</td>\n",
       "      <td>19.0</td>\n",
       "      <td>105.0</td>\n",
       "      <td>0</td>\n",
       "      <td>175.000000</td>\n",
       "      <td>None</td>\n",
       "    </tr>\n",
       "  </tbody>\n",
       "</table>\n",
       "<p>716 rows × 12 columns</p>\n",
       "</div>"
      ],
      "text/plain": [
       "     S.NO SECTION    DV  M-II    PP  BEEE    FL  FIMS  TOTAL  Backlog_Count  \\\n",
       "0       1   ALPHA  12.0   0.0  17.0   9.0  19.0  15.0   72.0              2   \n",
       "1       2   ALPHA  19.0  12.0  16.0  16.0  18.0   3.0   84.0              1   \n",
       "2       3   ALPHA  18.0  14.0  18.0  18.0  18.0  16.0  102.0              0   \n",
       "3       4   ALPHA  15.0   9.0  19.0  17.0  19.0  15.0   94.0              1   \n",
       "4       5   ALPHA  18.0  17.0  19.0  19.0  20.0  18.0  111.0              0   \n",
       "..    ...     ...   ...   ...   ...   ...   ...   ...    ...            ...   \n",
       "713   714    ZETA  19.0   8.0   8.0  19.0  17.0  18.0   89.0              2   \n",
       "714   715    ZETA  12.0   1.0   7.0  10.0  20.0   8.0   58.0              3   \n",
       "715   716    ZETA  17.0   6.0  14.0  14.0  17.0  18.0   86.0              1   \n",
       "716   717    ZETA  12.0   1.0   6.0   7.0  15.0  12.0   53.0              3   \n",
       "717   718    ZETA  19.0  14.0  17.0  16.0  20.0  19.0  105.0              0   \n",
       "\n",
       "     Percentage Grade  \n",
       "0    120.000000  None  \n",
       "1    140.000000  None  \n",
       "2    170.000000  None  \n",
       "3    156.666667  None  \n",
       "4    185.000000  None  \n",
       "..          ...   ...  \n",
       "713  148.333333  None  \n",
       "714   96.666667  None  \n",
       "715  143.333333  None  \n",
       "716   88.333333  None  \n",
       "717  175.000000  None  \n",
       "\n",
       "[716 rows x 12 columns]"
      ]
     },
     "execution_count": 79,
     "metadata": {},
     "output_type": "execute_result"
    }
   ],
   "source": [
    "a"
   ]
  },
  {
   "cell_type": "code",
   "execution_count": 81,
   "id": "1c418de4-fc9f-470a-b29c-16009f2275d9",
   "metadata": {},
   "outputs": [],
   "source": [
    "\n",
    "a.loc[a[\"TOTAL\"]>100,[\"Grade\"]]=\"First\""
   ]
  },
  {
   "cell_type": "code",
   "execution_count": 83,
   "id": "4e6697f8-df7e-448f-9507-fac9f4ee54ff",
   "metadata": {},
   "outputs": [
    {
     "data": {
      "text/html": [
       "<div>\n",
       "<style scoped>\n",
       "    .dataframe tbody tr th:only-of-type {\n",
       "        vertical-align: middle;\n",
       "    }\n",
       "\n",
       "    .dataframe tbody tr th {\n",
       "        vertical-align: top;\n",
       "    }\n",
       "\n",
       "    .dataframe thead th {\n",
       "        text-align: right;\n",
       "    }\n",
       "</style>\n",
       "<table border=\"1\" class=\"dataframe\">\n",
       "  <thead>\n",
       "    <tr style=\"text-align: right;\">\n",
       "      <th></th>\n",
       "      <th>S.NO</th>\n",
       "      <th>SECTION</th>\n",
       "      <th>DV</th>\n",
       "      <th>M-II</th>\n",
       "      <th>PP</th>\n",
       "      <th>BEEE</th>\n",
       "      <th>FL</th>\n",
       "      <th>FIMS</th>\n",
       "      <th>TOTAL</th>\n",
       "      <th>Backlog_Count</th>\n",
       "      <th>Percentage</th>\n",
       "      <th>Grade</th>\n",
       "    </tr>\n",
       "  </thead>\n",
       "  <tbody>\n",
       "    <tr>\n",
       "      <th>0</th>\n",
       "      <td>1</td>\n",
       "      <td>ALPHA</td>\n",
       "      <td>12.0</td>\n",
       "      <td>0.0</td>\n",
       "      <td>17.0</td>\n",
       "      <td>9.0</td>\n",
       "      <td>19.0</td>\n",
       "      <td>15.0</td>\n",
       "      <td>72.0</td>\n",
       "      <td>2</td>\n",
       "      <td>120.000000</td>\n",
       "      <td>None</td>\n",
       "    </tr>\n",
       "    <tr>\n",
       "      <th>1</th>\n",
       "      <td>2</td>\n",
       "      <td>ALPHA</td>\n",
       "      <td>19.0</td>\n",
       "      <td>12.0</td>\n",
       "      <td>16.0</td>\n",
       "      <td>16.0</td>\n",
       "      <td>18.0</td>\n",
       "      <td>3.0</td>\n",
       "      <td>84.0</td>\n",
       "      <td>1</td>\n",
       "      <td>140.000000</td>\n",
       "      <td>None</td>\n",
       "    </tr>\n",
       "    <tr>\n",
       "      <th>2</th>\n",
       "      <td>3</td>\n",
       "      <td>ALPHA</td>\n",
       "      <td>18.0</td>\n",
       "      <td>14.0</td>\n",
       "      <td>18.0</td>\n",
       "      <td>18.0</td>\n",
       "      <td>18.0</td>\n",
       "      <td>16.0</td>\n",
       "      <td>102.0</td>\n",
       "      <td>0</td>\n",
       "      <td>170.000000</td>\n",
       "      <td>First</td>\n",
       "    </tr>\n",
       "    <tr>\n",
       "      <th>3</th>\n",
       "      <td>4</td>\n",
       "      <td>ALPHA</td>\n",
       "      <td>15.0</td>\n",
       "      <td>9.0</td>\n",
       "      <td>19.0</td>\n",
       "      <td>17.0</td>\n",
       "      <td>19.0</td>\n",
       "      <td>15.0</td>\n",
       "      <td>94.0</td>\n",
       "      <td>1</td>\n",
       "      <td>156.666667</td>\n",
       "      <td>None</td>\n",
       "    </tr>\n",
       "    <tr>\n",
       "      <th>4</th>\n",
       "      <td>5</td>\n",
       "      <td>ALPHA</td>\n",
       "      <td>18.0</td>\n",
       "      <td>17.0</td>\n",
       "      <td>19.0</td>\n",
       "      <td>19.0</td>\n",
       "      <td>20.0</td>\n",
       "      <td>18.0</td>\n",
       "      <td>111.0</td>\n",
       "      <td>0</td>\n",
       "      <td>185.000000</td>\n",
       "      <td>First</td>\n",
       "    </tr>\n",
       "    <tr>\n",
       "      <th>...</th>\n",
       "      <td>...</td>\n",
       "      <td>...</td>\n",
       "      <td>...</td>\n",
       "      <td>...</td>\n",
       "      <td>...</td>\n",
       "      <td>...</td>\n",
       "      <td>...</td>\n",
       "      <td>...</td>\n",
       "      <td>...</td>\n",
       "      <td>...</td>\n",
       "      <td>...</td>\n",
       "      <td>...</td>\n",
       "    </tr>\n",
       "    <tr>\n",
       "      <th>713</th>\n",
       "      <td>714</td>\n",
       "      <td>ZETA</td>\n",
       "      <td>19.0</td>\n",
       "      <td>8.0</td>\n",
       "      <td>8.0</td>\n",
       "      <td>19.0</td>\n",
       "      <td>17.0</td>\n",
       "      <td>18.0</td>\n",
       "      <td>89.0</td>\n",
       "      <td>2</td>\n",
       "      <td>148.333333</td>\n",
       "      <td>None</td>\n",
       "    </tr>\n",
       "    <tr>\n",
       "      <th>714</th>\n",
       "      <td>715</td>\n",
       "      <td>ZETA</td>\n",
       "      <td>12.0</td>\n",
       "      <td>1.0</td>\n",
       "      <td>7.0</td>\n",
       "      <td>10.0</td>\n",
       "      <td>20.0</td>\n",
       "      <td>8.0</td>\n",
       "      <td>58.0</td>\n",
       "      <td>3</td>\n",
       "      <td>96.666667</td>\n",
       "      <td>None</td>\n",
       "    </tr>\n",
       "    <tr>\n",
       "      <th>715</th>\n",
       "      <td>716</td>\n",
       "      <td>ZETA</td>\n",
       "      <td>17.0</td>\n",
       "      <td>6.0</td>\n",
       "      <td>14.0</td>\n",
       "      <td>14.0</td>\n",
       "      <td>17.0</td>\n",
       "      <td>18.0</td>\n",
       "      <td>86.0</td>\n",
       "      <td>1</td>\n",
       "      <td>143.333333</td>\n",
       "      <td>None</td>\n",
       "    </tr>\n",
       "    <tr>\n",
       "      <th>716</th>\n",
       "      <td>717</td>\n",
       "      <td>ZETA</td>\n",
       "      <td>12.0</td>\n",
       "      <td>1.0</td>\n",
       "      <td>6.0</td>\n",
       "      <td>7.0</td>\n",
       "      <td>15.0</td>\n",
       "      <td>12.0</td>\n",
       "      <td>53.0</td>\n",
       "      <td>3</td>\n",
       "      <td>88.333333</td>\n",
       "      <td>None</td>\n",
       "    </tr>\n",
       "    <tr>\n",
       "      <th>717</th>\n",
       "      <td>718</td>\n",
       "      <td>ZETA</td>\n",
       "      <td>19.0</td>\n",
       "      <td>14.0</td>\n",
       "      <td>17.0</td>\n",
       "      <td>16.0</td>\n",
       "      <td>20.0</td>\n",
       "      <td>19.0</td>\n",
       "      <td>105.0</td>\n",
       "      <td>0</td>\n",
       "      <td>175.000000</td>\n",
       "      <td>First</td>\n",
       "    </tr>\n",
       "  </tbody>\n",
       "</table>\n",
       "<p>716 rows × 12 columns</p>\n",
       "</div>"
      ],
      "text/plain": [
       "     S.NO SECTION    DV  M-II    PP  BEEE    FL  FIMS  TOTAL  Backlog_Count  \\\n",
       "0       1   ALPHA  12.0   0.0  17.0   9.0  19.0  15.0   72.0              2   \n",
       "1       2   ALPHA  19.0  12.0  16.0  16.0  18.0   3.0   84.0              1   \n",
       "2       3   ALPHA  18.0  14.0  18.0  18.0  18.0  16.0  102.0              0   \n",
       "3       4   ALPHA  15.0   9.0  19.0  17.0  19.0  15.0   94.0              1   \n",
       "4       5   ALPHA  18.0  17.0  19.0  19.0  20.0  18.0  111.0              0   \n",
       "..    ...     ...   ...   ...   ...   ...   ...   ...    ...            ...   \n",
       "713   714    ZETA  19.0   8.0   8.0  19.0  17.0  18.0   89.0              2   \n",
       "714   715    ZETA  12.0   1.0   7.0  10.0  20.0   8.0   58.0              3   \n",
       "715   716    ZETA  17.0   6.0  14.0  14.0  17.0  18.0   86.0              1   \n",
       "716   717    ZETA  12.0   1.0   6.0   7.0  15.0  12.0   53.0              3   \n",
       "717   718    ZETA  19.0  14.0  17.0  16.0  20.0  19.0  105.0              0   \n",
       "\n",
       "     Percentage  Grade  \n",
       "0    120.000000   None  \n",
       "1    140.000000   None  \n",
       "2    170.000000  First  \n",
       "3    156.666667   None  \n",
       "4    185.000000  First  \n",
       "..          ...    ...  \n",
       "713  148.333333   None  \n",
       "714   96.666667   None  \n",
       "715  143.333333   None  \n",
       "716   88.333333   None  \n",
       "717  175.000000  First  \n",
       "\n",
       "[716 rows x 12 columns]"
      ]
     },
     "execution_count": 83,
     "metadata": {},
     "output_type": "execute_result"
    }
   ],
   "source": [
    "a"
   ]
  },
  {
   "cell_type": "code",
   "execution_count": 85,
   "id": "524e16de-e759-46e2-91d5-7b881921ebc1",
   "metadata": {},
   "outputs": [],
   "source": [
    "a.loc[(a[\"TOTAL\"]>100) & (a[\"TOTAL\"]<=36),[\"Grade\"]]=\"Second\""
   ]
  },
  {
   "cell_type": "code",
   "execution_count": 87,
   "id": "1324ee62-d62c-460f-9d41-91651161dada",
   "metadata": {},
   "outputs": [
    {
     "data": {
      "text/html": [
       "<div>\n",
       "<style scoped>\n",
       "    .dataframe tbody tr th:only-of-type {\n",
       "        vertical-align: middle;\n",
       "    }\n",
       "\n",
       "    .dataframe tbody tr th {\n",
       "        vertical-align: top;\n",
       "    }\n",
       "\n",
       "    .dataframe thead th {\n",
       "        text-align: right;\n",
       "    }\n",
       "</style>\n",
       "<table border=\"1\" class=\"dataframe\">\n",
       "  <thead>\n",
       "    <tr style=\"text-align: right;\">\n",
       "      <th></th>\n",
       "      <th>S.NO</th>\n",
       "      <th>SECTION</th>\n",
       "      <th>DV</th>\n",
       "      <th>M-II</th>\n",
       "      <th>PP</th>\n",
       "      <th>BEEE</th>\n",
       "      <th>FL</th>\n",
       "      <th>FIMS</th>\n",
       "      <th>TOTAL</th>\n",
       "      <th>Backlog_Count</th>\n",
       "      <th>Percentage</th>\n",
       "      <th>Grade</th>\n",
       "    </tr>\n",
       "  </thead>\n",
       "  <tbody>\n",
       "    <tr>\n",
       "      <th>0</th>\n",
       "      <td>1</td>\n",
       "      <td>ALPHA</td>\n",
       "      <td>12.0</td>\n",
       "      <td>0.0</td>\n",
       "      <td>17.0</td>\n",
       "      <td>9.0</td>\n",
       "      <td>19.0</td>\n",
       "      <td>15.0</td>\n",
       "      <td>72.0</td>\n",
       "      <td>2</td>\n",
       "      <td>120.000000</td>\n",
       "      <td>None</td>\n",
       "    </tr>\n",
       "    <tr>\n",
       "      <th>1</th>\n",
       "      <td>2</td>\n",
       "      <td>ALPHA</td>\n",
       "      <td>19.0</td>\n",
       "      <td>12.0</td>\n",
       "      <td>16.0</td>\n",
       "      <td>16.0</td>\n",
       "      <td>18.0</td>\n",
       "      <td>3.0</td>\n",
       "      <td>84.0</td>\n",
       "      <td>1</td>\n",
       "      <td>140.000000</td>\n",
       "      <td>None</td>\n",
       "    </tr>\n",
       "    <tr>\n",
       "      <th>2</th>\n",
       "      <td>3</td>\n",
       "      <td>ALPHA</td>\n",
       "      <td>18.0</td>\n",
       "      <td>14.0</td>\n",
       "      <td>18.0</td>\n",
       "      <td>18.0</td>\n",
       "      <td>18.0</td>\n",
       "      <td>16.0</td>\n",
       "      <td>102.0</td>\n",
       "      <td>0</td>\n",
       "      <td>170.000000</td>\n",
       "      <td>First</td>\n",
       "    </tr>\n",
       "    <tr>\n",
       "      <th>3</th>\n",
       "      <td>4</td>\n",
       "      <td>ALPHA</td>\n",
       "      <td>15.0</td>\n",
       "      <td>9.0</td>\n",
       "      <td>19.0</td>\n",
       "      <td>17.0</td>\n",
       "      <td>19.0</td>\n",
       "      <td>15.0</td>\n",
       "      <td>94.0</td>\n",
       "      <td>1</td>\n",
       "      <td>156.666667</td>\n",
       "      <td>None</td>\n",
       "    </tr>\n",
       "    <tr>\n",
       "      <th>4</th>\n",
       "      <td>5</td>\n",
       "      <td>ALPHA</td>\n",
       "      <td>18.0</td>\n",
       "      <td>17.0</td>\n",
       "      <td>19.0</td>\n",
       "      <td>19.0</td>\n",
       "      <td>20.0</td>\n",
       "      <td>18.0</td>\n",
       "      <td>111.0</td>\n",
       "      <td>0</td>\n",
       "      <td>185.000000</td>\n",
       "      <td>First</td>\n",
       "    </tr>\n",
       "    <tr>\n",
       "      <th>...</th>\n",
       "      <td>...</td>\n",
       "      <td>...</td>\n",
       "      <td>...</td>\n",
       "      <td>...</td>\n",
       "      <td>...</td>\n",
       "      <td>...</td>\n",
       "      <td>...</td>\n",
       "      <td>...</td>\n",
       "      <td>...</td>\n",
       "      <td>...</td>\n",
       "      <td>...</td>\n",
       "      <td>...</td>\n",
       "    </tr>\n",
       "    <tr>\n",
       "      <th>713</th>\n",
       "      <td>714</td>\n",
       "      <td>ZETA</td>\n",
       "      <td>19.0</td>\n",
       "      <td>8.0</td>\n",
       "      <td>8.0</td>\n",
       "      <td>19.0</td>\n",
       "      <td>17.0</td>\n",
       "      <td>18.0</td>\n",
       "      <td>89.0</td>\n",
       "      <td>2</td>\n",
       "      <td>148.333333</td>\n",
       "      <td>None</td>\n",
       "    </tr>\n",
       "    <tr>\n",
       "      <th>714</th>\n",
       "      <td>715</td>\n",
       "      <td>ZETA</td>\n",
       "      <td>12.0</td>\n",
       "      <td>1.0</td>\n",
       "      <td>7.0</td>\n",
       "      <td>10.0</td>\n",
       "      <td>20.0</td>\n",
       "      <td>8.0</td>\n",
       "      <td>58.0</td>\n",
       "      <td>3</td>\n",
       "      <td>96.666667</td>\n",
       "      <td>None</td>\n",
       "    </tr>\n",
       "    <tr>\n",
       "      <th>715</th>\n",
       "      <td>716</td>\n",
       "      <td>ZETA</td>\n",
       "      <td>17.0</td>\n",
       "      <td>6.0</td>\n",
       "      <td>14.0</td>\n",
       "      <td>14.0</td>\n",
       "      <td>17.0</td>\n",
       "      <td>18.0</td>\n",
       "      <td>86.0</td>\n",
       "      <td>1</td>\n",
       "      <td>143.333333</td>\n",
       "      <td>None</td>\n",
       "    </tr>\n",
       "    <tr>\n",
       "      <th>716</th>\n",
       "      <td>717</td>\n",
       "      <td>ZETA</td>\n",
       "      <td>12.0</td>\n",
       "      <td>1.0</td>\n",
       "      <td>6.0</td>\n",
       "      <td>7.0</td>\n",
       "      <td>15.0</td>\n",
       "      <td>12.0</td>\n",
       "      <td>53.0</td>\n",
       "      <td>3</td>\n",
       "      <td>88.333333</td>\n",
       "      <td>None</td>\n",
       "    </tr>\n",
       "    <tr>\n",
       "      <th>717</th>\n",
       "      <td>718</td>\n",
       "      <td>ZETA</td>\n",
       "      <td>19.0</td>\n",
       "      <td>14.0</td>\n",
       "      <td>17.0</td>\n",
       "      <td>16.0</td>\n",
       "      <td>20.0</td>\n",
       "      <td>19.0</td>\n",
       "      <td>105.0</td>\n",
       "      <td>0</td>\n",
       "      <td>175.000000</td>\n",
       "      <td>First</td>\n",
       "    </tr>\n",
       "  </tbody>\n",
       "</table>\n",
       "<p>716 rows × 12 columns</p>\n",
       "</div>"
      ],
      "text/plain": [
       "     S.NO SECTION    DV  M-II    PP  BEEE    FL  FIMS  TOTAL  Backlog_Count  \\\n",
       "0       1   ALPHA  12.0   0.0  17.0   9.0  19.0  15.0   72.0              2   \n",
       "1       2   ALPHA  19.0  12.0  16.0  16.0  18.0   3.0   84.0              1   \n",
       "2       3   ALPHA  18.0  14.0  18.0  18.0  18.0  16.0  102.0              0   \n",
       "3       4   ALPHA  15.0   9.0  19.0  17.0  19.0  15.0   94.0              1   \n",
       "4       5   ALPHA  18.0  17.0  19.0  19.0  20.0  18.0  111.0              0   \n",
       "..    ...     ...   ...   ...   ...   ...   ...   ...    ...            ...   \n",
       "713   714    ZETA  19.0   8.0   8.0  19.0  17.0  18.0   89.0              2   \n",
       "714   715    ZETA  12.0   1.0   7.0  10.0  20.0   8.0   58.0              3   \n",
       "715   716    ZETA  17.0   6.0  14.0  14.0  17.0  18.0   86.0              1   \n",
       "716   717    ZETA  12.0   1.0   6.0   7.0  15.0  12.0   53.0              3   \n",
       "717   718    ZETA  19.0  14.0  17.0  16.0  20.0  19.0  105.0              0   \n",
       "\n",
       "     Percentage  Grade  \n",
       "0    120.000000   None  \n",
       "1    140.000000   None  \n",
       "2    170.000000  First  \n",
       "3    156.666667   None  \n",
       "4    185.000000  First  \n",
       "..          ...    ...  \n",
       "713  148.333333   None  \n",
       "714   96.666667   None  \n",
       "715  143.333333   None  \n",
       "716   88.333333   None  \n",
       "717  175.000000  First  \n",
       "\n",
       "[716 rows x 12 columns]"
      ]
     },
     "execution_count": 87,
     "metadata": {},
     "output_type": "execute_result"
    }
   ],
   "source": [
    "a"
   ]
  },
  {
   "cell_type": "code",
   "execution_count": 89,
   "id": "4fc920a3-342d-4866-836c-7d036e730df5",
   "metadata": {},
   "outputs": [
    {
     "data": {
      "text/html": [
       "<div>\n",
       "<style scoped>\n",
       "    .dataframe tbody tr th:only-of-type {\n",
       "        vertical-align: middle;\n",
       "    }\n",
       "\n",
       "    .dataframe tbody tr th {\n",
       "        vertical-align: top;\n",
       "    }\n",
       "\n",
       "    .dataframe thead th {\n",
       "        text-align: right;\n",
       "    }\n",
       "</style>\n",
       "<table border=\"1\" class=\"dataframe\">\n",
       "  <thead>\n",
       "    <tr style=\"text-align: right;\">\n",
       "      <th></th>\n",
       "      <th>S.NO</th>\n",
       "      <th>SECTION</th>\n",
       "      <th>DV</th>\n",
       "      <th>M-II</th>\n",
       "      <th>PP</th>\n",
       "      <th>BEEE</th>\n",
       "      <th>FL</th>\n",
       "      <th>FIMS</th>\n",
       "      <th>TOTAL</th>\n",
       "      <th>Backlog_Count</th>\n",
       "      <th>Percentage</th>\n",
       "      <th>Grade</th>\n",
       "    </tr>\n",
       "  </thead>\n",
       "  <tbody>\n",
       "    <tr>\n",
       "      <th>0</th>\n",
       "      <td>1</td>\n",
       "      <td>ALPHA</td>\n",
       "      <td>12.0</td>\n",
       "      <td>0.0</td>\n",
       "      <td>17.0</td>\n",
       "      <td>9.0</td>\n",
       "      <td>19.0</td>\n",
       "      <td>15.0</td>\n",
       "      <td>72.0</td>\n",
       "      <td>2</td>\n",
       "      <td>120.000000</td>\n",
       "      <td>B+</td>\n",
       "    </tr>\n",
       "    <tr>\n",
       "      <th>1</th>\n",
       "      <td>2</td>\n",
       "      <td>ALPHA</td>\n",
       "      <td>19.0</td>\n",
       "      <td>12.0</td>\n",
       "      <td>16.0</td>\n",
       "      <td>16.0</td>\n",
       "      <td>18.0</td>\n",
       "      <td>3.0</td>\n",
       "      <td>84.0</td>\n",
       "      <td>1</td>\n",
       "      <td>140.000000</td>\n",
       "      <td>B+</td>\n",
       "    </tr>\n",
       "    <tr>\n",
       "      <th>2</th>\n",
       "      <td>3</td>\n",
       "      <td>ALPHA</td>\n",
       "      <td>18.0</td>\n",
       "      <td>14.0</td>\n",
       "      <td>18.0</td>\n",
       "      <td>18.0</td>\n",
       "      <td>18.0</td>\n",
       "      <td>16.0</td>\n",
       "      <td>102.0</td>\n",
       "      <td>0</td>\n",
       "      <td>170.000000</td>\n",
       "      <td>A</td>\n",
       "    </tr>\n",
       "    <tr>\n",
       "      <th>3</th>\n",
       "      <td>4</td>\n",
       "      <td>ALPHA</td>\n",
       "      <td>15.0</td>\n",
       "      <td>9.0</td>\n",
       "      <td>19.0</td>\n",
       "      <td>17.0</td>\n",
       "      <td>19.0</td>\n",
       "      <td>15.0</td>\n",
       "      <td>94.0</td>\n",
       "      <td>1</td>\n",
       "      <td>156.666667</td>\n",
       "      <td>A</td>\n",
       "    </tr>\n",
       "    <tr>\n",
       "      <th>4</th>\n",
       "      <td>5</td>\n",
       "      <td>ALPHA</td>\n",
       "      <td>18.0</td>\n",
       "      <td>17.0</td>\n",
       "      <td>19.0</td>\n",
       "      <td>19.0</td>\n",
       "      <td>20.0</td>\n",
       "      <td>18.0</td>\n",
       "      <td>111.0</td>\n",
       "      <td>0</td>\n",
       "      <td>185.000000</td>\n",
       "      <td>A+</td>\n",
       "    </tr>\n",
       "    <tr>\n",
       "      <th>...</th>\n",
       "      <td>...</td>\n",
       "      <td>...</td>\n",
       "      <td>...</td>\n",
       "      <td>...</td>\n",
       "      <td>...</td>\n",
       "      <td>...</td>\n",
       "      <td>...</td>\n",
       "      <td>...</td>\n",
       "      <td>...</td>\n",
       "      <td>...</td>\n",
       "      <td>...</td>\n",
       "      <td>...</td>\n",
       "    </tr>\n",
       "    <tr>\n",
       "      <th>713</th>\n",
       "      <td>714</td>\n",
       "      <td>ZETA</td>\n",
       "      <td>19.0</td>\n",
       "      <td>8.0</td>\n",
       "      <td>8.0</td>\n",
       "      <td>19.0</td>\n",
       "      <td>17.0</td>\n",
       "      <td>18.0</td>\n",
       "      <td>89.0</td>\n",
       "      <td>2</td>\n",
       "      <td>148.333333</td>\n",
       "      <td>B+</td>\n",
       "    </tr>\n",
       "    <tr>\n",
       "      <th>714</th>\n",
       "      <td>715</td>\n",
       "      <td>ZETA</td>\n",
       "      <td>12.0</td>\n",
       "      <td>1.0</td>\n",
       "      <td>7.0</td>\n",
       "      <td>10.0</td>\n",
       "      <td>20.0</td>\n",
       "      <td>8.0</td>\n",
       "      <td>58.0</td>\n",
       "      <td>3</td>\n",
       "      <td>96.666667</td>\n",
       "      <td>B</td>\n",
       "    </tr>\n",
       "    <tr>\n",
       "      <th>715</th>\n",
       "      <td>716</td>\n",
       "      <td>ZETA</td>\n",
       "      <td>17.0</td>\n",
       "      <td>6.0</td>\n",
       "      <td>14.0</td>\n",
       "      <td>14.0</td>\n",
       "      <td>17.0</td>\n",
       "      <td>18.0</td>\n",
       "      <td>86.0</td>\n",
       "      <td>1</td>\n",
       "      <td>143.333333</td>\n",
       "      <td>B+</td>\n",
       "    </tr>\n",
       "    <tr>\n",
       "      <th>716</th>\n",
       "      <td>717</td>\n",
       "      <td>ZETA</td>\n",
       "      <td>12.0</td>\n",
       "      <td>1.0</td>\n",
       "      <td>6.0</td>\n",
       "      <td>7.0</td>\n",
       "      <td>15.0</td>\n",
       "      <td>12.0</td>\n",
       "      <td>53.0</td>\n",
       "      <td>3</td>\n",
       "      <td>88.333333</td>\n",
       "      <td>B</td>\n",
       "    </tr>\n",
       "    <tr>\n",
       "      <th>717</th>\n",
       "      <td>718</td>\n",
       "      <td>ZETA</td>\n",
       "      <td>19.0</td>\n",
       "      <td>14.0</td>\n",
       "      <td>17.0</td>\n",
       "      <td>16.0</td>\n",
       "      <td>20.0</td>\n",
       "      <td>19.0</td>\n",
       "      <td>105.0</td>\n",
       "      <td>0</td>\n",
       "      <td>175.000000</td>\n",
       "      <td>A</td>\n",
       "    </tr>\n",
       "  </tbody>\n",
       "</table>\n",
       "<p>716 rows × 12 columns</p>\n",
       "</div>"
      ],
      "text/plain": [
       "     S.NO SECTION    DV  M-II    PP  BEEE    FL  FIMS  TOTAL  Backlog_Count  \\\n",
       "0       1   ALPHA  12.0   0.0  17.0   9.0  19.0  15.0   72.0              2   \n",
       "1       2   ALPHA  19.0  12.0  16.0  16.0  18.0   3.0   84.0              1   \n",
       "2       3   ALPHA  18.0  14.0  18.0  18.0  18.0  16.0  102.0              0   \n",
       "3       4   ALPHA  15.0   9.0  19.0  17.0  19.0  15.0   94.0              1   \n",
       "4       5   ALPHA  18.0  17.0  19.0  19.0  20.0  18.0  111.0              0   \n",
       "..    ...     ...   ...   ...   ...   ...   ...   ...    ...            ...   \n",
       "713   714    ZETA  19.0   8.0   8.0  19.0  17.0  18.0   89.0              2   \n",
       "714   715    ZETA  12.0   1.0   7.0  10.0  20.0   8.0   58.0              3   \n",
       "715   716    ZETA  17.0   6.0  14.0  14.0  17.0  18.0   86.0              1   \n",
       "716   717    ZETA  12.0   1.0   6.0   7.0  15.0  12.0   53.0              3   \n",
       "717   718    ZETA  19.0  14.0  17.0  16.0  20.0  19.0  105.0              0   \n",
       "\n",
       "     Percentage Grade  \n",
       "0    120.000000    B+  \n",
       "1    140.000000    B+  \n",
       "2    170.000000     A  \n",
       "3    156.666667     A  \n",
       "4    185.000000    A+  \n",
       "..          ...   ...  \n",
       "713  148.333333    B+  \n",
       "714   96.666667     B  \n",
       "715  143.333333    B+  \n",
       "716   88.333333     B  \n",
       "717  175.000000     A  \n",
       "\n",
       "[716 rows x 12 columns]"
      ]
     },
     "execution_count": 89,
     "metadata": {},
     "output_type": "execute_result"
    }
   ],
   "source": [
    "a.loc[a[\"TOTAL\"]>110,[\"Grade\"]]=\"A+\"\n",
    "a.loc[(a[\"TOTAL\"]>90) & (a[\"TOTAL\"]<=110),[\"Grade\"]]=\"A\"\n",
    "a.loc[(a[\"TOTAL\"]>70) & (a[\"TOTAL\"]<=90),[\"Grade\"]]=\"B+\"\n",
    "a.loc[(a[\"TOTAL\"]>50) & (a[\"TOTAL\"]<=70),[\"Grade\"]]=\"B\"\n",
    "a.loc[(a[\"TOTAL\"]<=50),[\"Grade\"]]=\"Fail\"\n",
    "a"
   ]
  },
  {
   "cell_type": "code",
   "execution_count": 91,
   "id": "54d8e4f6-5634-4040-b741-8b5128ed3613",
   "metadata": {},
   "outputs": [
    {
     "name": "stderr",
     "output_type": "stream",
     "text": [
      "C:\\Users\\modil\\AppData\\Local\\Temp\\ipykernel_19068\\2354032807.py:1: SettingWithCopyWarning: \n",
      "A value is trying to be set on a copy of a slice from a DataFrame.\n",
      "Try using .loc[row_indexer,col_indexer] = value instead\n",
      "\n",
      "See the caveats in the documentation: https://pandas.pydata.org/pandas-docs/stable/user_guide/indexing.html#returning-a-view-versus-a-copy\n",
      "  a[\"backlog\"]=None\n"
     ]
    }
   ],
   "source": [
    "a[\"backlog\"]=None"
   ]
  },
  {
   "cell_type": "code",
   "execution_count": 93,
   "id": "ae14489f-6aec-4e0a-9f60-ea050d0f5403",
   "metadata": {},
   "outputs": [
    {
     "data": {
      "text/html": [
       "<div>\n",
       "<style scoped>\n",
       "    .dataframe tbody tr th:only-of-type {\n",
       "        vertical-align: middle;\n",
       "    }\n",
       "\n",
       "    .dataframe tbody tr th {\n",
       "        vertical-align: top;\n",
       "    }\n",
       "\n",
       "    .dataframe thead th {\n",
       "        text-align: right;\n",
       "    }\n",
       "</style>\n",
       "<table border=\"1\" class=\"dataframe\">\n",
       "  <thead>\n",
       "    <tr style=\"text-align: right;\">\n",
       "      <th></th>\n",
       "      <th>S.NO</th>\n",
       "      <th>SECTION</th>\n",
       "      <th>DV</th>\n",
       "      <th>M-II</th>\n",
       "      <th>PP</th>\n",
       "      <th>BEEE</th>\n",
       "      <th>FL</th>\n",
       "      <th>FIMS</th>\n",
       "      <th>TOTAL</th>\n",
       "      <th>Backlog_Count</th>\n",
       "      <th>Percentage</th>\n",
       "      <th>Grade</th>\n",
       "      <th>backlog</th>\n",
       "    </tr>\n",
       "  </thead>\n",
       "  <tbody>\n",
       "    <tr>\n",
       "      <th>0</th>\n",
       "      <td>1</td>\n",
       "      <td>ALPHA</td>\n",
       "      <td>12.0</td>\n",
       "      <td>0.0</td>\n",
       "      <td>17.0</td>\n",
       "      <td>9.0</td>\n",
       "      <td>19.0</td>\n",
       "      <td>15.0</td>\n",
       "      <td>72.0</td>\n",
       "      <td>2</td>\n",
       "      <td>120.000000</td>\n",
       "      <td>B+</td>\n",
       "      <td>None</td>\n",
       "    </tr>\n",
       "    <tr>\n",
       "      <th>1</th>\n",
       "      <td>2</td>\n",
       "      <td>ALPHA</td>\n",
       "      <td>19.0</td>\n",
       "      <td>12.0</td>\n",
       "      <td>16.0</td>\n",
       "      <td>16.0</td>\n",
       "      <td>18.0</td>\n",
       "      <td>3.0</td>\n",
       "      <td>84.0</td>\n",
       "      <td>1</td>\n",
       "      <td>140.000000</td>\n",
       "      <td>B+</td>\n",
       "      <td>None</td>\n",
       "    </tr>\n",
       "    <tr>\n",
       "      <th>2</th>\n",
       "      <td>3</td>\n",
       "      <td>ALPHA</td>\n",
       "      <td>18.0</td>\n",
       "      <td>14.0</td>\n",
       "      <td>18.0</td>\n",
       "      <td>18.0</td>\n",
       "      <td>18.0</td>\n",
       "      <td>16.0</td>\n",
       "      <td>102.0</td>\n",
       "      <td>0</td>\n",
       "      <td>170.000000</td>\n",
       "      <td>A</td>\n",
       "      <td>None</td>\n",
       "    </tr>\n",
       "    <tr>\n",
       "      <th>3</th>\n",
       "      <td>4</td>\n",
       "      <td>ALPHA</td>\n",
       "      <td>15.0</td>\n",
       "      <td>9.0</td>\n",
       "      <td>19.0</td>\n",
       "      <td>17.0</td>\n",
       "      <td>19.0</td>\n",
       "      <td>15.0</td>\n",
       "      <td>94.0</td>\n",
       "      <td>1</td>\n",
       "      <td>156.666667</td>\n",
       "      <td>A</td>\n",
       "      <td>None</td>\n",
       "    </tr>\n",
       "    <tr>\n",
       "      <th>4</th>\n",
       "      <td>5</td>\n",
       "      <td>ALPHA</td>\n",
       "      <td>18.0</td>\n",
       "      <td>17.0</td>\n",
       "      <td>19.0</td>\n",
       "      <td>19.0</td>\n",
       "      <td>20.0</td>\n",
       "      <td>18.0</td>\n",
       "      <td>111.0</td>\n",
       "      <td>0</td>\n",
       "      <td>185.000000</td>\n",
       "      <td>A+</td>\n",
       "      <td>None</td>\n",
       "    </tr>\n",
       "    <tr>\n",
       "      <th>...</th>\n",
       "      <td>...</td>\n",
       "      <td>...</td>\n",
       "      <td>...</td>\n",
       "      <td>...</td>\n",
       "      <td>...</td>\n",
       "      <td>...</td>\n",
       "      <td>...</td>\n",
       "      <td>...</td>\n",
       "      <td>...</td>\n",
       "      <td>...</td>\n",
       "      <td>...</td>\n",
       "      <td>...</td>\n",
       "      <td>...</td>\n",
       "    </tr>\n",
       "    <tr>\n",
       "      <th>713</th>\n",
       "      <td>714</td>\n",
       "      <td>ZETA</td>\n",
       "      <td>19.0</td>\n",
       "      <td>8.0</td>\n",
       "      <td>8.0</td>\n",
       "      <td>19.0</td>\n",
       "      <td>17.0</td>\n",
       "      <td>18.0</td>\n",
       "      <td>89.0</td>\n",
       "      <td>2</td>\n",
       "      <td>148.333333</td>\n",
       "      <td>B+</td>\n",
       "      <td>None</td>\n",
       "    </tr>\n",
       "    <tr>\n",
       "      <th>714</th>\n",
       "      <td>715</td>\n",
       "      <td>ZETA</td>\n",
       "      <td>12.0</td>\n",
       "      <td>1.0</td>\n",
       "      <td>7.0</td>\n",
       "      <td>10.0</td>\n",
       "      <td>20.0</td>\n",
       "      <td>8.0</td>\n",
       "      <td>58.0</td>\n",
       "      <td>3</td>\n",
       "      <td>96.666667</td>\n",
       "      <td>B</td>\n",
       "      <td>None</td>\n",
       "    </tr>\n",
       "    <tr>\n",
       "      <th>715</th>\n",
       "      <td>716</td>\n",
       "      <td>ZETA</td>\n",
       "      <td>17.0</td>\n",
       "      <td>6.0</td>\n",
       "      <td>14.0</td>\n",
       "      <td>14.0</td>\n",
       "      <td>17.0</td>\n",
       "      <td>18.0</td>\n",
       "      <td>86.0</td>\n",
       "      <td>1</td>\n",
       "      <td>143.333333</td>\n",
       "      <td>B+</td>\n",
       "      <td>None</td>\n",
       "    </tr>\n",
       "    <tr>\n",
       "      <th>716</th>\n",
       "      <td>717</td>\n",
       "      <td>ZETA</td>\n",
       "      <td>12.0</td>\n",
       "      <td>1.0</td>\n",
       "      <td>6.0</td>\n",
       "      <td>7.0</td>\n",
       "      <td>15.0</td>\n",
       "      <td>12.0</td>\n",
       "      <td>53.0</td>\n",
       "      <td>3</td>\n",
       "      <td>88.333333</td>\n",
       "      <td>B</td>\n",
       "      <td>None</td>\n",
       "    </tr>\n",
       "    <tr>\n",
       "      <th>717</th>\n",
       "      <td>718</td>\n",
       "      <td>ZETA</td>\n",
       "      <td>19.0</td>\n",
       "      <td>14.0</td>\n",
       "      <td>17.0</td>\n",
       "      <td>16.0</td>\n",
       "      <td>20.0</td>\n",
       "      <td>19.0</td>\n",
       "      <td>105.0</td>\n",
       "      <td>0</td>\n",
       "      <td>175.000000</td>\n",
       "      <td>A</td>\n",
       "      <td>None</td>\n",
       "    </tr>\n",
       "  </tbody>\n",
       "</table>\n",
       "<p>716 rows × 13 columns</p>\n",
       "</div>"
      ],
      "text/plain": [
       "     S.NO SECTION    DV  M-II    PP  BEEE    FL  FIMS  TOTAL  Backlog_Count  \\\n",
       "0       1   ALPHA  12.0   0.0  17.0   9.0  19.0  15.0   72.0              2   \n",
       "1       2   ALPHA  19.0  12.0  16.0  16.0  18.0   3.0   84.0              1   \n",
       "2       3   ALPHA  18.0  14.0  18.0  18.0  18.0  16.0  102.0              0   \n",
       "3       4   ALPHA  15.0   9.0  19.0  17.0  19.0  15.0   94.0              1   \n",
       "4       5   ALPHA  18.0  17.0  19.0  19.0  20.0  18.0  111.0              0   \n",
       "..    ...     ...   ...   ...   ...   ...   ...   ...    ...            ...   \n",
       "713   714    ZETA  19.0   8.0   8.0  19.0  17.0  18.0   89.0              2   \n",
       "714   715    ZETA  12.0   1.0   7.0  10.0  20.0   8.0   58.0              3   \n",
       "715   716    ZETA  17.0   6.0  14.0  14.0  17.0  18.0   86.0              1   \n",
       "716   717    ZETA  12.0   1.0   6.0   7.0  15.0  12.0   53.0              3   \n",
       "717   718    ZETA  19.0  14.0  17.0  16.0  20.0  19.0  105.0              0   \n",
       "\n",
       "     Percentage Grade backlog  \n",
       "0    120.000000    B+    None  \n",
       "1    140.000000    B+    None  \n",
       "2    170.000000     A    None  \n",
       "3    156.666667     A    None  \n",
       "4    185.000000    A+    None  \n",
       "..          ...   ...     ...  \n",
       "713  148.333333    B+    None  \n",
       "714   96.666667     B    None  \n",
       "715  143.333333    B+    None  \n",
       "716   88.333333     B    None  \n",
       "717  175.000000     A    None  \n",
       "\n",
       "[716 rows x 13 columns]"
      ]
     },
     "execution_count": 93,
     "metadata": {},
     "output_type": "execute_result"
    }
   ],
   "source": [
    "a"
   ]
  },
  {
   "cell_type": "code",
   "execution_count": 95,
   "id": "2d941e5f-978d-47db-8578-c72ea32b058e",
   "metadata": {},
   "outputs": [
    {
     "name": "stderr",
     "output_type": "stream",
     "text": [
      "C:\\Users\\modil\\AppData\\Local\\Temp\\ipykernel_19068\\3481529661.py:1: FutureWarning: Downcasting object dtype arrays on .fillna, .ffill, .bfill is deprecated and will change in a future version. Call result.infer_objects(copy=False) instead. To opt-in to the future behavior, set `pd.set_option('future.no_silent_downcasting', True)`\n",
      "  a.fillna(0)\n"
     ]
    },
    {
     "data": {
      "text/html": [
       "<div>\n",
       "<style scoped>\n",
       "    .dataframe tbody tr th:only-of-type {\n",
       "        vertical-align: middle;\n",
       "    }\n",
       "\n",
       "    .dataframe tbody tr th {\n",
       "        vertical-align: top;\n",
       "    }\n",
       "\n",
       "    .dataframe thead th {\n",
       "        text-align: right;\n",
       "    }\n",
       "</style>\n",
       "<table border=\"1\" class=\"dataframe\">\n",
       "  <thead>\n",
       "    <tr style=\"text-align: right;\">\n",
       "      <th></th>\n",
       "      <th>S.NO</th>\n",
       "      <th>SECTION</th>\n",
       "      <th>DV</th>\n",
       "      <th>M-II</th>\n",
       "      <th>PP</th>\n",
       "      <th>BEEE</th>\n",
       "      <th>FL</th>\n",
       "      <th>FIMS</th>\n",
       "      <th>TOTAL</th>\n",
       "      <th>Backlog_Count</th>\n",
       "      <th>Percentage</th>\n",
       "      <th>Grade</th>\n",
       "      <th>backlog</th>\n",
       "    </tr>\n",
       "  </thead>\n",
       "  <tbody>\n",
       "    <tr>\n",
       "      <th>0</th>\n",
       "      <td>1</td>\n",
       "      <td>ALPHA</td>\n",
       "      <td>12.0</td>\n",
       "      <td>0.0</td>\n",
       "      <td>17.0</td>\n",
       "      <td>9.0</td>\n",
       "      <td>19.0</td>\n",
       "      <td>15.0</td>\n",
       "      <td>72.0</td>\n",
       "      <td>2</td>\n",
       "      <td>120.000000</td>\n",
       "      <td>B+</td>\n",
       "      <td>0</td>\n",
       "    </tr>\n",
       "    <tr>\n",
       "      <th>1</th>\n",
       "      <td>2</td>\n",
       "      <td>ALPHA</td>\n",
       "      <td>19.0</td>\n",
       "      <td>12.0</td>\n",
       "      <td>16.0</td>\n",
       "      <td>16.0</td>\n",
       "      <td>18.0</td>\n",
       "      <td>3.0</td>\n",
       "      <td>84.0</td>\n",
       "      <td>1</td>\n",
       "      <td>140.000000</td>\n",
       "      <td>B+</td>\n",
       "      <td>0</td>\n",
       "    </tr>\n",
       "    <tr>\n",
       "      <th>2</th>\n",
       "      <td>3</td>\n",
       "      <td>ALPHA</td>\n",
       "      <td>18.0</td>\n",
       "      <td>14.0</td>\n",
       "      <td>18.0</td>\n",
       "      <td>18.0</td>\n",
       "      <td>18.0</td>\n",
       "      <td>16.0</td>\n",
       "      <td>102.0</td>\n",
       "      <td>0</td>\n",
       "      <td>170.000000</td>\n",
       "      <td>A</td>\n",
       "      <td>0</td>\n",
       "    </tr>\n",
       "    <tr>\n",
       "      <th>3</th>\n",
       "      <td>4</td>\n",
       "      <td>ALPHA</td>\n",
       "      <td>15.0</td>\n",
       "      <td>9.0</td>\n",
       "      <td>19.0</td>\n",
       "      <td>17.0</td>\n",
       "      <td>19.0</td>\n",
       "      <td>15.0</td>\n",
       "      <td>94.0</td>\n",
       "      <td>1</td>\n",
       "      <td>156.666667</td>\n",
       "      <td>A</td>\n",
       "      <td>0</td>\n",
       "    </tr>\n",
       "    <tr>\n",
       "      <th>4</th>\n",
       "      <td>5</td>\n",
       "      <td>ALPHA</td>\n",
       "      <td>18.0</td>\n",
       "      <td>17.0</td>\n",
       "      <td>19.0</td>\n",
       "      <td>19.0</td>\n",
       "      <td>20.0</td>\n",
       "      <td>18.0</td>\n",
       "      <td>111.0</td>\n",
       "      <td>0</td>\n",
       "      <td>185.000000</td>\n",
       "      <td>A+</td>\n",
       "      <td>0</td>\n",
       "    </tr>\n",
       "    <tr>\n",
       "      <th>...</th>\n",
       "      <td>...</td>\n",
       "      <td>...</td>\n",
       "      <td>...</td>\n",
       "      <td>...</td>\n",
       "      <td>...</td>\n",
       "      <td>...</td>\n",
       "      <td>...</td>\n",
       "      <td>...</td>\n",
       "      <td>...</td>\n",
       "      <td>...</td>\n",
       "      <td>...</td>\n",
       "      <td>...</td>\n",
       "      <td>...</td>\n",
       "    </tr>\n",
       "    <tr>\n",
       "      <th>713</th>\n",
       "      <td>714</td>\n",
       "      <td>ZETA</td>\n",
       "      <td>19.0</td>\n",
       "      <td>8.0</td>\n",
       "      <td>8.0</td>\n",
       "      <td>19.0</td>\n",
       "      <td>17.0</td>\n",
       "      <td>18.0</td>\n",
       "      <td>89.0</td>\n",
       "      <td>2</td>\n",
       "      <td>148.333333</td>\n",
       "      <td>B+</td>\n",
       "      <td>0</td>\n",
       "    </tr>\n",
       "    <tr>\n",
       "      <th>714</th>\n",
       "      <td>715</td>\n",
       "      <td>ZETA</td>\n",
       "      <td>12.0</td>\n",
       "      <td>1.0</td>\n",
       "      <td>7.0</td>\n",
       "      <td>10.0</td>\n",
       "      <td>20.0</td>\n",
       "      <td>8.0</td>\n",
       "      <td>58.0</td>\n",
       "      <td>3</td>\n",
       "      <td>96.666667</td>\n",
       "      <td>B</td>\n",
       "      <td>0</td>\n",
       "    </tr>\n",
       "    <tr>\n",
       "      <th>715</th>\n",
       "      <td>716</td>\n",
       "      <td>ZETA</td>\n",
       "      <td>17.0</td>\n",
       "      <td>6.0</td>\n",
       "      <td>14.0</td>\n",
       "      <td>14.0</td>\n",
       "      <td>17.0</td>\n",
       "      <td>18.0</td>\n",
       "      <td>86.0</td>\n",
       "      <td>1</td>\n",
       "      <td>143.333333</td>\n",
       "      <td>B+</td>\n",
       "      <td>0</td>\n",
       "    </tr>\n",
       "    <tr>\n",
       "      <th>716</th>\n",
       "      <td>717</td>\n",
       "      <td>ZETA</td>\n",
       "      <td>12.0</td>\n",
       "      <td>1.0</td>\n",
       "      <td>6.0</td>\n",
       "      <td>7.0</td>\n",
       "      <td>15.0</td>\n",
       "      <td>12.0</td>\n",
       "      <td>53.0</td>\n",
       "      <td>3</td>\n",
       "      <td>88.333333</td>\n",
       "      <td>B</td>\n",
       "      <td>0</td>\n",
       "    </tr>\n",
       "    <tr>\n",
       "      <th>717</th>\n",
       "      <td>718</td>\n",
       "      <td>ZETA</td>\n",
       "      <td>19.0</td>\n",
       "      <td>14.0</td>\n",
       "      <td>17.0</td>\n",
       "      <td>16.0</td>\n",
       "      <td>20.0</td>\n",
       "      <td>19.0</td>\n",
       "      <td>105.0</td>\n",
       "      <td>0</td>\n",
       "      <td>175.000000</td>\n",
       "      <td>A</td>\n",
       "      <td>0</td>\n",
       "    </tr>\n",
       "  </tbody>\n",
       "</table>\n",
       "<p>716 rows × 13 columns</p>\n",
       "</div>"
      ],
      "text/plain": [
       "     S.NO SECTION    DV  M-II    PP  BEEE    FL  FIMS  TOTAL  Backlog_Count  \\\n",
       "0       1   ALPHA  12.0   0.0  17.0   9.0  19.0  15.0   72.0              2   \n",
       "1       2   ALPHA  19.0  12.0  16.0  16.0  18.0   3.0   84.0              1   \n",
       "2       3   ALPHA  18.0  14.0  18.0  18.0  18.0  16.0  102.0              0   \n",
       "3       4   ALPHA  15.0   9.0  19.0  17.0  19.0  15.0   94.0              1   \n",
       "4       5   ALPHA  18.0  17.0  19.0  19.0  20.0  18.0  111.0              0   \n",
       "..    ...     ...   ...   ...   ...   ...   ...   ...    ...            ...   \n",
       "713   714    ZETA  19.0   8.0   8.0  19.0  17.0  18.0   89.0              2   \n",
       "714   715    ZETA  12.0   1.0   7.0  10.0  20.0   8.0   58.0              3   \n",
       "715   716    ZETA  17.0   6.0  14.0  14.0  17.0  18.0   86.0              1   \n",
       "716   717    ZETA  12.0   1.0   6.0   7.0  15.0  12.0   53.0              3   \n",
       "717   718    ZETA  19.0  14.0  17.0  16.0  20.0  19.0  105.0              0   \n",
       "\n",
       "     Percentage Grade  backlog  \n",
       "0    120.000000    B+        0  \n",
       "1    140.000000    B+        0  \n",
       "2    170.000000     A        0  \n",
       "3    156.666667     A        0  \n",
       "4    185.000000    A+        0  \n",
       "..          ...   ...      ...  \n",
       "713  148.333333    B+        0  \n",
       "714   96.666667     B        0  \n",
       "715  143.333333    B+        0  \n",
       "716   88.333333     B        0  \n",
       "717  175.000000     A        0  \n",
       "\n",
       "[716 rows x 13 columns]"
      ]
     },
     "execution_count": 95,
     "metadata": {},
     "output_type": "execute_result"
    }
   ],
   "source": [
    "a.fillna(0)"
   ]
  },
  {
   "cell_type": "code",
   "execution_count": null,
   "id": "0ec980bc-973d-44fc-930b-1621afe83fcf",
   "metadata": {},
   "outputs": [],
   "source": []
  },
  {
   "cell_type": "code",
   "execution_count": 98,
   "id": "a931646b-5747-44b5-b637-ff9d8d00666c",
   "metadata": {},
   "outputs": [
    {
     "name": "stdout",
     "output_type": "stream",
     "text": [
      "    S.NO SECTION    DV  M-II    PP  BEEE    FL  FIMS  TOTAL  Backlog_Count  \\\n",
      "23    24   ALPHA  20.0  20.0  20.0  20.0  20.0  18.0  118.0              0   \n",
      "69    70   ALPHA  20.0  20.0  20.0  19.0  20.0  18.0  117.0              0   \n",
      "11    12   ALPHA  20.0  20.0  20.0  20.0  19.0  16.0  115.0              0   \n",
      "79    80   ALPHA  19.0  20.0  20.0  19.0  20.0  17.0  115.0              0   \n",
      "26    27   ALPHA  17.0  19.0  20.0  20.0  20.0  18.0  114.0              0   \n",
      "19    20   ALPHA  19.0  17.0  20.0  20.0  20.0  18.0  114.0              0   \n",
      "38    39   ALPHA  19.0  18.0  20.0  19.0  20.0  18.0  114.0              0   \n",
      "39    40   ALPHA  20.0  17.0  20.0  19.0  20.0  18.0  114.0              0   \n",
      "80    81   ALPHA  19.0  17.0  20.0  20.0  20.0  18.0  114.0              0   \n",
      "74    75   ALPHA  17.0  20.0  20.0  20.0  20.0  17.0  114.0              0   \n",
      "\n",
      "    Percentage Grade backlog  \n",
      "23  196.666667    A+    None  \n",
      "69  195.000000    A+    None  \n",
      "11  191.666667    A+    None  \n",
      "79  191.666667    A+    None  \n",
      "26  190.000000    A+    None  \n",
      "19  190.000000    A+    None  \n",
      "38  190.000000    A+    None  \n",
      "39  190.000000    A+    None  \n",
      "80  190.000000    A+    None  \n",
      "74  190.000000    A+    None  \n"
     ]
    }
   ],
   "source": [
    "SECTION = 'ALPHA'  \n",
    "df_section = a[a['SECTION'] == SECTION] \n",
    "\n",
    "\n",
    "df_sorted = df_section.sort_values(by='TOTAL', ascending=False)  \n",
    "\n",
    "\n",
    "top_10_students = df_sorted.head(10)\n",
    "\n",
    "\n",
    "print(top_10_students)"
   ]
  },
  {
   "cell_type": "code",
   "execution_count": 100,
   "id": "646cea96-c8ea-4f3b-9858-2970baf2306c",
   "metadata": {},
   "outputs": [
    {
     "data": {
      "image/png": "[encoded data removed]",
      "text/plain": [
       "<Figure size 800x600 with 1 Axes>"
      ]
     },
     "metadata": {},
     "output_type": "display_data"
    }
   ],
   "source": [
    "plt.figure(figsize=(8, 6))\n",
    "plt.hist(\n",
    "    a['TOTAL'], \n",
    "    bins=8, \n",
    "    color='purple', \n",
    "    edgecolor='black'\n",
    ")\n",
    "plt.title(\"Distribution of Total Marks\", fontsize=14)\n",
    "plt.xlabel(\"Total Marks\", fontsize=12)\n",
    "plt.ylabel(\"Number of Students\", fontsize=12)\n",
    "plt.show()"
   ]
  },
  {
   "cell_type": "markdown",
   "id": "1ee64199-bf31-4855-87df-c444f4b72528",
   "metadata": {},
   "source": [
    "# The histogram visualizes the distribution of total marks obtained by students"
   ]
  },
  {
   "cell_type": "code",
   "execution_count": 103,
   "id": "3280ed05-05c8-4da5-b430-03938ac05064",
   "metadata": {},
   "outputs": [
    {
     "name": "stdout",
     "output_type": "stream",
     "text": [
      "Average Total Marks by Section:\n",
      "Section ALPHA: 87.56\n",
      "Section BETA: 81.97\n",
      "Section DELTA: 76.38\n",
      "Section EPSILON: 72.30\n",
      "Section GAMMA: 77.73\n",
      "Section OMEGA: 83.69\n",
      "Section SIGMA: 88.83\n",
      "Section ZETA: 74.66\n"
     ]
    }
   ],
   "source": [
    "average_total_by_section = a.groupby('SECTION')['TOTAL'].mean()\n",
    "\n",
    "# Display the results\n",
    "print(\"Average Total Marks by Section:\")\n",
    "for section, avg_total in average_total_by_section.items():\n",
    "    print(f\"Section {section}: {avg_total:.2f}\")"
   ]
  },
  {
   "cell_type": "code",
   "execution_count": 288,
   "id": "e5444890-347c-484f-bf18-cd73b53b7509",
   "metadata": {},
   "outputs": [
    {
     "data": {
      "text/html": [
       "<div>\n",
       "<style scoped>\n",
       "    .dataframe tbody tr th:only-of-type {\n",
       "        vertical-align: middle;\n",
       "    }\n",
       "\n",
       "    .dataframe tbody tr th {\n",
       "        vertical-align: top;\n",
       "    }\n",
       "\n",
       "    .dataframe thead th {\n",
       "        text-align: right;\n",
       "    }\n",
       "</style>\n",
       "<table border=\"1\" class=\"dataframe\">\n",
       "  <thead>\n",
       "    <tr style=\"text-align: right;\">\n",
       "      <th></th>\n",
       "      <th>S.NO</th>\n",
       "      <th>SECTION</th>\n",
       "      <th>DV</th>\n",
       "      <th>M-II</th>\n",
       "      <th>PP</th>\n",
       "      <th>BEEE</th>\n",
       "      <th>FL</th>\n",
       "      <th>FIMS</th>\n",
       "      <th>TOTAL</th>\n",
       "      <th>Backlog_Count</th>\n",
       "      <th>Percentage</th>\n",
       "      <th>Grade</th>\n",
       "      <th>backlog</th>\n",
       "      <th>DV Result</th>\n",
       "    </tr>\n",
       "  </thead>\n",
       "  <tbody>\n",
       "    <tr>\n",
       "      <th>198</th>\n",
       "      <td>199</td>\n",
       "      <td>DELTA</td>\n",
       "      <td>20.0</td>\n",
       "      <td>20.0</td>\n",
       "      <td>20.0</td>\n",
       "      <td>20.0</td>\n",
       "      <td>20.0</td>\n",
       "      <td>18.0</td>\n",
       "      <td>118.0</td>\n",
       "      <td>0</td>\n",
       "      <td>196.666667</td>\n",
       "      <td>A+</td>\n",
       "      <td>None</td>\n",
       "      <td>Pass</td>\n",
       "    </tr>\n",
       "    <tr>\n",
       "      <th>533</th>\n",
       "      <td>534</td>\n",
       "      <td>OMEGA</td>\n",
       "      <td>20.0</td>\n",
       "      <td>19.0</td>\n",
       "      <td>20.0</td>\n",
       "      <td>20.0</td>\n",
       "      <td>20.0</td>\n",
       "      <td>20.0</td>\n",
       "      <td>119.0</td>\n",
       "      <td>0</td>\n",
       "      <td>198.333333</td>\n",
       "      <td>A+</td>\n",
       "      <td>None</td>\n",
       "      <td>Pass</td>\n",
       "    </tr>\n",
       "    <tr>\n",
       "      <th>618</th>\n",
       "      <td>619</td>\n",
       "      <td>SIGMA</td>\n",
       "      <td>20.0</td>\n",
       "      <td>20.0</td>\n",
       "      <td>20.0</td>\n",
       "      <td>20.0</td>\n",
       "      <td>20.0</td>\n",
       "      <td>19.0</td>\n",
       "      <td>119.0</td>\n",
       "      <td>0</td>\n",
       "      <td>198.333333</td>\n",
       "      <td>A+</td>\n",
       "      <td>None</td>\n",
       "      <td>Pass</td>\n",
       "    </tr>\n",
       "    <tr>\n",
       "      <th>613</th>\n",
       "      <td>614</td>\n",
       "      <td>SIGMA</td>\n",
       "      <td>20.0</td>\n",
       "      <td>20.0</td>\n",
       "      <td>19.0</td>\n",
       "      <td>20.0</td>\n",
       "      <td>20.0</td>\n",
       "      <td>20.0</td>\n",
       "      <td>119.0</td>\n",
       "      <td>0</td>\n",
       "      <td>198.333333</td>\n",
       "      <td>A+</td>\n",
       "      <td>None</td>\n",
       "      <td>Pass</td>\n",
       "    </tr>\n",
       "    <tr>\n",
       "      <th>453</th>\n",
       "      <td>454</td>\n",
       "      <td>OMEGA</td>\n",
       "      <td>20.0</td>\n",
       "      <td>20.0</td>\n",
       "      <td>20.0</td>\n",
       "      <td>20.0</td>\n",
       "      <td>20.0</td>\n",
       "      <td>19.0</td>\n",
       "      <td>119.0</td>\n",
       "      <td>0</td>\n",
       "      <td>198.333333</td>\n",
       "      <td>A+</td>\n",
       "      <td>None</td>\n",
       "      <td>Pass</td>\n",
       "    </tr>\n",
       "    <tr>\n",
       "      <th>251</th>\n",
       "      <td>252</td>\n",
       "      <td>DELTA</td>\n",
       "      <td>20.0</td>\n",
       "      <td>20.0</td>\n",
       "      <td>20.0</td>\n",
       "      <td>19.0</td>\n",
       "      <td>20.0</td>\n",
       "      <td>20.0</td>\n",
       "      <td>119.0</td>\n",
       "      <td>0</td>\n",
       "      <td>198.333333</td>\n",
       "      <td>A+</td>\n",
       "      <td>None</td>\n",
       "      <td>Pass</td>\n",
       "    </tr>\n",
       "    <tr>\n",
       "      <th>505</th>\n",
       "      <td>506</td>\n",
       "      <td>OMEGA</td>\n",
       "      <td>20.0</td>\n",
       "      <td>20.0</td>\n",
       "      <td>20.0</td>\n",
       "      <td>20.0</td>\n",
       "      <td>20.0</td>\n",
       "      <td>20.0</td>\n",
       "      <td>120.0</td>\n",
       "      <td>0</td>\n",
       "      <td>200.000000</td>\n",
       "      <td>A+</td>\n",
       "      <td>None</td>\n",
       "      <td>Pass</td>\n",
       "    </tr>\n",
       "    <tr>\n",
       "      <th>574</th>\n",
       "      <td>575</td>\n",
       "      <td>SIGMA</td>\n",
       "      <td>20.0</td>\n",
       "      <td>20.0</td>\n",
       "      <td>20.0</td>\n",
       "      <td>20.0</td>\n",
       "      <td>20.0</td>\n",
       "      <td>20.0</td>\n",
       "      <td>120.0</td>\n",
       "      <td>0</td>\n",
       "      <td>200.000000</td>\n",
       "      <td>A+</td>\n",
       "      <td>None</td>\n",
       "      <td>Pass</td>\n",
       "    </tr>\n",
       "    <tr>\n",
       "      <th>596</th>\n",
       "      <td>597</td>\n",
       "      <td>SIGMA</td>\n",
       "      <td>20.0</td>\n",
       "      <td>20.0</td>\n",
       "      <td>20.0</td>\n",
       "      <td>20.0</td>\n",
       "      <td>20.0</td>\n",
       "      <td>20.0</td>\n",
       "      <td>120.0</td>\n",
       "      <td>0</td>\n",
       "      <td>200.000000</td>\n",
       "      <td>A+</td>\n",
       "      <td>None</td>\n",
       "      <td>Pass</td>\n",
       "    </tr>\n",
       "    <tr>\n",
       "      <th>507</th>\n",
       "      <td>508</td>\n",
       "      <td>OMEGA</td>\n",
       "      <td>20.0</td>\n",
       "      <td>20.0</td>\n",
       "      <td>20.0</td>\n",
       "      <td>20.0</td>\n",
       "      <td>20.0</td>\n",
       "      <td>20.0</td>\n",
       "      <td>120.0</td>\n",
       "      <td>0</td>\n",
       "      <td>200.000000</td>\n",
       "      <td>A+</td>\n",
       "      <td>None</td>\n",
       "      <td>Pass</td>\n",
       "    </tr>\n",
       "  </tbody>\n",
       "</table>\n",
       "</div>"
      ],
      "text/plain": [
       "     S.NO SECTION    DV  M-II    PP  BEEE    FL  FIMS  TOTAL  Backlog_Count  \\\n",
       "198   199   DELTA  20.0  20.0  20.0  20.0  20.0  18.0  118.0              0   \n",
       "533   534   OMEGA  20.0  19.0  20.0  20.0  20.0  20.0  119.0              0   \n",
       "618   619   SIGMA  20.0  20.0  20.0  20.0  20.0  19.0  119.0              0   \n",
       "613   614   SIGMA  20.0  20.0  19.0  20.0  20.0  20.0  119.0              0   \n",
       "453   454   OMEGA  20.0  20.0  20.0  20.0  20.0  19.0  119.0              0   \n",
       "251   252   DELTA  20.0  20.0  20.0  19.0  20.0  20.0  119.0              0   \n",
       "505   506   OMEGA  20.0  20.0  20.0  20.0  20.0  20.0  120.0              0   \n",
       "574   575   SIGMA  20.0  20.0  20.0  20.0  20.0  20.0  120.0              0   \n",
       "596   597   SIGMA  20.0  20.0  20.0  20.0  20.0  20.0  120.0              0   \n",
       "507   508   OMEGA  20.0  20.0  20.0  20.0  20.0  20.0  120.0              0   \n",
       "\n",
       "     Percentage Grade backlog DV Result  \n",
       "198  196.666667    A+    None      Pass  \n",
       "533  198.333333    A+    None      Pass  \n",
       "618  198.333333    A+    None      Pass  \n",
       "613  198.333333    A+    None      Pass  \n",
       "453  198.333333    A+    None      Pass  \n",
       "251  198.333333    A+    None      Pass  \n",
       "505  200.000000    A+    None      Pass  \n",
       "574  200.000000    A+    None      Pass  \n",
       "596  200.000000    A+    None      Pass  \n",
       "507  200.000000    A+    None      Pass  "
      ]
     },
     "execution_count": 288,
     "metadata": {},
     "output_type": "execute_result"
    }
   ],
   "source": [
    "a.sort_values(\"TOTAL\",ascending=True)\n",
    "fdtail=a.tail(10)\n",
    "fdtail"
   ]
  },
  {
   "cell_type": "code",
   "execution_count": 107,
   "id": "82f37b1f-65c9-4f48-83f6-4ef91a5078ed",
   "metadata": {},
   "outputs": [
    {
     "data": {
      "image/png": "[encoded data removed]",
      "text/plain": [
       "<Figure size 800x600 with 1 Axes>"
      ]
     },
     "metadata": {},
     "output_type": "display_data"
    }
   ],
   "source": [
    "plt.figure(figsize=[8, 6])\n",
    "average_total_by_section.plot(kind='bar', color='black')\n",
    "plt.title(\"Average Total Marks by Section\")\n",
    "plt.xlabel(\"Section\")\n",
    "plt.ylabel(\"Average Total Marks\")\n",
    "plt.xticks(rotation=45)\n",
    "plt.show()"
   ]
  },
  {
   "cell_type": "markdown",
   "id": "ac21ae79-aa73-4841-bda8-dd0a193a48ec",
   "metadata": {},
   "source": [
    "# AVERAGE MARKS OF ALL STUDENTS IN ALL SECTIONS "
   ]
  },
  {
   "cell_type": "code",
   "execution_count": 110,
   "id": "388c23ab-90fe-4648-a043-5ae3ea502dc2",
   "metadata": {},
   "outputs": [],
   "source": [
    "subject_columns = ['DV', 'M-II', 'PP', 'BEEE', 'FL', 'FIMS']\n",
    "subject_averages = a[subject_columns].mean()"
   ]
  },
  {
   "cell_type": "code",
   "execution_count": 112,
   "id": "4f948c0d-95e4-4adc-a3c3-a939030fad25",
   "metadata": {},
   "outputs": [
    {
     "data": {
      "text/plain": [
       "DV      14.787709\n",
       "M-II     9.949721\n",
       "PP      12.769553\n",
       "BEEE    13.287709\n",
       "FL      15.544693\n",
       "FIMS    14.047486\n",
       "dtype: float64"
      ]
     },
     "execution_count": 112,
     "metadata": {},
     "output_type": "execute_result"
    }
   ],
   "source": [
    "subject_averages"
   ]
  },
  {
   "cell_type": "code",
   "execution_count": 114,
   "id": "f9e74f4d-0a70-4e70-a55d-4a67bb95a841",
   "metadata": {},
   "outputs": [
    {
     "data": {
      "image/png": "[encoded data removed]",
      "text/plain": [
       "<Figure size 800x600 with 1 Axes>"
      ]
     },
     "metadata": {},
     "output_type": "display_data"
    }
   ],
   "source": [
    "fig, ax = plt.subplots(figsize=(8, 6))\n",
    "subject_averages.plot(\n",
    "    kind='bar', \n",
    "    color='orange', \n",
    "    ax=ax\n",
    ")\n",
    "ax.set_title(\"Subject-wise Average Scores\", fontsize=14)\n",
    "ax.set_xlabel(\"Subjects\", fontsize=12)\n",
    "ax.set_ylabel(\"Average Marks\", fontsize=12)\n",
    "ax.tick_params(axis='x', rotation=45)\n",
    "plt.tight_layout()\n",
    "plt.show()"
   ]
  },
  {
   "cell_type": "markdown",
   "id": "5113e77c-7028-46fe-83fc-e223e391d42f",
   "metadata": {},
   "source": [
    "# The horizontal bar chart visualizing subject-wise average scores."
   ]
  },
  {
   "cell_type": "code",
   "execution_count": 117,
   "id": "9b98b612-9d8f-43a4-8c64-633b5277ce65",
   "metadata": {},
   "outputs": [
    {
     "data": {
      "image/png": "[encoded data removed]",
      "text/plain": [
       "<Figure size 800x600 with 1 Axes>"
      ]
     },
     "metadata": {},
     "output_type": "display_data"
    }
   ],
   "source": [
    "average_total_by_section = a.groupby('SECTION')['TOTAL'].mean()\n",
    "fig, ax = plt.subplots(figsize=(8, 6))\n",
    "average_total_by_section.plot(\n",
    "    kind='bar', \n",
    "    color='violet', \n",
    "    edgecolor='black', \n",
    "    ax=ax\n",
    ")\n",
    "ax.set_title(\"Average Total Marks by Section\", fontsize=14)\n",
    "ax.set_xlabel(\"Section\", fontsize=12)\n",
    "ax.set_ylabel(\"Average Total Marks\", fontsize=12)\n",
    "ax.set_xticklabels(average_total_by_section.index, rotation=0)\n",
    "ax.grid(axis='y', linestyle='--', alpha=0.75)\n",
    "plt.tight_layout()\n",
    "plt.show()"
   ]
  },
  {
   "cell_type": "markdown",
   "id": "a0f5f76e-ba21-4d24-b247-f48ee01718be",
   "metadata": {},
   "source": [
    "# Average Total Marks by Section is a bar chart that provides insights into how different sections performed in terms of average total marks. "
   ]
  },
  {
   "cell_type": "code",
   "execution_count": 120,
   "id": "77b3178d-ffa4-4aba-8a4d-4ba66474cc99",
   "metadata": {},
   "outputs": [
    {
     "data": {
      "image/png": "[encoded data removed]",
      "text/plain": [
       "<Figure size 800x600 with 1 Axes>"
      ]
     },
     "metadata": {},
     "output_type": "display_data"
    }
   ],
   "source": [
    "fig, ax = plt.subplots(figsize=(8, 6))\n",
    "subject_averages.plot(\n",
    "    kind='pie',\n",
    "    autopct='%1.1f%%',\n",
    "    colors=['green', 'orange', 'blue', 'red', 'purple', 'yellow'],\n",
    "    ax=ax\n",
    ")\n",
    "ax.set_title(\"Subject-wise Average Scores\", fontsize=14)\n",
    "ax.set_ylabel('')\n",
    "plt.tight_layout()\n",
    "plt.show()"
   ]
  },
  {
   "cell_type": "markdown",
   "id": "b6a52b73-7629-4a48-b7ce-1fe5c40b342c",
   "metadata": {},
   "source": [
    "# In DV subject students got higher average marks of students compared to others subjects."
   ]
  },
  {
   "cell_type": "code",
   "execution_count": 123,
   "id": "2ad00547-6882-48fa-b034-7e43ba1a87b2",
   "metadata": {},
   "outputs": [
    {
     "data": {
      "image/png": "[encoded data removed]",
      "text/plain": [
       "<Figure size 800x600 with 1 Axes>"
      ]
     },
     "metadata": {},
     "output_type": "display_data"
    }
   ],
   "source": [
    "fig, ax = plt.subplots(figsize=(8, 6))\n",
    "ax.scatter(\n",
    "    a['DV'], \n",
    "    a['M-II'], \n",
    "    color='pink', \n",
    "    edgecolor='black'\n",
    ")\n",
    "ax.set_title(\"Scatter Plot: DV vs M-II Marks\", fontsize=14)\n",
    "ax.set_xlabel(\"DV Marks\", fontsize=12)\n",
    "ax.set_ylabel(\"M-II Marks\", fontsize=12)\n",
    "ax.grid(True)\n",
    "plt.tight_layout()\n",
    "plt.show()"
   ]
  },
  {
   "cell_type": "markdown",
   "id": "c7cb59c8-fa23-41c7-ada9-5b124d999d4d",
   "metadata": {},
   "source": [
    "# The scatter plot titled \"DV vs M-II Marks\" visually shows the relationship between two sets of marks:\n",
    "# DV Marks (on the x-axis) and M-II Marks (on the y-axis). "
   ]
  },
  {
   "cell_type": "code",
   "execution_count": 126,
   "id": "f670ae90-9212-43f7-8210-09cb152dec4e",
   "metadata": {},
   "outputs": [
    {
     "data": {
      "image/png": "[encoded data removed]",
      "text/plain": [
       "<Figure size 800x600 with 1 Axes>"
      ]
     },
     "metadata": {},
     "output_type": "display_data"
    }
   ],
   "source": [
    "fig, ax = plt.subplots(figsize=(8, 6))\n",
    "ax.scatter(\n",
    "    a['TOTAL'], \n",
    "    a['FL'], \n",
    "    color='green', \n",
    "    edgecolor='black'\n",
    ")\n",
    "ax.set_title(\"Scatter Plot: Total Marks vs FL Marks\", fontsize=14)\n",
    "ax.set_xlabel(\"Total Marks\", fontsize=12)\n",
    "ax.grid(True)\n",
    "plt.tight_layout()\n",
    "plt.show()"
   ]
  },
  {
   "cell_type": "markdown",
   "id": "bb690196-3f64-472a-97c1-6343a33f1d1a",
   "metadata": {},
   "source": [
    "# This plot shows the connection between students total marks and their marks in the FL subject. "
   ]
  },
  {
   "cell_type": "code",
   "execution_count": 129,
   "id": "64f9292b-8fe7-41a0-b218-fc00254cfa4b",
   "metadata": {},
   "outputs": [
    {
     "data": {
      "image/png": "[encoded data removed]",
      "text/plain": [
       "<Figure size 800x600 with 1 Axes>"
      ]
     },
     "metadata": {},
     "output_type": "display_data"
    }
   ],
   "source": [
    "plt.figure(figsize=[8, 6])\n",
    "for section in a['SECTION'].unique():\n",
    "    section_data = a[a['SECTION'] == section]\n",
    "    plt.scatter(section_data['DV'], section_data['M-II'], label=section, edgecolor='black')\n",
    "plt.title(\"Scatter Plot: DV vs M-II Marks by Section\")\n",
    "plt.xlabel(\"DV Marks\")\n",
    "plt.ylabel(\"M-II Marks\")\n",
    "plt.legend(title=\"Sections\")\n",
    "plt.grid(True)\n",
    "plt.show()"
   ]
  },
  {
   "cell_type": "markdown",
   "id": "de62f166-5b1a-41b4-8e39-b6ccdad3f2db",
   "metadata": {},
   "source": [
    "# This plot shows how the DV marks compare with M-II marks for each section."
   ]
  },
  {
   "cell_type": "code",
   "execution_count": 132,
   "id": "669656c1-0861-4eda-898a-65eb09869f45",
   "metadata": {},
   "outputs": [
    {
     "data": {
      "image/png": "[encoded data removed]",
      "text/plain": [
       "<Figure size 800x600 with 1 Axes>"
      ]
     },
     "metadata": {},
     "output_type": "display_data"
    }
   ],
   "source": [
    "fig, ax = plt.subplots(figsize=(8, 6))\n",
    "ax.scatter(\n",
    "    a['BEEE'], \n",
    "    a['FIMS'], \n",
    "    color='blue', \n",
    "    edgecolor='black'\n",
    ")\n",
    "ax.set_title(\"Scatter Plot: BEEE vs FIMS Marks\", fontsize=14)\n",
    "ax.set_xlabel(\"BEEE Marks\", fontsize=12)\n",
    "ax.set_ylabel(\"FIMS Marks\", fontsize=12)\n",
    "ax.grid(True)\n",
    "plt.tight_layout()\n",
    "plt.show()"
   ]
  },
  {
   "cell_type": "markdown",
   "id": "9aa50261-db5b-410e-8574-65e851a727fa",
   "metadata": {},
   "source": [
    "# This scatter plot shows the connection between students marks in BEEE and FIMS."
   ]
  },
  {
   "cell_type": "code",
   "execution_count": 135,
   "id": "f477472a-2d2d-4c05-97b9-fc42d939f954",
   "metadata": {},
   "outputs": [
    {
     "data": {
      "image/png": "[encoded data removed]",
      "text/plain": [
       "<Figure size 800x600 with 1 Axes>"
      ]
     },
     "metadata": {},
     "output_type": "display_data"
    }
   ],
   "source": [
    "fig, ax = plt.subplots(figsize=(8, 6))\n",
    "ax.scatter(\n",
    "    a['TOTAL'], \n",
    "    a['DV'], \n",
    "    color='purple', \n",
    "    edgecolor='black'\n",
    ")\n",
    "ax.set_title(\"Scatter Plot: Total Marks vs DV Marks\", fontsize=14)\n",
    "ax.set_xlabel(\"Total Marks\", fontsize=12)\n",
    "ax.set_ylabel(\"DV Marks\", fontsize=12)\n",
    "ax.grid(True)\n",
    "plt.tight_layout()\n",
    "plt.show()"
   ]
  },
  {
   "cell_type": "markdown",
   "id": "68cb6aad-fa39-4302-9c79-86a25a5feddf",
   "metadata": {},
   "source": [
    "# This scatter plot shows how students DV marks are related to their overall total marks."
   ]
  },
  {
   "cell_type": "code",
   "execution_count": 138,
   "id": "9c9c3347-06f1-464f-8140-9cfdfee1a946",
   "metadata": {},
   "outputs": [
    {
     "name": "stdout",
     "output_type": "stream",
     "text": [
      "Average Total Marks by Section:\n",
      "Section ALPHA: 87.56*100\n",
      "Section BETA: 81.97*100\n",
      "Section DELTA: 76.38*100\n",
      "Section EPSILON: 72.30*100\n",
      "Section GAMMA: 77.73*100\n",
      "Section OMEGA: 83.69*100\n",
      "Section SIGMA: 88.83*100\n",
      "Section ZETA: 74.66*100\n"
     ]
    }
   ],
   "source": [
    "average_total_by_section = a.groupby('SECTION')['TOTAL'].mean()\n",
    "\n",
    "# Display the results\n",
    "print(\"Average Total Marks by Section:\")\n",
    "for section, avg_total in average_total_by_section.items():\n",
    "    print(f\"Section {section}: {avg_total:.2f}*100\")"
   ]
  },
  {
   "cell_type": "code",
   "execution_count": 140,
   "id": "d7f5bc29-b374-472b-a701-8a17c8d30c09",
   "metadata": {},
   "outputs": [
    {
     "name": "stdout",
     "output_type": "stream",
     "text": [
      "DV Result\n",
      "Pass    629\n",
      "Fail     87\n",
      "Name: count, dtype: int64\n"
     ]
    },
    {
     "name": "stderr",
     "output_type": "stream",
     "text": [
      "C:\\Users\\modil\\AppData\\Local\\Temp\\ipykernel_19068\\40553254.py:4: SettingWithCopyWarning: \n",
      "A value is trying to be set on a copy of a slice from a DataFrame.\n",
      "Try using .loc[row_indexer,col_indexer] = value instead\n",
      "\n",
      "See the caveats in the documentation: https://pandas.pydata.org/pandas-docs/stable/user_guide/indexing.html#returning-a-view-versus-a-copy\n",
      "  a['DV Result'] = a['DV'].apply(lambda x: 'Pass' if x >= pass_mark else 'Fail')\n"
     ]
    }
   ],
   "source": [
    "pass_mark = 10  \n",
    "\n",
    "\n",
    "a['DV Result'] = a['DV'].apply(lambda x: 'Pass' if x >= pass_mark else 'Fail')\n",
    "\n",
    "pass_fail_counts = a['DV Result'].value_counts()\n",
    "\n",
    "\n",
    "print(pass_fail_counts)"
   ]
  },
  {
   "cell_type": "code",
   "execution_count": 142,
   "id": "94c0b32a-45f3-4f64-b370-b19a7608e3a6",
   "metadata": {},
   "outputs": [
    {
     "name": "stdout",
     "output_type": "stream",
     "text": [
      "--- ALPHA Section: M-II Pass/Fail Counts ---\n",
      "M-II Result\n",
      "Pass    72\n",
      "Fail    18\n",
      "Name: count, dtype: int64\n"
     ]
    }
   ],
   "source": [
    "passing_mark = 10\n",
    "alpha_section = a[a['SECTION'] == 'ALPHA'].copy()  \n",
    "alpha_section.loc[:, 'M-II'] = pd.to_numeric(alpha_section['M-II'], errors='coerce')\n",
    "alpha_section.loc[:, 'M-II Result'] = alpha_section['M-II'].apply(lambda x: 'Pass' if x >= passing_mark else 'Fail')\n",
    "alpha_mii_pass_fail_counts = alpha_section['M-II Result'].value_counts()\n",
    "print(\"--- ALPHA Section: M-II Pass/Fail Counts ---\")\n",
    "print(alpha_mii_pass_fail_counts)"
   ]
  },
  {
   "cell_type": "code",
   "execution_count": 144,
   "id": "79e5eb5e-39e4-4218-982a-176939ee423f",
   "metadata": {},
   "outputs": [
    {
     "data": {
      "text/plain": [
       "False    702\n",
       "True      14\n",
       "Name: count, dtype: int64"
      ]
     },
     "execution_count": 144,
     "metadata": {},
     "output_type": "execute_result"
    }
   ],
   "source": [
    "D=(a['DV']<10)&(a['SECTION']=='DELTA')\n",
    "D.value_counts()"
   ]
  },
  {
   "cell_type": "code",
   "execution_count": 146,
   "id": "21417c03-d674-4cc0-83b7-8c33a551ad36",
   "metadata": {},
   "outputs": [
    {
     "name": "stdout",
     "output_type": "stream",
     "text": [
      "5.865921787709497\n"
     ]
    }
   ],
   "source": [
    "passing_mark = 10\n",
    "failure_counts = (a[\"FL\"] < passing_mark).sum()\n",
    "failure_percentage = (failure_counts / len(a)) * 100\n",
    "print(failure_percentage)"
   ]
  },
  {
   "cell_type": "code",
   "execution_count": 148,
   "id": "e9b2a60e-0744-4d4e-a82b-5cf614c5675e",
   "metadata": {},
   "outputs": [
    {
     "name": "stdout",
     "output_type": "stream",
     "text": [
      "count    716.000000\n",
      "mean      14.787709\n",
      "std        4.569545\n",
      "min        0.000000\n",
      "25%       12.000000\n",
      "50%       16.000000\n",
      "75%       18.000000\n",
      "max       20.000000\n",
      "Name: DV, dtype: float64\n"
     ]
    }
   ],
   "source": [
    "probability_analysis = a[\"DV\"].describe()\n",
    "print(probability_analysis)"
   ]
  },
  {
   "cell_type": "code",
   "execution_count": 150,
   "id": "ea94ec81-b9fb-4431-960f-47ef012477b7",
   "metadata": {},
   "outputs": [
    {
     "name": "stdout",
     "output_type": "stream",
     "text": [
      "--- ALPHA Section: M-II Pass/Fail Counts ---\n",
      "M-II Result\n",
      "Fail    63\n",
      "Pass    27\n",
      "Name: count, dtype: int64\n"
     ]
    }
   ],
   "source": [
    "passing_mark = 10\n",
    "alpha_section = a[a['SECTION'] == 'ZETA'].copy()  \n",
    "alpha_section.loc[:, 'M-II'] = pd.to_numeric(alpha_section['M-II'], errors='coerce')\n",
    "alpha_section.loc[:, 'M-II Result'] = alpha_section['M-II'].apply(lambda x: 'Pass' if x >= passing_mark else 'Fail')\n",
    "alpha_mii_pass_fail_counts = alpha_section['M-II Result'].value_counts()\n",
    "print(\"--- ALPHA Section: M-II Pass/Fail Counts ---\")\n",
    "print(alpha_mii_pass_fail_counts)"
   ]
  },
  {
   "cell_type": "code",
   "execution_count": 152,
   "id": "f96aeac3-6f87-4b2f-8508-98582b7f2dfc",
   "metadata": {},
   "outputs": [
    {
     "name": "stdout",
     "output_type": "stream",
     "text": [
      "--- ALPHA Section: PP Pass/Fail Counts ---\n",
      "PP Result\n",
      "Pass    78\n",
      "Fail    12\n",
      "Name: count, dtype: int64\n"
     ]
    }
   ],
   "source": [
    "passing_mark = 10\n",
    "alpha_section = a[a['SECTION'] == 'ALPHA'].copy()  \n",
    "alpha_section.loc[:, 'PP'] = pd.to_numeric(alpha_section['PP'], errors='coerce')\n",
    "alpha_section.loc[:, 'PP Result'] = alpha_section['PP'].apply(lambda x: 'Pass' if x >= passing_mark else 'Fail')\n",
    "alpha_mii_pass_fail_counts = alpha_section['PP Result'].value_counts()\n",
    "print(\"--- ALPHA Section: PP Pass/Fail Counts ---\")\n",
    "print(alpha_mii_pass_fail_counts)"
   ]
  },
  {
   "cell_type": "code",
   "execution_count": 154,
   "id": "9be74d2c-9a67-4d1d-b25c-1c37d7a49142",
   "metadata": {},
   "outputs": [
    {
     "name": "stdout",
     "output_type": "stream",
     "text": [
      "--- ALPHA Section: DV Pass/Fail Counts ---\n",
      "DV Result\n",
      "Pass    73\n",
      "Fail    17\n",
      "Name: count, dtype: int64\n"
     ]
    }
   ],
   "source": [
    "passing_mark = 10\n",
    "alpha_section = a[a['SECTION'] == 'ALPHA'].copy()  \n",
    "alpha_section.loc[:, 'DV'] = pd.to_numeric(alpha_section['DV'], errors='coerce')\n",
    "alpha_section.loc[:, 'DV Result'] = alpha_section['DV'].apply(lambda x: 'Pass' if x >= passing_mark else 'Fail')\n",
    "alpha_mii_pass_fail_counts = alpha_section['DV Result'].value_counts()\n",
    "print(\"--- ALPHA Section: DV Pass/Fail Counts ---\")\n",
    "print(alpha_mii_pass_fail_counts)"
   ]
  },
  {
   "cell_type": "code",
   "execution_count": 156,
   "id": "d359af48-2cb9-4505-9663-f4a0808ee7ff",
   "metadata": {},
   "outputs": [
    {
     "name": "stdout",
     "output_type": "stream",
     "text": [
      "--- ALPHA Section: FIMS Pass/Fail Counts ---\n",
      "FIMS Result\n",
      "Pass    68\n",
      "Fail    22\n",
      "Name: count, dtype: int64\n"
     ]
    }
   ],
   "source": [
    "passing_mark = 10\n",
    "alpha_section = a[a['SECTION'] == 'ALPHA'].copy()  \n",
    "alpha_section.loc[:, 'FIMS'] = pd.to_numeric(alpha_section['FIMS'], errors='coerce')\n",
    "alpha_section.loc[:, 'FIMS Result'] = alpha_section['FIMS'].apply(lambda x: 'Pass' if x >= passing_mark else 'Fail')\n",
    "alpha_mii_pass_fail_counts = alpha_section['FIMS Result'].value_counts()\n",
    "print(\"--- ALPHA Section: FIMS Pass/Fail Counts ---\")\n",
    "print(alpha_mii_pass_fail_counts)"
   ]
  },
  {
   "cell_type": "code",
   "execution_count": 158,
   "id": "ecac8e3e-aa45-4e7e-82ad-4a55e3259908",
   "metadata": {},
   "outputs": [
    {
     "name": "stdout",
     "output_type": "stream",
     "text": [
      "--- ALPHA Section: PP Pass/Fail Counts ---\n",
      "PP Result\n",
      "Pass    54\n",
      "Fail    36\n",
      "Name: count, dtype: int64\n"
     ]
    }
   ],
   "source": [
    "passing_mark = 10\n",
    "alpha_section = a[a['SECTION'] == 'GAMMA'].copy()  \n",
    "alpha_section.loc[:, 'PP'] = pd.to_numeric(alpha_section['PP'], errors='coerce')\n",
    "alpha_section.loc[:, 'PP Result'] = alpha_section['PP'].apply(lambda x: 'Pass' if x >= passing_mark else 'Fail')\n",
    "alpha_mii_pass_fail_counts = alpha_section['PP Result'].value_counts()\n",
    "print(\"--- ALPHA Section: PP Pass/Fail Counts ---\")\n",
    "print(alpha_mii_pass_fail_counts)"
   ]
  },
  {
   "cell_type": "code",
   "execution_count": 160,
   "id": "dbb79702-3010-4309-8d95-4829c4fb89d8",
   "metadata": {},
   "outputs": [
    {
     "name": "stdout",
     "output_type": "stream",
     "text": [
      "--- ALPHA Section: PP Pass/Fail Counts ---\n",
      "PP Result\n",
      "Pass    62\n",
      "Fail    28\n",
      "Name: count, dtype: int64\n"
     ]
    }
   ],
   "source": [
    "passing_mark = 10\n",
    "alpha_section = a[a['SECTION'] == 'DELTA'].copy()  \n",
    "alpha_section.loc[:, 'PP'] = pd.to_numeric(alpha_section['PP'], errors='coerce')\n",
    "alpha_section.loc[:, 'PP Result'] = alpha_section['PP'].apply(lambda x: 'Pass' if x >= passing_mark else 'Fail')\n",
    "alpha_mii_pass_fail_counts = alpha_section['PP Result'].value_counts()\n",
    "print(\"--- ALPHA Section: PP Pass/Fail Counts ---\")\n",
    "print(alpha_mii_pass_fail_counts)"
   ]
  },
  {
   "cell_type": "code",
   "execution_count": 162,
   "id": "55d9e626-be75-4b75-a7df-6c68e408ff64",
   "metadata": {},
   "outputs": [
    {
     "name": "stdout",
     "output_type": "stream",
     "text": [
      "--- ALPHA Section: PP Pass/Fail Counts ---\n",
      "PP Result\n",
      "Fail    49\n",
      "Pass    39\n",
      "Name: count, dtype: int64\n"
     ]
    }
   ],
   "source": [
    "passing_mark = 10\n",
    "alpha_section = a[a['SECTION'] == 'EPSILON'].copy()  \n",
    "alpha_section.loc[:, 'PP'] = pd.to_numeric(alpha_section['PP'], errors='coerce')\n",
    "alpha_section.loc[:, 'PP Result'] = alpha_section['PP'].apply(lambda x: 'Pass' if x >= passing_mark else 'Fail')\n",
    "alpha_mii_pass_fail_counts = alpha_section['PP Result'].value_counts()\n",
    "print(\"--- ALPHA Section: PP Pass/Fail Counts ---\")\n",
    "print(alpha_mii_pass_fail_counts)"
   ]
  },
  {
   "cell_type": "code",
   "execution_count": 164,
   "id": "908512a4-0905-419a-b2a2-e513ad31cd0f",
   "metadata": {},
   "outputs": [
    {
     "name": "stdout",
     "output_type": "stream",
     "text": [
      "--- ALPHA Section: PP Pass/Fail Counts ---\n",
      "PP Result\n",
      "Pass    74\n",
      "Fail    16\n",
      "Name: count, dtype: int64\n"
     ]
    }
   ],
   "source": [
    "passing_mark = 10\n",
    "alpha_section = a[a['SECTION'] == 'OMEGA'].copy()  \n",
    "alpha_section.loc[:, 'PP'] = pd.to_numeric(alpha_section['PP'], errors='coerce')\n",
    "alpha_section.loc[:, 'PP Result'] = alpha_section['PP'].apply(lambda x: 'Pass' if x >= passing_mark else 'Fail')\n",
    "alpha_mii_pass_fail_counts = alpha_section['PP Result'].value_counts()\n",
    "print(\"--- ALPHA Section: PP Pass/Fail Counts ---\")\n",
    "print(alpha_mii_pass_fail_counts)"
   ]
  },
  {
   "cell_type": "code",
   "execution_count": 166,
   "id": "759e8b17-1e47-4fda-9bb6-ad4f37b213f8",
   "metadata": {},
   "outputs": [
    {
     "name": "stdout",
     "output_type": "stream",
     "text": [
      "--- ALPHA Section: PP Pass/Fail Counts ---\n",
      "PP Result\n",
      "Fail    50\n",
      "Pass    40\n",
      "Name: count, dtype: int64\n"
     ]
    }
   ],
   "source": [
    "passing_mark = 10\n",
    "alpha_section = a[a['SECTION'] == 'ZETA'].copy()  \n",
    "alpha_section.loc[:, 'PP'] = pd.to_numeric(alpha_section['PP'], errors='coerce')\n",
    "alpha_section.loc[:, 'PP Result'] = alpha_section['PP'].apply(lambda x: 'Pass' if x >= passing_mark else 'Fail')\n",
    "alpha_mii_pass_fail_counts = alpha_section['PP Result'].value_counts()\n",
    "print(\"--- ALPHA Section: PP Pass/Fail Counts ---\")\n",
    "print(alpha_mii_pass_fail_counts)"
   ]
  },
  {
   "cell_type": "code",
   "execution_count": 168,
   "id": "99d665e5-911f-42f7-832a-ab7a5e08088b",
   "metadata": {},
   "outputs": [
    {
     "name": "stdout",
     "output_type": "stream",
     "text": [
      "--- ALPHA Section: PP Pass/Fail Counts ---\n",
      "PP Result\n",
      "Pass    78\n",
      "Fail    12\n",
      "Name: count, dtype: int64\n"
     ]
    }
   ],
   "source": [
    "passing_mark = 10\n",
    "alpha_section = a[a['SECTION'] == 'ALPHA'].copy()  \n",
    "alpha_section.loc[:, 'PP'] = pd.to_numeric(alpha_section['PP'], errors='coerce')\n",
    "alpha_section.loc[:, 'PP Result'] = alpha_section['PP'].apply(lambda x: 'Pass' if x >= passing_mark else 'Fail')\n",
    "alpha_mii_pass_fail_counts = alpha_section['PP Result'].value_counts()\n",
    "print(\"--- ALPHA Section: PP Pass/Fail Counts ---\")\n",
    "print(alpha_mii_pass_fail_counts)"
   ]
  },
  {
   "cell_type": "code",
   "execution_count": 170,
   "id": "cc61029f-cf9a-45a8-8a39-e6bcd52a191d",
   "metadata": {},
   "outputs": [
    {
     "name": "stdout",
     "output_type": "stream",
     "text": [
      "--- ALPHA Section: PP Pass/Fail Counts ---\n",
      "PP Result\n",
      "Pass    82\n",
      "Fail     8\n",
      "Name: count, dtype: int64\n"
     ]
    }
   ],
   "source": [
    "passing_mark = 10\n",
    "alpha_section = a[a['SECTION'] == 'BETA'].copy()  \n",
    "alpha_section.loc[:, 'PP'] = pd.to_numeric(alpha_section['PP'], errors='coerce')\n",
    "alpha_section.loc[:, 'PP Result'] = alpha_section['PP'].apply(lambda x: 'Pass' if x >= passing_mark else 'Fail')\n",
    "alpha_mii_pass_fail_counts = alpha_section['PP Result'].value_counts()\n",
    "print(\"--- ALPHA Section: PP Pass/Fail Counts ---\")\n",
    "print(alpha_mii_pass_fail_counts)"
   ]
  },
  {
   "cell_type": "code",
   "execution_count": 172,
   "id": "dd1465fb-9420-47d8-a0bc-63d27d4e796e",
   "metadata": {},
   "outputs": [
    {
     "name": "stdout",
     "output_type": "stream",
     "text": [
      "--- ALPHA Section: PP Pass/Fail Counts ---\n",
      "PP Result\n",
      "Pass    74\n",
      "Fail    14\n",
      "Name: count, dtype: int64\n"
     ]
    }
   ],
   "source": [
    "passing_mark = 10\n",
    "alpha_section = a[a['SECTION'] == 'SIGMA'].copy()  \n",
    "alpha_section.loc[:, 'PP'] = pd.to_numeric(alpha_section['PP'], errors='coerce')\n",
    "alpha_section.loc[:, 'PP Result'] = alpha_section['PP'].apply(lambda x: 'Pass' if x >= passing_mark else 'Fail')\n",
    "alpha_mii_pass_fail_counts = alpha_section['PP Result'].value_counts()\n",
    "print(\"--- ALPHA Section: PP Pass/Fail Counts ---\")\n",
    "print(alpha_mii_pass_fail_counts)"
   ]
  },
  {
   "cell_type": "code",
   "execution_count": 174,
   "id": "33b00cc6-0599-4757-abb8-153db37a1c67",
   "metadata": {},
   "outputs": [
    {
     "name": "stdout",
     "output_type": "stream",
     "text": [
      "--- ALPHA Section: BEEE Pass/Fail Counts ---\n",
      "BEEE Result\n",
      "Pass    82\n",
      "Fail     8\n",
      "Name: count, dtype: int64\n"
     ]
    }
   ],
   "source": [
    "passing_mark = 10\n",
    "alpha_section = a[a['SECTION'] == 'ALPHA'].copy()  \n",
    "alpha_section.loc[:, 'BEEE'] = pd.to_numeric(alpha_section['BEEE'], errors='coerce')\n",
    "alpha_section.loc[:, 'BEEE Result'] = alpha_section['BEEE'].apply(lambda x: 'Pass' if x >= passing_mark else 'Fail')\n",
    "alpha_mii_pass_fail_counts = alpha_section['BEEE Result'].value_counts()\n",
    "print(\"--- ALPHA Section: BEEE Pass/Fail Counts ---\")\n",
    "print(alpha_mii_pass_fail_counts)"
   ]
  },
  {
   "cell_type": "code",
   "execution_count": 176,
   "id": "6c131f46-b7ae-458e-a60a-0cc2be8f0bb0",
   "metadata": {},
   "outputs": [
    {
     "name": "stdout",
     "output_type": "stream",
     "text": [
      "--- ALPHA Section: BEEE Pass/Fail Counts ---\n",
      "BEEE Result\n",
      "Pass    49\n",
      "Fail    41\n",
      "Name: count, dtype: int64\n"
     ]
    }
   ],
   "source": [
    "passing_mark = 10\n",
    "alpha_section = a[a['SECTION'] == 'BETA'].copy()  \n",
    "alpha_section.loc[:, 'BEEE'] = pd.to_numeric(alpha_section['BEEE'], errors='coerce')\n",
    "alpha_section.loc[:, 'BEEE Result'] = alpha_section['BEEE'].apply(lambda x: 'Pass' if x >= passing_mark else 'Fail')\n",
    "alpha_mii_pass_fail_counts = alpha_section['BEEE Result'].value_counts()\n",
    "print(\"--- ALPHA Section: BEEE Pass/Fail Counts ---\")\n",
    "print(alpha_mii_pass_fail_counts)"
   ]
  },
  {
   "cell_type": "code",
   "execution_count": 178,
   "id": "2a6314b0-9235-4d5a-a889-cf094a7ec577",
   "metadata": {},
   "outputs": [
    {
     "name": "stdout",
     "output_type": "stream",
     "text": [
      "--- ALPHA Section: BEEE Pass/Fail Counts ---\n",
      "BEEE Result\n",
      "Pass    73\n",
      "Fail    17\n",
      "Name: count, dtype: int64\n"
     ]
    }
   ],
   "source": [
    "passing_mark = 10\n",
    "alpha_section = a[a['SECTION'] == 'GAMMA'].copy()  \n",
    "alpha_section.loc[:, 'BEEE'] = pd.to_numeric(alpha_section['BEEE'], errors='coerce')\n",
    "alpha_section.loc[:, 'BEEE Result'] = alpha_section['BEEE'].apply(lambda x: 'Pass' if x >= passing_mark else 'Fail')\n",
    "alpha_mii_pass_fail_counts = alpha_section['BEEE Result'].value_counts()\n",
    "print(\"--- ALPHA Section: BEEE Pass/Fail Counts ---\")\n",
    "print(alpha_mii_pass_fail_counts)"
   ]
  },
  {
   "cell_type": "code",
   "execution_count": 180,
   "id": "0f693be7-a8d3-4ec7-8355-4d7b9ddeeb34",
   "metadata": {},
   "outputs": [
    {
     "name": "stdout",
     "output_type": "stream",
     "text": [
      "--- ALPHA Section: BEEE Pass/Fail Counts ---\n",
      "BEEE Result\n",
      "Fail    46\n",
      "Pass    44\n",
      "Name: count, dtype: int64\n"
     ]
    }
   ],
   "source": [
    "passing_mark = 10\n",
    "alpha_section = a[a['SECTION'] == 'DELTA'].copy()  \n",
    "alpha_section.loc[:, 'BEEE'] = pd.to_numeric(alpha_section['BEEE'], errors='coerce')\n",
    "alpha_section.loc[:, 'BEEE Result'] = alpha_section['BEEE'].apply(lambda x: 'Pass' if x >= passing_mark else 'Fail')\n",
    "alpha_mii_pass_fail_counts = alpha_section['BEEE Result'].value_counts()\n",
    "print(\"--- ALPHA Section: BEEE Pass/Fail Counts ---\")\n",
    "print(alpha_mii_pass_fail_counts)"
   ]
  },
  {
   "cell_type": "code",
   "execution_count": 182,
   "id": "4b276f84-5c46-4631-951f-041de2944c17",
   "metadata": {},
   "outputs": [
    {
     "name": "stdout",
     "output_type": "stream",
     "text": [
      "--- ALPHA Section: BEEE Pass/Fail Counts ---\n",
      "BEEE Result\n",
      "Pass    65\n",
      "Fail    23\n",
      "Name: count, dtype: int64\n"
     ]
    }
   ],
   "source": [
    "passing_mark = 10\n",
    "alpha_section = a[a['SECTION'] == 'SIGMA'].copy()  \n",
    "alpha_section.loc[:, 'BEEE'] = pd.to_numeric(alpha_section['BEEE'], errors='coerce')\n",
    "alpha_section.loc[:, 'BEEE Result'] = alpha_section['BEEE'].apply(lambda x: 'Pass' if x >= passing_mark else 'Fail')\n",
    "alpha_mii_pass_fail_counts = alpha_section['BEEE Result'].value_counts()\n",
    "print(\"--- ALPHA Section: BEEE Pass/Fail Counts ---\")\n",
    "print(alpha_mii_pass_fail_counts)"
   ]
  },
  {
   "cell_type": "code",
   "execution_count": 184,
   "id": "c1243fb6-3723-4963-8d78-c3e4f4c38c9e",
   "metadata": {},
   "outputs": [
    {
     "name": "stdout",
     "output_type": "stream",
     "text": [
      "--- ALPHA Section: BEEE Pass/Fail Counts ---\n",
      "BEEE Result\n",
      "Pass    69\n",
      "Fail    21\n",
      "Name: count, dtype: int64\n"
     ]
    }
   ],
   "source": [
    "passing_mark = 10\n",
    "alpha_section = a[a['SECTION'] == 'OMEGA'].copy()  \n",
    "alpha_section.loc[:, 'BEEE'] = pd.to_numeric(alpha_section['BEEE'], errors='coerce')\n",
    "alpha_section.loc[:, 'BEEE Result'] = alpha_section['BEEE'].apply(lambda x: 'Pass' if x >= passing_mark else 'Fail')\n",
    "alpha_mii_pass_fail_counts = alpha_section['BEEE Result'].value_counts()\n",
    "print(\"--- ALPHA Section: BEEE Pass/Fail Counts ---\")\n",
    "print(alpha_mii_pass_fail_counts)"
   ]
  },
  {
   "cell_type": "code",
   "execution_count": 186,
   "id": "26013971-b3be-4970-ad78-ec4f6d672d0f",
   "metadata": {},
   "outputs": [
    {
     "name": "stdout",
     "output_type": "stream",
     "text": [
      "--- ALPHA Section: BEEE Pass/Fail Counts ---\n",
      "BEEE Result\n",
      "Pass    72\n",
      "Fail    18\n",
      "Name: count, dtype: int64\n"
     ]
    }
   ],
   "source": [
    "passing_mark = 10\n",
    "alpha_section = a[a['SECTION'] == 'ZETA'].copy()  \n",
    "alpha_section.loc[:, 'BEEE'] = pd.to_numeric(alpha_section['BEEE'], errors='coerce')\n",
    "alpha_section.loc[:, 'BEEE Result'] = alpha_section['BEEE'].apply(lambda x: 'Pass' if x >= passing_mark else 'Fail')\n",
    "alpha_mii_pass_fail_counts = alpha_section['BEEE Result'].value_counts()\n",
    "print(\"--- ALPHA Section: BEEE Pass/Fail Counts ---\")\n",
    "print(alpha_mii_pass_fail_counts)"
   ]
  },
  {
   "cell_type": "code",
   "execution_count": 188,
   "id": "30aa28ec-4ec1-44b1-8bb7-13b579d17776",
   "metadata": {},
   "outputs": [
    {
     "name": "stdout",
     "output_type": "stream",
     "text": [
      "--- ALPHA Section: BEEE Pass/Fail Counts ---\n",
      "BEEE Result\n",
      "Pass    71\n",
      "Fail    17\n",
      "Name: count, dtype: int64\n"
     ]
    }
   ],
   "source": [
    "passing_mark = 10\n",
    "alpha_section = a[a['SECTION'] == 'EPSILON'].copy()  \n",
    "alpha_section.loc[:, 'BEEE'] = pd.to_numeric(alpha_section['BEEE'], errors='coerce')\n",
    "alpha_section.loc[:, 'BEEE Result'] = alpha_section['BEEE'].apply(lambda x: 'Pass' if x >= passing_mark else 'Fail')\n",
    "alpha_mii_pass_fail_counts = alpha_section['BEEE Result'].value_counts()\n",
    "print(\"--- ALPHA Section: BEEE Pass/Fail Counts ---\")\n",
    "print(alpha_mii_pass_fail_counts)"
   ]
  },
  {
   "cell_type": "code",
   "execution_count": 190,
   "id": "73630f05-d2ed-4686-a524-07b3e0b09687",
   "metadata": {},
   "outputs": [
    {
     "name": "stdout",
     "output_type": "stream",
     "text": [
      "--- ALPHA Section: FL Pass/Fail Counts ---\n",
      "FL Result\n",
      "Pass    89\n",
      "Fail     1\n",
      "Name: count, dtype: int64\n"
     ]
    }
   ],
   "source": [
    "passing_mark = 10\n",
    "alpha_section = a[a['SECTION'] == 'ALPHA'].copy()  \n",
    "alpha_section.loc[:, 'FL'] = pd.to_numeric(alpha_section['FL'], errors='coerce')\n",
    "alpha_section.loc[:, 'FL Result'] = alpha_section['FL'].apply(lambda x: 'Pass' if x >= passing_mark else 'Fail')\n",
    "alpha_mii_pass_fail_counts = alpha_section['FL Result'].value_counts()\n",
    "print(\"--- ALPHA Section: FL Pass/Fail Counts ---\")\n",
    "print(alpha_mii_pass_fail_counts)"
   ]
  },
  {
   "cell_type": "code",
   "execution_count": 192,
   "id": "9828a80b-817d-4866-9ce4-8f1a26f4ffc2",
   "metadata": {},
   "outputs": [
    {
     "name": "stdout",
     "output_type": "stream",
     "text": [
      "--- ALPHA Section: FL Pass/Fail Counts ---\n",
      "FL Result\n",
      "Pass    89\n",
      "Fail     1\n",
      "Name: count, dtype: int64\n"
     ]
    }
   ],
   "source": [
    "passing_mark = 10\n",
    "alpha_section = a[a['SECTION'] == 'BETA'].copy()  \n",
    "alpha_section.loc[:, 'FL'] = pd.to_numeric(alpha_section['FL'], errors='coerce')\n",
    "alpha_section.loc[:, 'FL Result'] = alpha_section['FL'].apply(lambda x: 'Pass' if x >= passing_mark else 'Fail')\n",
    "alpha_mii_pass_fail_counts = alpha_section['FL Result'].value_counts()\n",
    "print(\"--- ALPHA Section: FL Pass/Fail Counts ---\")\n",
    "print(alpha_mii_pass_fail_counts)"
   ]
  },
  {
   "cell_type": "code",
   "execution_count": 194,
   "id": "dbec0f1d-6dc3-4fdc-8a71-5c8664d3449e",
   "metadata": {},
   "outputs": [
    {
     "name": "stdout",
     "output_type": "stream",
     "text": [
      "--- GAMMA Section: FL Pass/Fail Counts ---\n",
      "FL Result\n",
      "Pass    88\n",
      "Fail     2\n",
      "Name: count, dtype: int64\n"
     ]
    }
   ],
   "source": [
    "passing_mark = 10\n",
    "alpha_section = a[a['SECTION'] == 'GAMMA'].copy()  \n",
    "alpha_section.loc[:, 'FL'] = pd.to_numeric(alpha_section['FL'], errors='coerce')\n",
    "alpha_section.loc[:, 'FL Result'] = alpha_section['FL'].apply(lambda x: 'Pass' if x >= passing_mark else 'Fail')\n",
    "alpha_mii_pass_fail_counts = alpha_section['FL Result'].value_counts()\n",
    "print(\"--- GAMMA Section: FL Pass/Fail Counts ---\")\n",
    "print(alpha_mii_pass_fail_counts)"
   ]
  },
  {
   "cell_type": "code",
   "execution_count": 196,
   "id": "24e25277-ce45-48b6-b3c3-a1fdbee696a1",
   "metadata": {},
   "outputs": [
    {
     "name": "stdout",
     "output_type": "stream",
     "text": [
      "--- DELTA Section: FL Pass/Fail Counts ---\n",
      "FL Result\n",
      "Pass    89\n",
      "Fail     1\n",
      "Name: count, dtype: int64\n"
     ]
    }
   ],
   "source": [
    "passing_mark = 10\n",
    "alpha_section = a[a['SECTION'] == 'DELTA'].copy()  \n",
    "alpha_section.loc[:, 'FL'] = pd.to_numeric(alpha_section['FL'], errors='coerce')\n",
    "alpha_section.loc[:, 'FL Result'] = alpha_section['FL'].apply(lambda x: 'Pass' if x >= passing_mark else 'Fail')\n",
    "alpha_mii_pass_fail_counts = alpha_section['FL Result'].value_counts()\n",
    "print(\"--- DELTA Section: FL Pass/Fail Counts ---\")\n",
    "print(alpha_mii_pass_fail_counts)"
   ]
  },
  {
   "cell_type": "code",
   "execution_count": 198,
   "id": "548148cd-66b8-4096-8c8e-61c00d72b565",
   "metadata": {},
   "outputs": [
    {
     "name": "stdout",
     "output_type": "stream",
     "text": [
      "--- SIGMA Section: FL Pass/Fail Counts ---\n",
      "FL Result\n",
      "Pass    86\n",
      "Fail     2\n",
      "Name: count, dtype: int64\n"
     ]
    }
   ],
   "source": [
    "passing_mark = 10\n",
    "alpha_section = a[a['SECTION'] == 'SIGMA'].copy()  \n",
    "alpha_section.loc[:, 'FL'] = pd.to_numeric(alpha_section['FL'], errors='coerce')\n",
    "alpha_section.loc[:, 'FL Result'] = alpha_section['FL'].apply(lambda x: 'Pass' if x >= passing_mark else 'Fail')\n",
    "alpha_mii_pass_fail_counts = alpha_section['FL Result'].value_counts()\n",
    "print(\"--- SIGMA Section: FL Pass/Fail Counts ---\")\n",
    "print(alpha_mii_pass_fail_counts)"
   ]
  },
  {
   "cell_type": "code",
   "execution_count": 200,
   "id": "e5c38533-4aa9-43fa-aa13-1c103cefaaf0",
   "metadata": {},
   "outputs": [
    {
     "name": "stdout",
     "output_type": "stream",
     "text": [
      "--- OMEGA Section: FL Pass/Fail Counts ---\n",
      "FL Result\n",
      "Pass    78\n",
      "Fail    12\n",
      "Name: count, dtype: int64\n"
     ]
    }
   ],
   "source": [
    "passing_mark = 10\n",
    "alpha_section = a[a['SECTION'] == 'OMEGA'].copy()  \n",
    "alpha_section.loc[:, 'FL'] = pd.to_numeric(alpha_section['FL'], errors='coerce')\n",
    "alpha_section.loc[:, 'FL Result'] = alpha_section['FL'].apply(lambda x: 'Pass' if x >= passing_mark else 'Fail')\n",
    "alpha_mii_pass_fail_counts = alpha_section['FL Result'].value_counts()\n",
    "print(\"--- OMEGA Section: FL Pass/Fail Counts ---\")\n",
    "print(alpha_mii_pass_fail_counts)"
   ]
  },
  {
   "cell_type": "code",
   "execution_count": 202,
   "id": "9729ad1f-c5e4-4887-808e-9c7bbcdb6355",
   "metadata": {},
   "outputs": [
    {
     "name": "stdout",
     "output_type": "stream",
     "text": [
      "--- ZETA Section: FL Pass/Fail Counts ---\n",
      "FL Result\n",
      "Pass    75\n",
      "Fail    15\n",
      "Name: count, dtype: int64\n"
     ]
    }
   ],
   "source": [
    "passing_mark = 10\n",
    "alpha_section = a[a['SECTION'] == 'ZETA'].copy()  \n",
    "alpha_section.loc[:, 'FL'] = pd.to_numeric(alpha_section['FL'], errors='coerce')\n",
    "alpha_section.loc[:, 'FL Result'] = alpha_section['FL'].apply(lambda x: 'Pass' if x >= passing_mark else 'Fail')\n",
    "alpha_mii_pass_fail_counts = alpha_section['FL Result'].value_counts()\n",
    "print(\"--- ZETA Section: FL Pass/Fail Counts ---\")\n",
    "print(alpha_mii_pass_fail_counts)"
   ]
  },
  {
   "cell_type": "code",
   "execution_count": 204,
   "id": "2f3ccd6c-685a-4039-8812-0dc1bb01386b",
   "metadata": {},
   "outputs": [
    {
     "name": "stdout",
     "output_type": "stream",
     "text": [
      "--- EPSILON Section: EPSILON Pass/Fail Counts ---\n",
      "FL Result\n",
      "Pass    78\n",
      "Fail    12\n",
      "Name: count, dtype: int64\n"
     ]
    }
   ],
   "source": [
    "passing_mark = 10\n",
    "alpha_section = a[a['SECTION'] == 'OMEGA'].copy()  \n",
    "alpha_section.loc[:, 'FL'] = pd.to_numeric(alpha_section['FL'], errors='coerce')\n",
    "alpha_section.loc[:, 'FL Result'] = alpha_section['FL'].apply(lambda x: 'Pass' if x >= passing_mark else 'Fail')\n",
    "alpha_mii_pass_fail_counts = alpha_section['FL Result'].value_counts()\n",
    "print(\"--- EPSILON Section: EPSILON Pass/Fail Counts ---\")\n",
    "print(alpha_mii_pass_fail_counts)"
   ]
  },
  {
   "cell_type": "code",
   "execution_count": 206,
   "id": "4b8f415a-6bc4-46da-a32f-9b73bab62b99",
   "metadata": {},
   "outputs": [
    {
     "name": "stdout",
     "output_type": "stream",
     "text": [
      "--- ALPHA Section: PP Pass/Fail Counts ---\n",
      "PP Result\n",
      "Pass    74\n",
      "Fail    16\n",
      "Name: count, dtype: int64\n"
     ]
    }
   ],
   "source": [
    "passing_mark = 10\n",
    "alpha_section = a[a['SECTION'] == 'OMEGA'].copy()  \n",
    "alpha_section.loc[:, 'PP'] = pd.to_numeric(alpha_section['PP'], errors='coerce')\n",
    "alpha_section.loc[:, 'PP Result'] = alpha_section['PP'].apply(lambda x: 'Pass' if x >= passing_mark else 'Fail')\n",
    "alpha_mii_pass_fail_counts = alpha_section['PP Result'].value_counts()\n",
    "print(\"--- ALPHA Section: PP Pass/Fail Counts ---\")\n",
    "print(alpha_mii_pass_fail_counts)"
   ]
  },
  {
   "cell_type": "code",
   "execution_count": 208,
   "id": "7c382ddc-49e7-45c6-806a-b163679cc177",
   "metadata": {},
   "outputs": [
    {
     "name": "stdout",
     "output_type": "stream",
     "text": [
      "--- ALPHA Section: BEEE Pass/Fail Counts ---\n",
      "BEEE Result\n",
      "Pass    69\n",
      "Fail    21\n",
      "Name: count, dtype: int64\n"
     ]
    }
   ],
   "source": [
    "passing_mark = 10\n",
    "alpha_section = a[a['SECTION'] == 'OMEGA'].copy()  \n",
    "alpha_section.loc[:, 'BEEE'] = pd.to_numeric(alpha_section['BEEE'], errors='coerce')\n",
    "alpha_section.loc[:, 'BEEE Result'] = alpha_section['BEEE'].apply(lambda x: 'Pass' if x >= passing_mark else 'Fail')\n",
    "alpha_mii_pass_fail_counts = alpha_section['BEEE Result'].value_counts()\n",
    "print(\"--- ALPHA Section: BEEE Pass/Fail Counts ---\")\n",
    "print(alpha_mii_pass_fail_counts)"
   ]
  },
  {
   "cell_type": "code",
   "execution_count": 210,
   "id": "4f6649e1-8024-45a1-857d-77874290c873",
   "metadata": {},
   "outputs": [
    {
     "name": "stdout",
     "output_type": "stream",
     "text": [
      "--- ALPHA Section: M-II Pass/Fail Counts ---\n",
      "M-II Result\n",
      "Fail    58\n",
      "Pass    32\n",
      "Name: count, dtype: int64\n"
     ]
    }
   ],
   "source": [
    "passing_mark = 10\n",
    "alpha_section = a[a['SECTION'] == 'OMEGA'].copy()  \n",
    "alpha_section.loc[:, 'M-II'] = pd.to_numeric(alpha_section['M-II'], errors='coerce')\n",
    "alpha_section.loc[:, 'M-II Result'] = alpha_section['M-II'].apply(lambda x: 'Pass' if x >= passing_mark else 'Fail')\n",
    "alpha_mii_pass_fail_counts = alpha_section['M-II Result'].value_counts()\n",
    "print(\"--- ALPHA Section: M-II Pass/Fail Counts ---\")\n",
    "print(alpha_mii_pass_fail_counts)"
   ]
  },
  {
   "cell_type": "code",
   "execution_count": 212,
   "id": "ad8ad8f6-7410-4c8e-be8b-52f610111aa5",
   "metadata": {},
   "outputs": [
    {
     "name": "stdout",
     "output_type": "stream",
     "text": [
      "--- ALPHA Section: FL Pass/Fail Counts ---\n",
      "FL Result\n",
      "Pass    74\n",
      "Fail    16\n",
      "Name: count, dtype: int64\n"
     ]
    }
   ],
   "source": [
    "passing_mark = 10\n",
    "alpha_section = a[a['SECTION'] == 'OMEGA'].copy()  \n",
    "alpha_section.loc[:, 'FL'] = pd.to_numeric(alpha_section['FL'], errors='coerce')\n",
    "alpha_section.loc[:, 'FL Result'] = alpha_section['PP'].apply(lambda x: 'Pass' if x >= passing_mark else 'Fail')\n",
    "alpha_mii_pass_fail_counts = alpha_section['FL Result'].value_counts()\n",
    "print(\"--- ALPHA Section: FL Pass/Fail Counts ---\")\n",
    "print(alpha_mii_pass_fail_counts)"
   ]
  },
  {
   "cell_type": "code",
   "execution_count": 214,
   "id": "dfe9981d-dd4d-451a-b8b5-cb2bdc5edb17",
   "metadata": {},
   "outputs": [
    {
     "name": "stdout",
     "output_type": "stream",
     "text": [
      "--- ALPHA Section: FIMS Pass/Fail Counts ---\n",
      "FIMS Result\n",
      "Pass    83\n",
      "Fail     7\n",
      "Name: count, dtype: int64\n"
     ]
    }
   ],
   "source": [
    "passing_mark = 10\n",
    "alpha_section = a[a['SECTION'] == 'OMEGA'].copy()  \n",
    "alpha_section.loc[:, 'FIMS'] = pd.to_numeric(alpha_section['FIMS'], errors='coerce')\n",
    "alpha_section.loc[:, 'FIMS Result'] = alpha_section['FIMS'].apply(lambda x: 'Pass' if x >= passing_mark else 'Fail')\n",
    "alpha_mii_pass_fail_counts = alpha_section['FIMS Result'].value_counts()\n",
    "print(\"--- ALPHA Section: FIMS Pass/Fail Counts ---\")\n",
    "print(alpha_mii_pass_fail_counts)"
   ]
  },
  {
   "cell_type": "code",
   "execution_count": 216,
   "id": "5e9adfdf-b466-4c16-9abc-84ee67b37035",
   "metadata": {},
   "outputs": [
    {
     "name": "stdout",
     "output_type": "stream",
     "text": [
      "--- ALPHA Section: DV Pass/Fail Counts ---\n",
      "DV Result\n",
      "Pass    80\n",
      "Fail    10\n",
      "Name: count, dtype: int64\n"
     ]
    }
   ],
   "source": [
    "passing_mark = 10\n",
    "alpha_section = a[a['SECTION'] == 'OMEGA'].copy()  \n",
    "alpha_section.loc[:, 'DV'] = pd.to_numeric(alpha_section['DV'], errors='coerce')\n",
    "alpha_section.loc[:, 'DV Result'] = alpha_section['DV'].apply(lambda x: 'Pass' if x >= passing_mark else 'Fail')\n",
    "alpha_mii_pass_fail_counts = alpha_section['DV Result'].value_counts()\n",
    "print(\"--- ALPHA Section: DV Pass/Fail Counts ---\")\n",
    "print(alpha_mii_pass_fail_counts)"
   ]
  },
  {
   "cell_type": "code",
   "execution_count": 218,
   "id": "adff48c2-8199-45c1-858d-3eec17a0ead2",
   "metadata": {},
   "outputs": [
    {
     "data": {
      "text/html": [
       "<div>\n",
       "<style scoped>\n",
       "    .dataframe tbody tr th:only-of-type {\n",
       "        vertical-align: middle;\n",
       "    }\n",
       "\n",
       "    .dataframe tbody tr th {\n",
       "        vertical-align: top;\n",
       "    }\n",
       "\n",
       "    .dataframe thead th {\n",
       "        text-align: right;\n",
       "    }\n",
       "</style>\n",
       "<table border=\"1\" class=\"dataframe\">\n",
       "  <thead>\n",
       "    <tr style=\"text-align: right;\">\n",
       "      <th></th>\n",
       "      <th>S.NO</th>\n",
       "      <th>SECTION</th>\n",
       "      <th>DV</th>\n",
       "      <th>M-II</th>\n",
       "      <th>PP</th>\n",
       "      <th>BEEE</th>\n",
       "      <th>FL</th>\n",
       "      <th>FIMS</th>\n",
       "      <th>TOTAL</th>\n",
       "      <th>Backlog_Count</th>\n",
       "      <th>Percentage</th>\n",
       "      <th>Grade</th>\n",
       "      <th>backlog</th>\n",
       "      <th>DV Result</th>\n",
       "    </tr>\n",
       "  </thead>\n",
       "  <tbody>\n",
       "    <tr>\n",
       "      <th>82</th>\n",
       "      <td>83</td>\n",
       "      <td>ALPHA</td>\n",
       "      <td>2.0</td>\n",
       "      <td>0.0</td>\n",
       "      <td>2.0</td>\n",
       "      <td>0.0</td>\n",
       "      <td>0.0</td>\n",
       "      <td>0.0</td>\n",
       "      <td>4.0</td>\n",
       "      <td>6</td>\n",
       "      <td>6.666667</td>\n",
       "      <td>Fail</td>\n",
       "      <td>None</td>\n",
       "      <td>Fail</td>\n",
       "    </tr>\n",
       "    <tr>\n",
       "      <th>57</th>\n",
       "      <td>58</td>\n",
       "      <td>ALPHA</td>\n",
       "      <td>2.0</td>\n",
       "      <td>2.0</td>\n",
       "      <td>4.0</td>\n",
       "      <td>10.0</td>\n",
       "      <td>10.0</td>\n",
       "      <td>3.0</td>\n",
       "      <td>31.0</td>\n",
       "      <td>4</td>\n",
       "      <td>51.666667</td>\n",
       "      <td>Fail</td>\n",
       "      <td>None</td>\n",
       "      <td>Fail</td>\n",
       "    </tr>\n",
       "    <tr>\n",
       "      <th>20</th>\n",
       "      <td>21</td>\n",
       "      <td>ALPHA</td>\n",
       "      <td>4.0</td>\n",
       "      <td>2.0</td>\n",
       "      <td>5.0</td>\n",
       "      <td>3.0</td>\n",
       "      <td>16.0</td>\n",
       "      <td>9.0</td>\n",
       "      <td>39.0</td>\n",
       "      <td>5</td>\n",
       "      <td>65.000000</td>\n",
       "      <td>Fail</td>\n",
       "      <td>None</td>\n",
       "      <td>Fail</td>\n",
       "    </tr>\n",
       "    <tr>\n",
       "      <th>88</th>\n",
       "      <td>89</td>\n",
       "      <td>ALPHA</td>\n",
       "      <td>2.0</td>\n",
       "      <td>17.0</td>\n",
       "      <td>0.0</td>\n",
       "      <td>3.0</td>\n",
       "      <td>15.0</td>\n",
       "      <td>2.0</td>\n",
       "      <td>39.0</td>\n",
       "      <td>4</td>\n",
       "      <td>65.000000</td>\n",
       "      <td>Fail</td>\n",
       "      <td>None</td>\n",
       "      <td>Fail</td>\n",
       "    </tr>\n",
       "    <tr>\n",
       "      <th>27</th>\n",
       "      <td>28</td>\n",
       "      <td>ALPHA</td>\n",
       "      <td>5.0</td>\n",
       "      <td>4.0</td>\n",
       "      <td>3.0</td>\n",
       "      <td>12.0</td>\n",
       "      <td>13.0</td>\n",
       "      <td>5.0</td>\n",
       "      <td>42.0</td>\n",
       "      <td>4</td>\n",
       "      <td>70.000000</td>\n",
       "      <td>Fail</td>\n",
       "      <td>None</td>\n",
       "      <td>Fail</td>\n",
       "    </tr>\n",
       "    <tr>\n",
       "      <th>...</th>\n",
       "      <td>...</td>\n",
       "      <td>...</td>\n",
       "      <td>...</td>\n",
       "      <td>...</td>\n",
       "      <td>...</td>\n",
       "      <td>...</td>\n",
       "      <td>...</td>\n",
       "      <td>...</td>\n",
       "      <td>...</td>\n",
       "      <td>...</td>\n",
       "      <td>...</td>\n",
       "      <td>...</td>\n",
       "      <td>...</td>\n",
       "      <td>...</td>\n",
       "    </tr>\n",
       "    <tr>\n",
       "      <th>26</th>\n",
       "      <td>27</td>\n",
       "      <td>ALPHA</td>\n",
       "      <td>17.0</td>\n",
       "      <td>19.0</td>\n",
       "      <td>20.0</td>\n",
       "      <td>20.0</td>\n",
       "      <td>20.0</td>\n",
       "      <td>18.0</td>\n",
       "      <td>114.0</td>\n",
       "      <td>0</td>\n",
       "      <td>190.000000</td>\n",
       "      <td>A+</td>\n",
       "      <td>None</td>\n",
       "      <td>Pass</td>\n",
       "    </tr>\n",
       "    <tr>\n",
       "      <th>11</th>\n",
       "      <td>12</td>\n",
       "      <td>ALPHA</td>\n",
       "      <td>20.0</td>\n",
       "      <td>20.0</td>\n",
       "      <td>20.0</td>\n",
       "      <td>20.0</td>\n",
       "      <td>19.0</td>\n",
       "      <td>16.0</td>\n",
       "      <td>115.0</td>\n",
       "      <td>0</td>\n",
       "      <td>191.666667</td>\n",
       "      <td>A+</td>\n",
       "      <td>None</td>\n",
       "      <td>Pass</td>\n",
       "    </tr>\n",
       "    <tr>\n",
       "      <th>79</th>\n",
       "      <td>80</td>\n",
       "      <td>ALPHA</td>\n",
       "      <td>19.0</td>\n",
       "      <td>20.0</td>\n",
       "      <td>20.0</td>\n",
       "      <td>19.0</td>\n",
       "      <td>20.0</td>\n",
       "      <td>17.0</td>\n",
       "      <td>115.0</td>\n",
       "      <td>0</td>\n",
       "      <td>191.666667</td>\n",
       "      <td>A+</td>\n",
       "      <td>None</td>\n",
       "      <td>Pass</td>\n",
       "    </tr>\n",
       "    <tr>\n",
       "      <th>69</th>\n",
       "      <td>70</td>\n",
       "      <td>ALPHA</td>\n",
       "      <td>20.0</td>\n",
       "      <td>20.0</td>\n",
       "      <td>20.0</td>\n",
       "      <td>19.0</td>\n",
       "      <td>20.0</td>\n",
       "      <td>18.0</td>\n",
       "      <td>117.0</td>\n",
       "      <td>0</td>\n",
       "      <td>195.000000</td>\n",
       "      <td>A+</td>\n",
       "      <td>None</td>\n",
       "      <td>Pass</td>\n",
       "    </tr>\n",
       "    <tr>\n",
       "      <th>23</th>\n",
       "      <td>24</td>\n",
       "      <td>ALPHA</td>\n",
       "      <td>20.0</td>\n",
       "      <td>20.0</td>\n",
       "      <td>20.0</td>\n",
       "      <td>20.0</td>\n",
       "      <td>20.0</td>\n",
       "      <td>18.0</td>\n",
       "      <td>118.0</td>\n",
       "      <td>0</td>\n",
       "      <td>196.666667</td>\n",
       "      <td>A+</td>\n",
       "      <td>None</td>\n",
       "      <td>Pass</td>\n",
       "    </tr>\n",
       "  </tbody>\n",
       "</table>\n",
       "<p>90 rows × 14 columns</p>\n",
       "</div>"
      ],
      "text/plain": [
       "    S.NO SECTION    DV  M-II    PP  BEEE    FL  FIMS  TOTAL  Backlog_Count  \\\n",
       "82    83   ALPHA   2.0   0.0   2.0   0.0   0.0   0.0    4.0              6   \n",
       "57    58   ALPHA   2.0   2.0   4.0  10.0  10.0   3.0   31.0              4   \n",
       "20    21   ALPHA   4.0   2.0   5.0   3.0  16.0   9.0   39.0              5   \n",
       "88    89   ALPHA   2.0  17.0   0.0   3.0  15.0   2.0   39.0              4   \n",
       "27    28   ALPHA   5.0   4.0   3.0  12.0  13.0   5.0   42.0              4   \n",
       "..   ...     ...   ...   ...   ...   ...   ...   ...    ...            ...   \n",
       "26    27   ALPHA  17.0  19.0  20.0  20.0  20.0  18.0  114.0              0   \n",
       "11    12   ALPHA  20.0  20.0  20.0  20.0  19.0  16.0  115.0              0   \n",
       "79    80   ALPHA  19.0  20.0  20.0  19.0  20.0  17.0  115.0              0   \n",
       "69    70   ALPHA  20.0  20.0  20.0  19.0  20.0  18.0  117.0              0   \n",
       "23    24   ALPHA  20.0  20.0  20.0  20.0  20.0  18.0  118.0              0   \n",
       "\n",
       "    Percentage Grade backlog DV Result  \n",
       "82    6.666667  Fail    None      Fail  \n",
       "57   51.666667  Fail    None      Fail  \n",
       "20   65.000000  Fail    None      Fail  \n",
       "88   65.000000  Fail    None      Fail  \n",
       "27   70.000000  Fail    None      Fail  \n",
       "..         ...   ...     ...       ...  \n",
       "26  190.000000    A+    None      Pass  \n",
       "11  191.666667    A+    None      Pass  \n",
       "79  191.666667    A+    None      Pass  \n",
       "69  195.000000    A+    None      Pass  \n",
       "23  196.666667    A+    None      Pass  \n",
       "\n",
       "[90 rows x 14 columns]"
      ]
     },
     "execution_count": 218,
     "metadata": {},
     "output_type": "execute_result"
    }
   ],
   "source": [
    "b=a[a[\"SECTION\"]==\"ALPHA\"]\n",
    "b"
   ]
  },
  {
   "cell_type": "code",
   "execution_count": 220,
   "id": "553869f9-cf7e-4ad4-8cfc-28b65b317eb0",
   "metadata": {},
   "outputs": [
    {
     "data": {
      "text/plain": [
       "13.411111111111111"
      ]
     },
     "execution_count": 220,
     "metadata": {},
     "output_type": "execute_result"
    }
   ],
   "source": [
    "b[\"DV\"].mean()"
   ]
  },
  {
   "cell_type": "code",
   "execution_count": 222,
   "id": "9fa01b7b-07aa-4114-bd97-3b6a7f0a1bc6",
   "metadata": {},
   "outputs": [
    {
     "data": {
      "text/plain": [
       "S.NO             26.124701\n",
       "DV                4.991891\n",
       "M-II              5.595432\n",
       "PP                5.343903\n",
       "BEEE              4.803037\n",
       "FL                3.808854\n",
       "FIMS              4.498314\n",
       "TOTAL            23.435357\n",
       "Backlog_Count     1.317130\n",
       "Percentage       39.058929\n",
       "dtype: float64"
      ]
     },
     "execution_count": 222,
     "metadata": {},
     "output_type": "execute_result"
    }
   ],
   "source": [
    "a[a[\"SECTION\"] == \"ALPHA\"].std(numeric_only=True)"
   ]
  },
  {
   "cell_type": "code",
   "execution_count": 224,
   "id": "0c2caefb-8909-4f61-a5f4-f886babacef7",
   "metadata": {},
   "outputs": [
    {
     "data": {
      "text/plain": [
       "S.NO             26.124701\n",
       "DV                4.308862\n",
       "M-II              6.385113\n",
       "PP                5.634919\n",
       "BEEE              5.694786\n",
       "FL                4.143795\n",
       "FIMS              3.798219\n",
       "TOTAL            24.909985\n",
       "Backlog_Count     1.454941\n",
       "Percentage       41.516642\n",
       "dtype: float64"
      ]
     },
     "execution_count": 224,
     "metadata": {},
     "output_type": "execute_result"
    }
   ],
   "source": [
    "a[a[\"SECTION\"] == \"DELTA\"].std(numeric_only=True)"
   ]
  },
  {
   "cell_type": "code",
   "execution_count": 226,
   "id": "1d76bf85-5085-4f97-a8f3-5d0686ce338d",
   "metadata": {},
   "outputs": [
    {
     "name": "stdout",
     "output_type": "stream",
     "text": [
      "<class 'pandas.core.frame.DataFrame'>\n",
      "Index: 716 entries, 556 to 507\n",
      "Data columns (total 14 columns):\n",
      " #   Column         Non-Null Count  Dtype  \n",
      "---  ------         --------------  -----  \n",
      " 0   S.NO           716 non-null    int64  \n",
      " 1   SECTION        716 non-null    object \n",
      " 2   DV             716 non-null    float64\n",
      " 3   M-II           716 non-null    float64\n",
      " 4   PP             716 non-null    float64\n",
      " 5   BEEE           716 non-null    float64\n",
      " 6   FL             716 non-null    float64\n",
      " 7   FIMS           716 non-null    float64\n",
      " 8   TOTAL          716 non-null    float64\n",
      " 9   Backlog_Count  716 non-null    int32  \n",
      " 10  Percentage     716 non-null    float64\n",
      " 11  Grade          716 non-null    object \n",
      " 12  backlog        0 non-null      object \n",
      " 13  DV Result      716 non-null    object \n",
      "dtypes: float64(8), int32(1), int64(1), object(4)\n",
      "memory usage: 81.1+ KB\n"
     ]
    }
   ],
   "source": [
    "a.info()"
   ]
  },
  {
   "cell_type": "code",
   "execution_count": 228,
   "id": "4ba1abf0-654d-477b-9945-d9e3aedd4f71",
   "metadata": {},
   "outputs": [
    {
     "data": {
      "text/plain": [
       "(716, 14)"
      ]
     },
     "execution_count": 228,
     "metadata": {},
     "output_type": "execute_result"
    }
   ],
   "source": [
    "a.shape"
   ]
  },
  {
   "cell_type": "code",
   "execution_count": 230,
   "id": "55839fc3-beb5-4e0f-9e41-ca849a197f66",
   "metadata": {},
   "outputs": [],
   "source": [
    "from scipy.stats import ttest_ind"
   ]
  },
  {
   "cell_type": "code",
   "execution_count": 231,
   "id": "935ceeff-83f1-41bd-bdf5-5be7e1fde740",
   "metadata": {},
   "outputs": [
    {
     "data": {
      "text/plain": [
       "82     2.0\n",
       "57     2.0\n",
       "20     4.0\n",
       "88     2.0\n",
       "27     5.0\n",
       "      ... \n",
       "26    17.0\n",
       "11    20.0\n",
       "79    19.0\n",
       "69    20.0\n",
       "23    20.0\n",
       "Name: DV, Length: 90, dtype: float64"
      ]
     },
     "execution_count": 231,
     "metadata": {},
     "output_type": "execute_result"
    }
   ],
   "source": [
    "a[a['SECTION']=='ALPHA']['DV']"
   ]
  },
  {
   "cell_type": "code",
   "execution_count": 232,
   "id": "c77fc8ae-e13e-4e83-a5e9-b00b60cc74c7",
   "metadata": {},
   "outputs": [
    {
     "data": {
      "text/plain": [
       "TtestResult(statistic=0.6207084248259586, pvalue=0.5355854399866022, df=178.0)"
      ]
     },
     "execution_count": 232,
     "metadata": {},
     "output_type": "execute_result"
    }
   ],
   "source": [
    "ttest_ind(a[a['SECTION']=='ALPHA']['DV'],a[a['SECTION']=='BETA']['DV'])"
   ]
  },
  {
   "cell_type": "code",
   "execution_count": 233,
   "id": "f04c5b8f-257c-44b4-a3d7-62545c10a2c3",
   "metadata": {},
   "outputs": [
    {
     "data": {
      "text/plain": [
       "SECTION\n",
       "DELTA      90\n",
       "GAMMA      90\n",
       "ZETA       90\n",
       "OMEGA      90\n",
       "ALPHA      90\n",
       "BETA       90\n",
       "SIGMA      88\n",
       "EPSILON    88\n",
       "Name: count, dtype: int64"
      ]
     },
     "execution_count": 233,
     "metadata": {},
     "output_type": "execute_result"
    }
   ],
   "source": [
    "a['SECTION'].value_counts()"
   ]
  },
  {
   "cell_type": "code",
   "execution_count": 235,
   "id": "569f3c25-be20-460f-af57-599456f1102a",
   "metadata": {},
   "outputs": [
    {
     "data": {
      "text/plain": [
       "TtestResult(statistic=0.6207084248259586, pvalue=0.5356400219163465, df=166.5388753745943)"
      ]
     },
     "execution_count": 235,
     "metadata": {},
     "output_type": "execute_result"
    }
   ],
   "source": [
    "ttest_ind(a[a['SECTION']=='ALPHA']['DV'],a[a['SECTION']=='BETA']['DV'], equal_var=False)"
   ]
  },
  {
   "cell_type": "code",
   "execution_count": 240,
   "id": "0e4359bf-0a59-48d8-b05a-5fe5ac0c8055",
   "metadata": {},
   "outputs": [],
   "source": [
    "from scipy.stats import ttest_rel"
   ]
  },
  {
   "cell_type": "code",
   "execution_count": 242,
   "id": "b4ee7e7a-9fed-4b0f-a3aa-2f267471ef68",
   "metadata": {},
   "outputs": [
    {
     "data": {
      "text/plain": [
       "TtestResult(statistic=0.9431880034153993, pvalue=0.34813809307814503, df=89)"
      ]
     },
     "execution_count": 242,
     "metadata": {},
     "output_type": "execute_result"
    }
   ],
   "source": [
    "ttest_rel(a[a['SECTION']=='ALPHA']['DV'],a[a['SECTION']=='BETA']['DV'])"
   ]
  },
  {
   "cell_type": "code",
   "execution_count": 244,
   "id": "47748550-fb6b-401d-ae18-5d32a1989793",
   "metadata": {},
   "outputs": [],
   "source": [
    "from scipy.stats import chi2_contingency\n"
   ]
  },
  {
   "cell_type": "code",
   "execution_count": 246,
   "id": "173e4bc1-9deb-4709-a1b0-db39fb880f88",
   "metadata": {},
   "outputs": [],
   "source": [
    "data=[a[a['SECTION']=='ALPHA']['DV']],[a[a['SECTION']=='BETA']['DV']]\n",
    "start,p,dof,expected=chi2_contingency(data)"
   ]
  },
  {
   "cell_type": "code",
   "execution_count": 248,
   "id": "94ab8f08-1546-4992-b2a2-0518546ae8be",
   "metadata": {},
   "outputs": [
    {
     "data": {
      "text/plain": [
       "75.43518108483696"
      ]
     },
     "execution_count": 248,
     "metadata": {},
     "output_type": "execute_result"
    }
   ],
   "source": [
    "start"
   ]
  },
  {
   "cell_type": "code",
   "execution_count": 250,
   "id": "1a49939a-d02f-4b33-a5ba-e907a62ceaf9",
   "metadata": {},
   "outputs": [
    {
     "data": {
      "text/plain": [
       "0.8468137156261379"
      ]
     },
     "execution_count": 250,
     "metadata": {},
     "output_type": "execute_result"
    }
   ],
   "source": [
    "p"
   ]
  },
  {
   "cell_type": "code",
   "execution_count": 252,
   "id": "ef151b7c-9421-437d-80ab-7002ce7263c1",
   "metadata": {},
   "outputs": [
    {
     "data": {
      "text/plain": [
       "array([[[ 4.57004628,  5.58561212,  6.60117796,  4.57004628,\n",
       "          8.12452671, 10.15565839,  8.12452671,  8.12452671,\n",
       "          9.14009255,  5.0778292 ,  9.14009255, 10.15565839,\n",
       "          7.61674379,  9.14009255,  9.64787547,  6.60117796,\n",
       "          8.12452671, 10.15565839,  4.57004628, 11.17122423,\n",
       "         12.18679007,  9.64787547, 14.72570467, 12.18679007,\n",
       "         10.15565839, 10.66344131, 15.23348759,  9.64787547,\n",
       "         12.69457299, 12.18679007, 10.66344131, 10.15565839,\n",
       "         14.21792175, 15.23348759, 13.20235591, 15.23348759,\n",
       "         12.18679007, 16.24905343, 11.67900715, 13.71013883,\n",
       "         13.20235591, 14.21792175, 14.72570467,  9.64787547,\n",
       "         12.18679007, 17.26461927, 13.71013883, 12.69457299,\n",
       "         15.74127051, 11.67900715, 14.21792175, 12.69457299,\n",
       "         13.20235591, 13.71013883, 13.71013883, 15.23348759,\n",
       "         16.24905343, 14.72570467, 15.23348759, 16.75683635,\n",
       "         16.24905343, 12.69457299, 14.72570467, 14.72570467,\n",
       "         15.23348759, 16.75683635, 16.75683635, 17.77240219,\n",
       "         17.26461927, 15.23348759, 17.77240219, 18.28018511,\n",
       "         17.26461927, 14.21792175, 17.26461927, 17.26461927,\n",
       "         19.29575095, 18.28018511, 16.75683635, 16.24905343,\n",
       "         19.80353387, 19.29575095, 17.26461927, 17.77240219,\n",
       "         17.77240219, 16.75683635, 18.78796803, 19.80353387,\n",
       "         20.31131679, 20.31131679]],\n",
       "\n",
       "       [[ 4.42995372,  5.41438788,  6.39882204,  4.42995372,\n",
       "          7.87547329,  9.84434161,  7.87547329,  7.87547329,\n",
       "          8.85990745,  4.9221708 ,  8.85990745,  9.84434161,\n",
       "          7.38325621,  8.85990745,  9.35212453,  6.39882204,\n",
       "          7.87547329,  9.84434161,  4.42995372, 10.82877577,\n",
       "         11.81320993,  9.35212453, 14.27429533, 11.81320993,\n",
       "          9.84434161, 10.33655869, 14.76651241,  9.35212453,\n",
       "         12.30542701, 11.81320993, 10.33655869,  9.84434161,\n",
       "         13.78207825, 14.76651241, 12.79764409, 14.76651241,\n",
       "         11.81320993, 15.75094657, 11.32099285, 13.28986117,\n",
       "         12.79764409, 13.78207825, 14.27429533,  9.35212453,\n",
       "         11.81320993, 16.73538073, 13.28986117, 12.30542701,\n",
       "         15.25872949, 11.32099285, 13.78207825, 12.30542701,\n",
       "         12.79764409, 13.28986117, 13.28986117, 14.76651241,\n",
       "         15.75094657, 14.27429533, 14.76651241, 16.24316365,\n",
       "         15.75094657, 12.30542701, 14.27429533, 14.27429533,\n",
       "         14.76651241, 16.24316365, 16.24316365, 17.22759781,\n",
       "         16.73538073, 14.76651241, 17.22759781, 17.71981489,\n",
       "         16.73538073, 13.78207825, 16.73538073, 16.73538073,\n",
       "         18.70424905, 17.71981489, 16.24316365, 15.75094657,\n",
       "         19.19646613, 18.70424905, 16.73538073, 17.22759781,\n",
       "         17.22759781, 16.24316365, 18.21203197, 19.19646613,\n",
       "         19.68868321, 19.68868321]]])"
      ]
     },
     "execution_count": 252,
     "metadata": {},
     "output_type": "execute_result"
    }
   ],
   "source": [
    "expected"
   ]
  },
  {
   "cell_type": "code",
   "execution_count": 254,
   "id": "f3aab6be-ac84-4965-9240-f26514b119e7",
   "metadata": {},
   "outputs": [
    {
     "data": {
      "text/plain": [
       "13.411111111111111"
      ]
     },
     "execution_count": 254,
     "metadata": {},
     "output_type": "execute_result"
    }
   ],
   "source": [
    "a[a[\"SECTION\"]==\"ALPHA\"].DV.mean()"
   ]
  },
  {
   "cell_type": "code",
   "execution_count": 256,
   "id": "f11510de-e71e-4147-ab20-7a84b3e685b1",
   "metadata": {},
   "outputs": [],
   "source": [
    "import scipy.stats as stats"
   ]
  },
  {
   "cell_type": "code",
   "execution_count": 258,
   "id": "84d46f32-a998-496d-a056-2956c4cf2745",
   "metadata": {},
   "outputs": [
    {
     "name": "stdout",
     "output_type": "stream",
     "text": [
      "-2.616154646179782 0.010446384280899498\n"
     ]
    }
   ],
   "source": [
    "t_stastistic, p_value = stats.ttest_1samp(a[a[\"SECTION\"]==\"ALPHA\"][\"DV\"], a.DV.mean())\n",
    "print(t_stastistic , p_value)"
   ]
  },
  {
   "cell_type": "code",
   "execution_count": 260,
   "id": "c77ccc5a-dc1d-4e26-bced-ab04202ba14c",
   "metadata": {},
   "outputs": [
    {
     "data": {
      "text/plain": [
       "14.787709497206704"
      ]
     },
     "execution_count": 260,
     "metadata": {},
     "output_type": "execute_result"
    }
   ],
   "source": [
    "a.DV.mean()"
   ]
  },
  {
   "cell_type": "code",
   "execution_count": 262,
   "id": "48339da5-f9be-4b20-aaf4-5f1fdc1bbf36",
   "metadata": {},
   "outputs": [
    {
     "name": "stdout",
     "output_type": "stream",
     "text": [
      "-4.444375088320685 2.5314931787997426e-05\n"
     ]
    }
   ],
   "source": [
    "t_stastistic, p_value = stats.ttest_1samp(a[a[\"SECTION\"]==\"BETA\"][\"DV\"],  a.DV.mean())\n",
    "print(t_stastistic , p_value)"
   ]
  },
  {
   "cell_type": "code",
   "execution_count": 264,
   "id": "d99de795-0bf3-4c78-959c-d60b0e049f35",
   "metadata": {},
   "outputs": [
    {
     "name": "stdout",
     "output_type": "stream",
     "text": [
      "0.04441352973978355 0.9646742748333578\n"
     ]
    }
   ],
   "source": [
    "t_stastistic, p_value = stats.ttest_1samp(a[a[\"SECTION\"]==\"GAMMA\"][\"DV\"],  a.DV.mean())\n",
    "print(t_stastistic , p_value)"
   ]
  },
  {
   "cell_type": "code",
   "execution_count": 266,
   "id": "58654be0-fcc4-432c-afab-e5c016016a9d",
   "metadata": {},
   "outputs": [
    {
     "name": "stdout",
     "output_type": "stream",
     "text": [
      "-2.027862439583779 0.04556465252959875\n"
     ]
    }
   ],
   "source": [
    "t_stastistic, p_value = stats.ttest_1samp(a[a[\"SECTION\"]==\"DELTA\"][\"DV\"],  a.DV.mean())\n",
    "print(t_stastistic , p_value)"
   ]
  },
  {
   "cell_type": "code",
   "execution_count": 268,
   "id": "83e6c0d0-c408-4f2c-bea1-6d028e7108fa",
   "metadata": {},
   "outputs": [
    {
     "name": "stdout",
     "output_type": "stream",
     "text": [
      "3.6369646834713203 0.00046681110517012844\n"
     ]
    }
   ],
   "source": [
    "t_stastistic, p_value = stats.ttest_1samp(a[a[\"SECTION\"]==\"SIGMA\"][\"DV\"], popmean=14.41)\n",
    "print(t_stastistic , p_value)"
   ]
  },
  {
   "cell_type": "code",
   "execution_count": 270,
   "id": "846a09ec-45ad-4a97-82fa-67db0ce621ee",
   "metadata": {},
   "outputs": [
    {
     "name": "stdout",
     "output_type": "stream",
     "text": [
      "3.2903789429100363 0.0014349291303171394\n"
     ]
    }
   ],
   "source": [
    "t_stastistic, p_value = stats.ttest_1samp(a[a[\"SECTION\"]==\"OMEGA\"][\"DV\"],  a.DV.mean())\n",
    "print(t_stastistic , p_value)"
   ]
  },
  {
   "cell_type": "code",
   "execution_count": 272,
   "id": "c8cc1b3c-a335-43f3-a397-aa23161ac9bb",
   "metadata": {},
   "outputs": [
    {
     "name": "stdout",
     "output_type": "stream",
     "text": [
      "1.145074331917612 0.25524830899967893\n"
     ]
    }
   ],
   "source": [
    "t_stastistic, p_value = stats.ttest_1samp(a[a[\"SECTION\"]==\"ZETA\"][\"DV\"],  a.DV.mean())\n",
    "print(t_stastistic , p_value)"
   ]
  },
  {
   "cell_type": "code",
   "execution_count": 274,
   "id": "6c1d137c-5407-43f4-9584-75e37600d345",
   "metadata": {},
   "outputs": [
    {
     "name": "stdout",
     "output_type": "stream",
     "text": [
      "1.218862767982525 0.22619090688375254\n"
     ]
    }
   ],
   "source": [
    "t_stastistic, p_value = stats.ttest_1samp(a[a[\"SECTION\"]==\"EPSILON\"][\"DV\"],  a.DV.mean())\n",
    "print(t_stastistic , p_value)"
   ]
  },
  {
   "cell_type": "code",
   "execution_count": 276,
   "id": "b5779a64-b22c-461e-9069-4c632542d46d",
   "metadata": {},
   "outputs": [
    {
     "name": "stdout",
     "output_type": "stream",
     "text": [
      "0.6207084248259586 0.5355854399866022\n"
     ]
    }
   ],
   "source": [
    "t_stastistic, p_value = ttest_ind(a[a[\"SECTION\"]==\"ALPHA\"][\"DV\"], a[a[\"SECTION\"]==\"BETA\"][\"DV\"])\n",
    "print(t_stastistic , p_value)"
   ]
  },
  {
   "cell_type": "code",
   "execution_count": 278,
   "id": "8bc39061-80d5-4617-a7cf-82e16713b7fd",
   "metadata": {},
   "outputs": [
    {
     "name": "stdout",
     "output_type": "stream",
     "text": [
      "0.9431880034153993 0.34813809307814503\n"
     ]
    }
   ],
   "source": [
    "t_stastistic, p_value = ttest_rel(a[a[\"SECTION\"]==\"ALPHA\"][\"DV\"], a[a[\"SECTION\"]==\"BETA\"][\"DV\"])\n",
    "print(t_stastistic , p_value)"
   ]
  },
  {
   "cell_type": "code",
   "execution_count": 280,
   "id": "476fe6a1-5a00-4c72-8690-8a125ea2db1e",
   "metadata": {},
   "outputs": [
    {
     "name": "stdout",
     "output_type": "stream",
     "text": [
      "-0.6553774955607539 0.5130708533507982\n"
     ]
    }
   ],
   "source": [
    "t_stastistic, p_value = ttest_ind(a[a[\"SECTION\"]==\"ALPHA\"][\"DV\"], a[a[\"SECTION\"]==\"DELTA\"][\"DV\"])\n",
    "print(t_stastistic , p_value)"
   ]
  },
  {
   "cell_type": "code",
   "execution_count": 282,
   "id": "d3d312b4-3211-419d-94f8-b857a4b3423b",
   "metadata": {},
   "outputs": [
    {
     "name": "stdout",
     "output_type": "stream",
     "text": [
      "T-statistic: 0.6207084248259586\n",
      "P-value: 0.5355854399866022\n"
     ]
    }
   ],
   "source": [
    "sample_alpha = a[a[\"SECTION\"] == \"ALPHA\"][\"DV\"]  \n",
    "sample_beta = a[a[\"SECTION\"] == \"BETA\"][\"DV\"]  \n",
    "t_statistic, p_value = stats.ttest_ind(sample_alpha, sample_beta)  \n",
    "print(\"T-statistic:\", t_statistic)  \n",
    "print(\"P-value:\", p_value)"
   ]
  },
  {
   "cell_type": "code",
   "execution_count": 284,
   "id": "bea295e8-4204-4b4d-8432-2366cddf063a",
   "metadata": {},
   "outputs": [
    {
     "data": {
      "text/plain": [
       "(716, 14)"
      ]
     },
     "execution_count": 284,
     "metadata": {},
     "output_type": "execute_result"
    }
   ],
   "source": [
    "a.shape"
   ]
  },
  {
   "cell_type": "markdown",
   "id": "35eae9ca-e43c-41a2-9e27-15e22951efb3",
   "metadata": {},
   "source": [
    "# Conclusion :\n",
    "The MIDMARKS dataset provides a detailed overview of student performance in six subjects during Semester 2, Mid 1 exams. By analyzing the data, we can identify top-performing students, subjects with high and low average scores, and areas where students need improvement.\n",
    "\n",
    "The presence of missing values suggests that some records may need cleaning for accurate analysis. Additionally, comparing subject-wise scores can help determine which subjects were more challenging for students.\n",
    "\n",
    "Overall, this dataset is valuable for academic evaluation, enabling teachers and administrators to track student progress, improve teaching strategies, and provide targeted support where needed. Further analysis, such as visualizations and statistical summaries, can offer deeper insights into student performance trends"
   ]
  },
  {
   "cell_type": "code",
   "execution_count": null,
   "id": "e275c14b-a22f-4bcb-9eb8-477a2ee16ec4",
   "metadata": {},
   "outputs": [],
   "source": []
  }
 ],
 "metadata": {
  "kernelspec": {
   "display_name": "Python [conda env:base] *",
   "language": "python",
   "name": "conda-base-py"
  },
  "language_info": {
   "codemirror_mode": {
    "name": "ipython",
    "version": 3
   },
   "file_extension": ".py",
   "mimetype": "text/x-python",
   "name": "python",
   "nbconvert_exporter": "python",
   "pygments_lexer": "ipython3",
   "version": "3.12.7"
  }
 },
 "nbformat": 4,
 "nbformat_minor": 5
}
